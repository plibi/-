{
 "cells": [
  {
   "cell_type": "markdown",
   "metadata": {
    "id": "ahRB8UaVnTEO"
   },
   "source": [
    "---\n",
    "# **0. Install Library**\n",
    "---"
   ]
  },
  {
   "cell_type": "code",
   "execution_count": 1,
   "metadata": {
    "colab": {
     "base_uri": "https://localhost:8080/",
     "height": 1000
    },
    "collapsed": true,
    "execution": {
     "iopub.execute_input": "2022-05-18T03:42:53.710576Z",
     "iopub.status.busy": "2022-05-18T03:42:53.710127Z",
     "iopub.status.idle": "2022-05-18T03:44:17.550464Z",
     "shell.execute_reply": "2022-05-18T03:44:17.549512Z",
     "shell.execute_reply.started": "2022-05-18T03:42:53.710465Z"
    },
    "executionInfo": {
     "elapsed": 195901,
     "status": "ok",
     "timestamp": 1654791863333,
     "user": {
      "displayName": "박재현",
      "userId": "00992234259710462459"
     },
     "user_tz": -540
    },
    "id": "G22R0gC7RscD",
    "outputId": "6ed52905-676b-4d10-9b3c-750fbe69ab1c"
   },
   "outputs": [
    {
     "name": "stdout",
     "output_type": "stream",
     "text": [
      "Looking in indexes: https://pypi.org/simple, https://us-python.pkg.dev/colab-wheels/public/simple/\n",
      "Collecting pyldavis\n",
      "  Downloading pyLDAvis-3.3.1.tar.gz (1.7 MB)\n",
      "\u001b[K     |████████████████████████████████| 1.7 MB 7.0 MB/s \n",
      "\u001b[?25h  Installing build dependencies ... \u001b[?25l\u001b[?25hdone\n",
      "  Getting requirements to build wheel ... \u001b[?25l\u001b[?25hdone\n",
      "  Installing backend dependencies ... \u001b[?25l\u001b[?25hdone\n",
      "    Preparing wheel metadata ... \u001b[?25l\u001b[?25hdone\n",
      "Requirement already satisfied: scikit-learn in /usr/local/lib/python3.7/dist-packages (from pyldavis) (1.0.2)\n",
      "Requirement already satisfied: numpy>=1.20.0 in /usr/local/lib/python3.7/dist-packages (from pyldavis) (1.21.6)\n",
      "Requirement already satisfied: joblib in /usr/local/lib/python3.7/dist-packages (from pyldavis) (1.1.0)\n",
      "Requirement already satisfied: setuptools in /usr/local/lib/python3.7/dist-packages (from pyldavis) (57.4.0)\n",
      "Requirement already satisfied: jinja2 in /usr/local/lib/python3.7/dist-packages (from pyldavis) (2.11.3)\n",
      "Requirement already satisfied: future in /usr/local/lib/python3.7/dist-packages (from pyldavis) (0.16.0)\n",
      "Collecting funcy\n",
      "  Downloading funcy-1.17-py2.py3-none-any.whl (33 kB)\n",
      "Requirement already satisfied: sklearn in /usr/local/lib/python3.7/dist-packages (from pyldavis) (0.0)\n",
      "Requirement already satisfied: pandas>=1.2.0 in /usr/local/lib/python3.7/dist-packages (from pyldavis) (1.3.5)\n",
      "Requirement already satisfied: scipy in /usr/local/lib/python3.7/dist-packages (from pyldavis) (1.4.1)\n",
      "Requirement already satisfied: gensim in /usr/local/lib/python3.7/dist-packages (from pyldavis) (3.6.0)\n",
      "Requirement already satisfied: numexpr in /usr/local/lib/python3.7/dist-packages (from pyldavis) (2.8.1)\n",
      "Requirement already satisfied: python-dateutil>=2.7.3 in /usr/local/lib/python3.7/dist-packages (from pandas>=1.2.0->pyldavis) (2.8.2)\n",
      "Requirement already satisfied: pytz>=2017.3 in /usr/local/lib/python3.7/dist-packages (from pandas>=1.2.0->pyldavis) (2022.1)\n",
      "Requirement already satisfied: six>=1.5 in /usr/local/lib/python3.7/dist-packages (from python-dateutil>=2.7.3->pandas>=1.2.0->pyldavis) (1.15.0)\n",
      "Requirement already satisfied: smart-open>=1.2.1 in /usr/local/lib/python3.7/dist-packages (from gensim->pyldavis) (6.0.0)\n",
      "Requirement already satisfied: MarkupSafe>=0.23 in /usr/local/lib/python3.7/dist-packages (from jinja2->pyldavis) (2.0.1)\n",
      "Requirement already satisfied: packaging in /usr/local/lib/python3.7/dist-packages (from numexpr->pyldavis) (21.3)\n",
      "Requirement already satisfied: pyparsing!=3.0.5,>=2.0.2 in /usr/local/lib/python3.7/dist-packages (from packaging->numexpr->pyldavis) (3.0.9)\n",
      "Requirement already satisfied: threadpoolctl>=2.0.0 in /usr/local/lib/python3.7/dist-packages (from scikit-learn->pyldavis) (3.1.0)\n",
      "Building wheels for collected packages: pyldavis\n",
      "  Building wheel for pyldavis (PEP 517) ... \u001b[?25l\u001b[?25hdone\n",
      "  Created wheel for pyldavis: filename=pyLDAvis-3.3.1-py2.py3-none-any.whl size=136898 sha256=f97ab8f68b56e9842d8c97d1e1290668e555b3bc16ce0048d908a8a60b225dc1\n",
      "  Stored in directory: /root/.cache/pip/wheels/c9/21/f6/17bcf2667e8a68532ba2fbf6d5c72fdf4c7f7d9abfa4852d2f\n",
      "Successfully built pyldavis\n",
      "Installing collected packages: funcy, pyldavis\n",
      "Successfully installed funcy-1.17 pyldavis-3.3.1\n",
      "Looking in indexes: https://pypi.org/simple, https://us-python.pkg.dev/colab-wheels/public/simple/\n",
      "Requirement already satisfied: gensim in /usr/local/lib/python3.7/dist-packages (3.6.0)\n",
      "Collecting gensim\n",
      "  Downloading gensim-4.2.0-cp37-cp37m-manylinux_2_12_x86_64.manylinux2010_x86_64.whl (24.1 MB)\n",
      "\u001b[K     |████████████████████████████████| 24.1 MB 70.3 MB/s \n",
      "\u001b[?25hRequirement already satisfied: smart-open>=1.8.1 in /usr/local/lib/python3.7/dist-packages (from gensim) (6.0.0)\n",
      "Requirement already satisfied: scipy>=0.18.1 in /usr/local/lib/python3.7/dist-packages (from gensim) (1.4.1)\n",
      "Requirement already satisfied: numpy>=1.17.0 in /usr/local/lib/python3.7/dist-packages (from gensim) (1.21.6)\n",
      "Installing collected packages: gensim\n",
      "  Attempting uninstall: gensim\n",
      "    Found existing installation: gensim 3.6.0\n",
      "    Uninstalling gensim-3.6.0:\n",
      "      Successfully uninstalled gensim-3.6.0\n",
      "Successfully installed gensim-4.2.0\n",
      "Looking in indexes: https://pypi.org/simple, https://us-python.pkg.dev/colab-wheels/public/simple/\n",
      "Collecting contextualized-topic-models==2.2.0\n",
      "  Downloading contextualized_topic_models-2.2.0-py2.py3-none-any.whl (33 kB)\n",
      "Requirement already satisfied: tqdm>=4.56.0 in /usr/local/lib/python3.7/dist-packages (from contextualized-topic-models==2.2.0) (4.64.0)\n",
      "Requirement already satisfied: gensim>=3.8.3 in /usr/local/lib/python3.7/dist-packages (from contextualized-topic-models==2.2.0) (4.2.0)\n",
      "Requirement already satisfied: matplotlib>=3.1.3 in /usr/local/lib/python3.7/dist-packages (from contextualized-topic-models==2.2.0) (3.2.2)\n",
      "Collecting wordcloud>=1.8.1\n",
      "  Downloading wordcloud-1.8.1-cp37-cp37m-manylinux1_x86_64.whl (366 kB)\n",
      "\u001b[K     |████████████████████████████████| 366 kB 13.7 MB/s \n",
      "\u001b[?25hCollecting ipywidgets==7.5.1\n",
      "  Downloading ipywidgets-7.5.1-py2.py3-none-any.whl (121 kB)\n",
      "\u001b[K     |████████████████████████████████| 121 kB 59.7 MB/s \n",
      "\u001b[?25hRequirement already satisfied: torch>=1.6.0 in /usr/local/lib/python3.7/dist-packages (from contextualized-topic-models==2.2.0) (1.11.0+cu113)\n",
      "Requirement already satisfied: scipy>=1.4.1 in /usr/local/lib/python3.7/dist-packages (from contextualized-topic-models==2.2.0) (1.4.1)\n",
      "Collecting ipython==7.16.1\n",
      "  Downloading ipython-7.16.1-py3-none-any.whl (785 kB)\n",
      "\u001b[K     |████████████████████████████████| 785 kB 51.9 MB/s \n",
      "\u001b[?25hCollecting sentence-transformers>=1.1.1\n",
      "  Downloading sentence-transformers-2.2.0.tar.gz (79 kB)\n",
      "\u001b[K     |████████████████████████████████| 79 kB 8.5 MB/s \n",
      "\u001b[?25hRequirement already satisfied: numpy>=1.19.1 in /usr/local/lib/python3.7/dist-packages (from contextualized-topic-models==2.2.0) (1.21.6)\n",
      "Requirement already satisfied: torchvision>=0.7.0 in /usr/local/lib/python3.7/dist-packages (from contextualized-topic-models==2.2.0) (0.12.0+cu113)\n",
      "Requirement already satisfied: jedi>=0.10 in /usr/local/lib/python3.7/dist-packages (from ipython==7.16.1->contextualized-topic-models==2.2.0) (0.18.1)\n",
      "Requirement already satisfied: pickleshare in /usr/local/lib/python3.7/dist-packages (from ipython==7.16.1->contextualized-topic-models==2.2.0) (0.7.5)\n",
      "Requirement already satisfied: pygments in /usr/local/lib/python3.7/dist-packages (from ipython==7.16.1->contextualized-topic-models==2.2.0) (2.6.1)\n",
      "Requirement already satisfied: setuptools>=18.5 in /usr/local/lib/python3.7/dist-packages (from ipython==7.16.1->contextualized-topic-models==2.2.0) (57.4.0)\n",
      "Requirement already satisfied: backcall in /usr/local/lib/python3.7/dist-packages (from ipython==7.16.1->contextualized-topic-models==2.2.0) (0.2.0)\n",
      "Requirement already satisfied: decorator in /usr/local/lib/python3.7/dist-packages (from ipython==7.16.1->contextualized-topic-models==2.2.0) (4.4.2)\n",
      "Requirement already satisfied: pexpect in /usr/local/lib/python3.7/dist-packages (from ipython==7.16.1->contextualized-topic-models==2.2.0) (4.8.0)\n",
      "Requirement already satisfied: traitlets>=4.2 in /usr/local/lib/python3.7/dist-packages (from ipython==7.16.1->contextualized-topic-models==2.2.0) (5.1.1)\n",
      "Collecting prompt-toolkit!=3.0.0,!=3.0.1,<3.1.0,>=2.0.0\n",
      "  Downloading prompt_toolkit-3.0.29-py3-none-any.whl (381 kB)\n",
      "\u001b[K     |████████████████████████████████| 381 kB 51.4 MB/s \n",
      "\u001b[?25hRequirement already satisfied: ipykernel>=4.5.1 in /usr/local/lib/python3.7/dist-packages (from ipywidgets==7.5.1->contextualized-topic-models==2.2.0) (4.10.1)\n",
      "Requirement already satisfied: nbformat>=4.2.0 in /usr/local/lib/python3.7/dist-packages (from ipywidgets==7.5.1->contextualized-topic-models==2.2.0) (5.4.0)\n",
      "Collecting widgetsnbextension~=3.5.0\n",
      "  Downloading widgetsnbextension-3.5.2-py2.py3-none-any.whl (1.6 MB)\n",
      "\u001b[K     |████████████████████████████████| 1.6 MB 42.1 MB/s \n",
      "\u001b[?25hRequirement already satisfied: smart-open>=1.8.1 in /usr/local/lib/python3.7/dist-packages (from gensim>=3.8.3->contextualized-topic-models==2.2.0) (6.0.0)\n",
      "Requirement already satisfied: jupyter-client in /usr/local/lib/python3.7/dist-packages (from ipykernel>=4.5.1->ipywidgets==7.5.1->contextualized-topic-models==2.2.0) (5.3.5)\n",
      "Requirement already satisfied: tornado>=4.0 in /usr/local/lib/python3.7/dist-packages (from ipykernel>=4.5.1->ipywidgets==7.5.1->contextualized-topic-models==2.2.0) (5.1.1)\n",
      "Requirement already satisfied: parso<0.9.0,>=0.8.0 in /usr/local/lib/python3.7/dist-packages (from jedi>=0.10->ipython==7.16.1->contextualized-topic-models==2.2.0) (0.8.3)\n",
      "Requirement already satisfied: pyparsing!=2.0.4,!=2.1.2,!=2.1.6,>=2.0.1 in /usr/local/lib/python3.7/dist-packages (from matplotlib>=3.1.3->contextualized-topic-models==2.2.0) (3.0.9)\n",
      "Requirement already satisfied: cycler>=0.10 in /usr/local/lib/python3.7/dist-packages (from matplotlib>=3.1.3->contextualized-topic-models==2.2.0) (0.11.0)\n",
      "Requirement already satisfied: kiwisolver>=1.0.1 in /usr/local/lib/python3.7/dist-packages (from matplotlib>=3.1.3->contextualized-topic-models==2.2.0) (1.4.2)\n",
      "Requirement already satisfied: python-dateutil>=2.1 in /usr/local/lib/python3.7/dist-packages (from matplotlib>=3.1.3->contextualized-topic-models==2.2.0) (2.8.2)\n",
      "Requirement already satisfied: typing-extensions in /usr/local/lib/python3.7/dist-packages (from kiwisolver>=1.0.1->matplotlib>=3.1.3->contextualized-topic-models==2.2.0) (4.2.0)\n",
      "Requirement already satisfied: jsonschema>=2.6 in /usr/local/lib/python3.7/dist-packages (from nbformat>=4.2.0->ipywidgets==7.5.1->contextualized-topic-models==2.2.0) (4.3.3)\n",
      "Requirement already satisfied: jupyter-core in /usr/local/lib/python3.7/dist-packages (from nbformat>=4.2.0->ipywidgets==7.5.1->contextualized-topic-models==2.2.0) (4.10.0)\n",
      "Requirement already satisfied: fastjsonschema in /usr/local/lib/python3.7/dist-packages (from nbformat>=4.2.0->ipywidgets==7.5.1->contextualized-topic-models==2.2.0) (2.15.3)\n",
      "Requirement already satisfied: importlib-metadata in /usr/local/lib/python3.7/dist-packages (from jsonschema>=2.6->nbformat>=4.2.0->ipywidgets==7.5.1->contextualized-topic-models==2.2.0) (4.11.4)\n",
      "Requirement already satisfied: attrs>=17.4.0 in /usr/local/lib/python3.7/dist-packages (from jsonschema>=2.6->nbformat>=4.2.0->ipywidgets==7.5.1->contextualized-topic-models==2.2.0) (21.4.0)\n",
      "Requirement already satisfied: pyrsistent!=0.17.0,!=0.17.1,!=0.17.2,>=0.14.0 in /usr/local/lib/python3.7/dist-packages (from jsonschema>=2.6->nbformat>=4.2.0->ipywidgets==7.5.1->contextualized-topic-models==2.2.0) (0.18.1)\n",
      "Requirement already satisfied: importlib-resources>=1.4.0 in /usr/local/lib/python3.7/dist-packages (from jsonschema>=2.6->nbformat>=4.2.0->ipywidgets==7.5.1->contextualized-topic-models==2.2.0) (5.7.1)\n",
      "Requirement already satisfied: zipp>=3.1.0 in /usr/local/lib/python3.7/dist-packages (from importlib-resources>=1.4.0->jsonschema>=2.6->nbformat>=4.2.0->ipywidgets==7.5.1->contextualized-topic-models==2.2.0) (3.8.0)\n",
      "Requirement already satisfied: wcwidth in /usr/local/lib/python3.7/dist-packages (from prompt-toolkit!=3.0.0,!=3.0.1,<3.1.0,>=2.0.0->ipython==7.16.1->contextualized-topic-models==2.2.0) (0.2.5)\n",
      "Requirement already satisfied: six>=1.5 in /usr/local/lib/python3.7/dist-packages (from python-dateutil>=2.1->matplotlib>=3.1.3->contextualized-topic-models==2.2.0) (1.15.0)\n",
      "Collecting transformers<5.0.0,>=4.6.0\n",
      "  Downloading transformers-4.19.2-py3-none-any.whl (4.2 MB)\n",
      "\u001b[K     |████████████████████████████████| 4.2 MB 32.9 MB/s \n",
      "\u001b[?25hRequirement already satisfied: scikit-learn in /usr/local/lib/python3.7/dist-packages (from sentence-transformers>=1.1.1->contextualized-topic-models==2.2.0) (1.0.2)\n",
      "Requirement already satisfied: nltk in /usr/local/lib/python3.7/dist-packages (from sentence-transformers>=1.1.1->contextualized-topic-models==2.2.0) (3.2.5)\n",
      "Collecting sentencepiece\n",
      "  Downloading sentencepiece-0.1.96-cp37-cp37m-manylinux_2_17_x86_64.manylinux2014_x86_64.whl (1.2 MB)\n",
      "\u001b[K     |████████████████████████████████| 1.2 MB 31.0 MB/s \n",
      "\u001b[?25hCollecting huggingface-hub\n",
      "  Downloading huggingface_hub-0.7.0-py3-none-any.whl (86 kB)\n",
      "\u001b[K     |████████████████████████████████| 86 kB 4.9 MB/s \n",
      "\u001b[?25hRequirement already satisfied: requests in /usr/local/lib/python3.7/dist-packages (from torchvision>=0.7.0->contextualized-topic-models==2.2.0) (2.23.0)\n",
      "Requirement already satisfied: pillow!=8.3.*,>=5.3.0 in /usr/local/lib/python3.7/dist-packages (from torchvision>=0.7.0->contextualized-topic-models==2.2.0) (7.1.2)\n",
      "Collecting pyyaml>=5.1\n",
      "  Downloading PyYAML-6.0-cp37-cp37m-manylinux_2_5_x86_64.manylinux1_x86_64.manylinux_2_12_x86_64.manylinux2010_x86_64.whl (596 kB)\n",
      "\u001b[K     |████████████████████████████████| 596 kB 50.0 MB/s \n",
      "\u001b[?25hRequirement already satisfied: regex!=2019.12.17 in /usr/local/lib/python3.7/dist-packages (from transformers<5.0.0,>=4.6.0->sentence-transformers>=1.1.1->contextualized-topic-models==2.2.0) (2019.12.20)\n",
      "Requirement already satisfied: filelock in /usr/local/lib/python3.7/dist-packages (from transformers<5.0.0,>=4.6.0->sentence-transformers>=1.1.1->contextualized-topic-models==2.2.0) (3.7.0)\n",
      "Requirement already satisfied: packaging>=20.0 in /usr/local/lib/python3.7/dist-packages (from transformers<5.0.0,>=4.6.0->sentence-transformers>=1.1.1->contextualized-topic-models==2.2.0) (21.3)\n",
      "Collecting tokenizers!=0.11.3,<0.13,>=0.11.1\n",
      "  Downloading tokenizers-0.12.1-cp37-cp37m-manylinux_2_12_x86_64.manylinux2010_x86_64.whl (6.6 MB)\n",
      "\u001b[K     |████████████████████████████████| 6.6 MB 36.2 MB/s \n",
      "\u001b[?25hRequirement already satisfied: notebook>=4.4.1 in /usr/local/lib/python3.7/dist-packages (from widgetsnbextension~=3.5.0->ipywidgets==7.5.1->contextualized-topic-models==2.2.0) (5.3.1)\n",
      "Requirement already satisfied: jinja2 in /usr/local/lib/python3.7/dist-packages (from notebook>=4.4.1->widgetsnbextension~=3.5.0->ipywidgets==7.5.1->contextualized-topic-models==2.2.0) (2.11.3)\n",
      "Requirement already satisfied: terminado>=0.8.1 in /usr/local/lib/python3.7/dist-packages (from notebook>=4.4.1->widgetsnbextension~=3.5.0->ipywidgets==7.5.1->contextualized-topic-models==2.2.0) (0.13.3)\n",
      "Requirement already satisfied: nbconvert in /usr/local/lib/python3.7/dist-packages (from notebook>=4.4.1->widgetsnbextension~=3.5.0->ipywidgets==7.5.1->contextualized-topic-models==2.2.0) (5.6.1)\n",
      "Requirement already satisfied: ipython-genutils in /usr/local/lib/python3.7/dist-packages (from notebook>=4.4.1->widgetsnbextension~=3.5.0->ipywidgets==7.5.1->contextualized-topic-models==2.2.0) (0.2.0)\n",
      "Requirement already satisfied: Send2Trash in /usr/local/lib/python3.7/dist-packages (from notebook>=4.4.1->widgetsnbextension~=3.5.0->ipywidgets==7.5.1->contextualized-topic-models==2.2.0) (1.8.0)\n",
      "Requirement already satisfied: pyzmq>=13 in /usr/local/lib/python3.7/dist-packages (from jupyter-client->ipykernel>=4.5.1->ipywidgets==7.5.1->contextualized-topic-models==2.2.0) (23.0.0)\n",
      "Requirement already satisfied: ptyprocess in /usr/local/lib/python3.7/dist-packages (from terminado>=0.8.1->notebook>=4.4.1->widgetsnbextension~=3.5.0->ipywidgets==7.5.1->contextualized-topic-models==2.2.0) (0.7.0)\n",
      "Requirement already satisfied: MarkupSafe>=0.23 in /usr/local/lib/python3.7/dist-packages (from jinja2->notebook>=4.4.1->widgetsnbextension~=3.5.0->ipywidgets==7.5.1->contextualized-topic-models==2.2.0) (2.0.1)\n",
      "Requirement already satisfied: entrypoints>=0.2.2 in /usr/local/lib/python3.7/dist-packages (from nbconvert->notebook>=4.4.1->widgetsnbextension~=3.5.0->ipywidgets==7.5.1->contextualized-topic-models==2.2.0) (0.4)\n",
      "Requirement already satisfied: mistune<2,>=0.8.1 in /usr/local/lib/python3.7/dist-packages (from nbconvert->notebook>=4.4.1->widgetsnbextension~=3.5.0->ipywidgets==7.5.1->contextualized-topic-models==2.2.0) (0.8.4)\n",
      "Requirement already satisfied: defusedxml in /usr/local/lib/python3.7/dist-packages (from nbconvert->notebook>=4.4.1->widgetsnbextension~=3.5.0->ipywidgets==7.5.1->contextualized-topic-models==2.2.0) (0.7.1)\n",
      "Requirement already satisfied: bleach in /usr/local/lib/python3.7/dist-packages (from nbconvert->notebook>=4.4.1->widgetsnbextension~=3.5.0->ipywidgets==7.5.1->contextualized-topic-models==2.2.0) (5.0.0)\n",
      "Requirement already satisfied: pandocfilters>=1.4.1 in /usr/local/lib/python3.7/dist-packages (from nbconvert->notebook>=4.4.1->widgetsnbextension~=3.5.0->ipywidgets==7.5.1->contextualized-topic-models==2.2.0) (1.5.0)\n",
      "Requirement already satisfied: testpath in /usr/local/lib/python3.7/dist-packages (from nbconvert->notebook>=4.4.1->widgetsnbextension~=3.5.0->ipywidgets==7.5.1->contextualized-topic-models==2.2.0) (0.6.0)\n",
      "Requirement already satisfied: webencodings in /usr/local/lib/python3.7/dist-packages (from bleach->nbconvert->notebook>=4.4.1->widgetsnbextension~=3.5.0->ipywidgets==7.5.1->contextualized-topic-models==2.2.0) (0.5.1)\n",
      "Requirement already satisfied: certifi>=2017.4.17 in /usr/local/lib/python3.7/dist-packages (from requests->torchvision>=0.7.0->contextualized-topic-models==2.2.0) (2022.5.18.1)\n",
      "Requirement already satisfied: urllib3!=1.25.0,!=1.25.1,<1.26,>=1.21.1 in /usr/local/lib/python3.7/dist-packages (from requests->torchvision>=0.7.0->contextualized-topic-models==2.2.0) (1.24.3)\n",
      "Requirement already satisfied: chardet<4,>=3.0.2 in /usr/local/lib/python3.7/dist-packages (from requests->torchvision>=0.7.0->contextualized-topic-models==2.2.0) (3.0.4)\n",
      "Requirement already satisfied: idna<3,>=2.5 in /usr/local/lib/python3.7/dist-packages (from requests->torchvision>=0.7.0->contextualized-topic-models==2.2.0) (2.10)\n",
      "Requirement already satisfied: threadpoolctl>=2.0.0 in /usr/local/lib/python3.7/dist-packages (from scikit-learn->sentence-transformers>=1.1.1->contextualized-topic-models==2.2.0) (3.1.0)\n",
      "Requirement already satisfied: joblib>=0.11 in /usr/local/lib/python3.7/dist-packages (from scikit-learn->sentence-transformers>=1.1.1->contextualized-topic-models==2.2.0) (1.1.0)\n",
      "Building wheels for collected packages: sentence-transformers\n",
      "  Building wheel for sentence-transformers (setup.py) ... \u001b[?25l\u001b[?25hdone\n",
      "  Created wheel for sentence-transformers: filename=sentence_transformers-2.2.0-py3-none-any.whl size=120747 sha256=7a3930d68550036fc61881d6e2c69ff5755202ed9b84ce29fb49e558ec6eb2ab\n",
      "  Stored in directory: /root/.cache/pip/wheels/83/c0/df/b6873ab7aac3f2465aa9144b6b4c41c4391cfecc027c8b07e7\n",
      "Successfully built sentence-transformers\n",
      "Installing collected packages: prompt-toolkit, ipython, pyyaml, tokenizers, huggingface-hub, widgetsnbextension, transformers, sentencepiece, wordcloud, sentence-transformers, ipywidgets, contextualized-topic-models\n",
      "  Attempting uninstall: prompt-toolkit\n",
      "    Found existing installation: prompt-toolkit 1.0.18\n",
      "    Uninstalling prompt-toolkit-1.0.18:\n",
      "      Successfully uninstalled prompt-toolkit-1.0.18\n",
      "  Attempting uninstall: ipython\n",
      "    Found existing installation: ipython 5.5.0\n",
      "    Uninstalling ipython-5.5.0:\n",
      "      Successfully uninstalled ipython-5.5.0\n",
      "  Attempting uninstall: pyyaml\n",
      "    Found existing installation: PyYAML 3.13\n",
      "    Uninstalling PyYAML-3.13:\n",
      "      Successfully uninstalled PyYAML-3.13\n",
      "  Attempting uninstall: widgetsnbextension\n",
      "    Found existing installation: widgetsnbextension 3.6.0\n",
      "    Uninstalling widgetsnbextension-3.6.0:\n",
      "      Successfully uninstalled widgetsnbextension-3.6.0\n",
      "  Attempting uninstall: wordcloud\n",
      "    Found existing installation: wordcloud 1.5.0\n",
      "    Uninstalling wordcloud-1.5.0:\n",
      "      Successfully uninstalled wordcloud-1.5.0\n",
      "  Attempting uninstall: ipywidgets\n",
      "    Found existing installation: ipywidgets 7.7.0\n",
      "    Uninstalling ipywidgets-7.7.0:\n",
      "      Successfully uninstalled ipywidgets-7.7.0\n",
      "\u001b[31mERROR: pip's dependency resolver does not currently take into account all the packages that are installed. This behaviour is the source of the following dependency conflicts.\n",
      "jupyter-console 5.2.0 requires prompt-toolkit<2.0.0,>=1.0.0, but you have prompt-toolkit 3.0.29 which is incompatible.\n",
      "google-colab 1.0.0 requires ipython~=5.5.0, but you have ipython 7.16.1 which is incompatible.\u001b[0m\n",
      "Successfully installed contextualized-topic-models-2.2.0 huggingface-hub-0.7.0 ipython-7.16.1 ipywidgets-7.5.1 prompt-toolkit-3.0.29 pyyaml-6.0 sentence-transformers-2.2.0 sentencepiece-0.1.96 tokenizers-0.12.1 transformers-4.19.2 widgetsnbextension-3.5.2 wordcloud-1.8.1\n"
     ]
    },
    {
     "data": {
      "application/vnd.colab-display-data+json": {
       "pip_warning": {
        "packages": [
         "IPython",
         "ipywidgets",
         "prompt_toolkit"
        ]
       }
      }
     },
     "metadata": {},
     "output_type": "display_data"
    },
    {
     "name": "stdout",
     "output_type": "stream",
     "text": [
      "Looking in indexes: https://pypi.org/simple, https://us-python.pkg.dev/colab-wheels/public/simple/\n",
      "Requirement already satisfied: sentence-transformers in /usr/local/lib/python3.7/dist-packages (2.2.0)\n",
      "Requirement already satisfied: nltk in /usr/local/lib/python3.7/dist-packages (from sentence-transformers) (3.2.5)\n",
      "Requirement already satisfied: huggingface-hub in /usr/local/lib/python3.7/dist-packages (from sentence-transformers) (0.7.0)\n",
      "Requirement already satisfied: torch>=1.6.0 in /usr/local/lib/python3.7/dist-packages (from sentence-transformers) (1.11.0+cu113)\n",
      "Requirement already satisfied: torchvision in /usr/local/lib/python3.7/dist-packages (from sentence-transformers) (0.12.0+cu113)\n",
      "Requirement already satisfied: scikit-learn in /usr/local/lib/python3.7/dist-packages (from sentence-transformers) (1.0.2)\n",
      "Requirement already satisfied: sentencepiece in /usr/local/lib/python3.7/dist-packages (from sentence-transformers) (0.1.96)\n",
      "Requirement already satisfied: tqdm in /usr/local/lib/python3.7/dist-packages (from sentence-transformers) (4.64.0)\n",
      "Requirement already satisfied: numpy in /usr/local/lib/python3.7/dist-packages (from sentence-transformers) (1.21.6)\n",
      "Requirement already satisfied: transformers<5.0.0,>=4.6.0 in /usr/local/lib/python3.7/dist-packages (from sentence-transformers) (4.19.2)\n",
      "Requirement already satisfied: scipy in /usr/local/lib/python3.7/dist-packages (from sentence-transformers) (1.4.1)\n",
      "Requirement already satisfied: typing-extensions in /usr/local/lib/python3.7/dist-packages (from torch>=1.6.0->sentence-transformers) (4.2.0)\n",
      "Requirement already satisfied: regex!=2019.12.17 in /usr/local/lib/python3.7/dist-packages (from transformers<5.0.0,>=4.6.0->sentence-transformers) (2019.12.20)\n",
      "Requirement already satisfied: requests in /usr/local/lib/python3.7/dist-packages (from transformers<5.0.0,>=4.6.0->sentence-transformers) (2.23.0)\n",
      "Requirement already satisfied: tokenizers!=0.11.3,<0.13,>=0.11.1 in /usr/local/lib/python3.7/dist-packages (from transformers<5.0.0,>=4.6.0->sentence-transformers) (0.12.1)\n",
      "Requirement already satisfied: pyyaml>=5.1 in /usr/local/lib/python3.7/dist-packages (from transformers<5.0.0,>=4.6.0->sentence-transformers) (6.0)\n",
      "Requirement already satisfied: importlib-metadata in /usr/local/lib/python3.7/dist-packages (from transformers<5.0.0,>=4.6.0->sentence-transformers) (4.11.4)\n",
      "Requirement already satisfied: packaging>=20.0 in /usr/local/lib/python3.7/dist-packages (from transformers<5.0.0,>=4.6.0->sentence-transformers) (21.3)\n",
      "Requirement already satisfied: filelock in /usr/local/lib/python3.7/dist-packages (from transformers<5.0.0,>=4.6.0->sentence-transformers) (3.7.0)\n",
      "Requirement already satisfied: pyparsing!=3.0.5,>=2.0.2 in /usr/local/lib/python3.7/dist-packages (from packaging>=20.0->transformers<5.0.0,>=4.6.0->sentence-transformers) (3.0.9)\n",
      "Requirement already satisfied: zipp>=0.5 in /usr/local/lib/python3.7/dist-packages (from importlib-metadata->transformers<5.0.0,>=4.6.0->sentence-transformers) (3.8.0)\n",
      "Requirement already satisfied: six in /usr/local/lib/python3.7/dist-packages (from nltk->sentence-transformers) (1.15.0)\n",
      "Requirement already satisfied: idna<3,>=2.5 in /usr/local/lib/python3.7/dist-packages (from requests->transformers<5.0.0,>=4.6.0->sentence-transformers) (2.10)\n",
      "Requirement already satisfied: chardet<4,>=3.0.2 in /usr/local/lib/python3.7/dist-packages (from requests->transformers<5.0.0,>=4.6.0->sentence-transformers) (3.0.4)\n",
      "Requirement already satisfied: certifi>=2017.4.17 in /usr/local/lib/python3.7/dist-packages (from requests->transformers<5.0.0,>=4.6.0->sentence-transformers) (2022.5.18.1)\n",
      "Requirement already satisfied: urllib3!=1.25.0,!=1.25.1,<1.26,>=1.21.1 in /usr/local/lib/python3.7/dist-packages (from requests->transformers<5.0.0,>=4.6.0->sentence-transformers) (1.24.3)\n",
      "Requirement already satisfied: joblib>=0.11 in /usr/local/lib/python3.7/dist-packages (from scikit-learn->sentence-transformers) (1.1.0)\n",
      "Requirement already satisfied: threadpoolctl>=2.0.0 in /usr/local/lib/python3.7/dist-packages (from scikit-learn->sentence-transformers) (3.1.0)\n",
      "Requirement already satisfied: pillow!=8.3.*,>=5.3.0 in /usr/local/lib/python3.7/dist-packages (from torchvision->sentence-transformers) (7.1.2)\n",
      "Looking in indexes: https://pypi.org/simple, https://us-python.pkg.dev/colab-wheels/public/simple/\n",
      "Collecting tomotopy\n",
      "  Downloading tomotopy-0.12.2-cp37-cp37m-manylinux_2_12_x86_64.manylinux2010_x86_64.whl (16.3 MB)\n",
      "\u001b[K     |████████████████████████████████| 16.3 MB 5.7 MB/s \n",
      "\u001b[?25hRequirement already satisfied: numpy>=1.11.0 in /usr/local/lib/python3.7/dist-packages (from tomotopy) (1.21.6)\n",
      "Installing collected packages: tomotopy\n",
      "Successfully installed tomotopy-0.12.2\n",
      "--2022-06-09 16:22:11--  https://www.dropbox.com/s/9xls0tgtf3edgns/mecab-0.996-ko-0.9.2.tar.gz?dl=1\n",
      "Resolving www.dropbox.com (www.dropbox.com)... 162.125.1.18, 2620:100:6016:18::a27d:112\n",
      "Connecting to www.dropbox.com (www.dropbox.com)|162.125.1.18|:443... connected.\n",
      "HTTP request sent, awaiting response... 301 Moved Permanently\n",
      "Location: /s/dl/9xls0tgtf3edgns/mecab-0.996-ko-0.9.2.tar.gz [following]\n",
      "--2022-06-09 16:22:11--  https://www.dropbox.com/s/dl/9xls0tgtf3edgns/mecab-0.996-ko-0.9.2.tar.gz\n",
      "Reusing existing connection to www.dropbox.com:443.\n",
      "HTTP request sent, awaiting response... 302 Found\n",
      "Location: https://uc1fb566c66e02228181d1aa7cc2.dl.dropboxusercontent.com/cd/0/get/Bm4NWArOOIUFqODsCQ_lWNtESOMyPSlYbNoGFas2v67_n5Fu-vYkOotAEW-muBfxWChU7Hh1Y32EnzbeTKNHrywgzPAMDjo-J04gbq4C7HMqNR0YIC6veNGMQDkr6Mh_jGgjpcaL_Yg4m1LxJRrP8988SgBcS0ki-nFzXoXU1-1R6z8QQuunh-e4Mz5cBJNs4X0/file?dl=1# [following]\n",
      "--2022-06-09 16:22:12--  https://uc1fb566c66e02228181d1aa7cc2.dl.dropboxusercontent.com/cd/0/get/Bm4NWArOOIUFqODsCQ_lWNtESOMyPSlYbNoGFas2v67_n5Fu-vYkOotAEW-muBfxWChU7Hh1Y32EnzbeTKNHrywgzPAMDjo-J04gbq4C7HMqNR0YIC6veNGMQDkr6Mh_jGgjpcaL_Yg4m1LxJRrP8988SgBcS0ki-nFzXoXU1-1R6z8QQuunh-e4Mz5cBJNs4X0/file?dl=1\n",
      "Resolving uc1fb566c66e02228181d1aa7cc2.dl.dropboxusercontent.com (uc1fb566c66e02228181d1aa7cc2.dl.dropboxusercontent.com)... 162.125.1.15, 2620:100:6016:15::a27d:10f\n",
      "Connecting to uc1fb566c66e02228181d1aa7cc2.dl.dropboxusercontent.com (uc1fb566c66e02228181d1aa7cc2.dl.dropboxusercontent.com)|162.125.1.15|:443... connected.\n",
      "HTTP request sent, awaiting response... 200 OK\n",
      "Length: 1414979 (1.3M) [application/binary]\n",
      "Saving to: ‘mecab-0.996-ko-0.9.2.tar.gz?dl=1’\n",
      "\n",
      "mecab-0.996-ko-0.9. 100%[===================>]   1.35M  --.-KB/s    in 0.04s   \n",
      "\n",
      "2022-06-09 16:22:12 (33.4 MB/s) - ‘mecab-0.996-ko-0.9.2.tar.gz?dl=1’ saved [1414979/1414979]\n",
      "\n",
      "mecab-0.996-ko-0.9.2/\n",
      "mecab-0.996-ko-0.9.2/example/\n",
      "mecab-0.996-ko-0.9.2/example/example.cpp\n",
      "mecab-0.996-ko-0.9.2/example/example_lattice.cpp\n",
      "mecab-0.996-ko-0.9.2/example/example_lattice.c\n",
      "mecab-0.996-ko-0.9.2/example/example.c\n",
      "mecab-0.996-ko-0.9.2/example/thread_test.cpp\n",
      "mecab-0.996-ko-0.9.2/mecab-config.in\n",
      "mecab-0.996-ko-0.9.2/man/\n",
      "mecab-0.996-ko-0.9.2/man/Makefile.am\n",
      "mecab-0.996-ko-0.9.2/man/mecab.1\n",
      "mecab-0.996-ko-0.9.2/man/Makefile.in\n",
      "mecab-0.996-ko-0.9.2/mecab.iss.in\n",
      "mecab-0.996-ko-0.9.2/config.guess\n",
      "mecab-0.996-ko-0.9.2/README\n",
      "mecab-0.996-ko-0.9.2/COPYING\n",
      "mecab-0.996-ko-0.9.2/CHANGES.md\n",
      "mecab-0.996-ko-0.9.2/README.md\n",
      "mecab-0.996-ko-0.9.2/INSTALL\n",
      "mecab-0.996-ko-0.9.2/config.sub\n",
      "mecab-0.996-ko-0.9.2/configure.in\n",
      "mecab-0.996-ko-0.9.2/swig/\n",
      "mecab-0.996-ko-0.9.2/swig/Makefile\n",
      "mecab-0.996-ko-0.9.2/swig/version.h.in\n",
      "mecab-0.996-ko-0.9.2/swig/version.h\n",
      "mecab-0.996-ko-0.9.2/swig/MeCab.i\n",
      "mecab-0.996-ko-0.9.2/aclocal.m4\n",
      "mecab-0.996-ko-0.9.2/LGPL\n",
      "mecab-0.996-ko-0.9.2/Makefile.am\n",
      "mecab-0.996-ko-0.9.2/configure\n",
      "mecab-0.996-ko-0.9.2/tests/\n",
      "mecab-0.996-ko-0.9.2/tests/autolink/\n",
      "mecab-0.996-ko-0.9.2/tests/autolink/unk.def\n",
      "mecab-0.996-ko-0.9.2/tests/autolink/dicrc\n",
      "mecab-0.996-ko-0.9.2/tests/autolink/dic.csv\n",
      "mecab-0.996-ko-0.9.2/tests/autolink/test\n",
      "mecab-0.996-ko-0.9.2/tests/autolink/char.def\n",
      "mecab-0.996-ko-0.9.2/tests/autolink/matrix.def\n",
      "mecab-0.996-ko-0.9.2/tests/autolink/test.gld\n",
      "mecab-0.996-ko-0.9.2/tests/t9/\n",
      "mecab-0.996-ko-0.9.2/tests/t9/unk.def\n",
      "mecab-0.996-ko-0.9.2/tests/t9/ipadic.pl\n",
      "mecab-0.996-ko-0.9.2/tests/t9/dicrc\n",
      "mecab-0.996-ko-0.9.2/tests/t9/dic.csv\n",
      "mecab-0.996-ko-0.9.2/tests/t9/test\n",
      "mecab-0.996-ko-0.9.2/tests/t9/char.def\n",
      "mecab-0.996-ko-0.9.2/tests/t9/matrix.def\n",
      "mecab-0.996-ko-0.9.2/tests/t9/mkdic.pl\n",
      "mecab-0.996-ko-0.9.2/tests/t9/test.gld\n",
      "mecab-0.996-ko-0.9.2/tests/cost-train/\n",
      "mecab-0.996-ko-0.9.2/tests/cost-train/ipa.train\n",
      "mecab-0.996-ko-0.9.2/tests/cost-train/ipa.test\n",
      "mecab-0.996-ko-0.9.2/tests/cost-train/seed/\n",
      "mecab-0.996-ko-0.9.2/tests/cost-train/seed/rewrite.def\n",
      "mecab-0.996-ko-0.9.2/tests/cost-train/seed/feature.def\n",
      "mecab-0.996-ko-0.9.2/tests/cost-train/seed/unk.def\n",
      "mecab-0.996-ko-0.9.2/tests/cost-train/seed/dicrc\n",
      "mecab-0.996-ko-0.9.2/tests/cost-train/seed/dic.csv\n",
      "mecab-0.996-ko-0.9.2/tests/cost-train/seed/char.def\n",
      "mecab-0.996-ko-0.9.2/tests/cost-train/seed/matrix.def\n",
      "mecab-0.996-ko-0.9.2/tests/run-eval.sh\n",
      "mecab-0.996-ko-0.9.2/tests/run-cost-train.sh\n",
      "mecab-0.996-ko-0.9.2/tests/Makefile.am\n",
      "mecab-0.996-ko-0.9.2/tests/katakana/\n",
      "mecab-0.996-ko-0.9.2/tests/katakana/unk.def\n",
      "mecab-0.996-ko-0.9.2/tests/katakana/dicrc\n",
      "mecab-0.996-ko-0.9.2/tests/katakana/dic.csv\n",
      "mecab-0.996-ko-0.9.2/tests/katakana/test\n",
      "mecab-0.996-ko-0.9.2/tests/katakana/char.def\n",
      "mecab-0.996-ko-0.9.2/tests/katakana/matrix.def\n",
      "mecab-0.996-ko-0.9.2/tests/katakana/test.gld\n",
      "mecab-0.996-ko-0.9.2/tests/eval/\n",
      "mecab-0.996-ko-0.9.2/tests/eval/answer\n",
      "mecab-0.996-ko-0.9.2/tests/eval/system\n",
      "mecab-0.996-ko-0.9.2/tests/eval/test.gld\n",
      "mecab-0.996-ko-0.9.2/tests/shiin/\n",
      "mecab-0.996-ko-0.9.2/tests/shiin/unk.def\n",
      "mecab-0.996-ko-0.9.2/tests/shiin/dicrc\n",
      "mecab-0.996-ko-0.9.2/tests/shiin/dic.csv\n",
      "mecab-0.996-ko-0.9.2/tests/shiin/test\n",
      "mecab-0.996-ko-0.9.2/tests/shiin/char.def\n",
      "mecab-0.996-ko-0.9.2/tests/shiin/matrix.def\n",
      "mecab-0.996-ko-0.9.2/tests/shiin/mkdic.pl\n",
      "mecab-0.996-ko-0.9.2/tests/shiin/test.gld\n",
      "mecab-0.996-ko-0.9.2/tests/latin/\n",
      "mecab-0.996-ko-0.9.2/tests/latin/unk.def\n",
      "mecab-0.996-ko-0.9.2/tests/latin/dicrc\n",
      "mecab-0.996-ko-0.9.2/tests/latin/dic.csv\n",
      "mecab-0.996-ko-0.9.2/tests/latin/test\n",
      "mecab-0.996-ko-0.9.2/tests/latin/char.def\n",
      "mecab-0.996-ko-0.9.2/tests/latin/matrix.def\n",
      "mecab-0.996-ko-0.9.2/tests/latin/test.gld\n",
      "mecab-0.996-ko-0.9.2/tests/chartype/\n",
      "mecab-0.996-ko-0.9.2/tests/chartype/unk.def\n",
      "mecab-0.996-ko-0.9.2/tests/chartype/dicrc\n",
      "mecab-0.996-ko-0.9.2/tests/chartype/dic.csv\n",
      "mecab-0.996-ko-0.9.2/tests/chartype/test\n",
      "mecab-0.996-ko-0.9.2/tests/chartype/char.def\n",
      "mecab-0.996-ko-0.9.2/tests/chartype/matrix.def\n",
      "mecab-0.996-ko-0.9.2/tests/chartype/test.gld\n",
      "mecab-0.996-ko-0.9.2/tests/run-dics.sh\n",
      "mecab-0.996-ko-0.9.2/tests/ngram/\n",
      "mecab-0.996-ko-0.9.2/tests/ngram/unk.def\n",
      "mecab-0.996-ko-0.9.2/tests/ngram/dicrc\n",
      "mecab-0.996-ko-0.9.2/tests/ngram/dic.csv\n",
      "mecab-0.996-ko-0.9.2/tests/ngram/test\n",
      "mecab-0.996-ko-0.9.2/tests/ngram/char.def\n",
      "mecab-0.996-ko-0.9.2/tests/ngram/matrix.def\n",
      "mecab-0.996-ko-0.9.2/tests/ngram/test.gld\n",
      "mecab-0.996-ko-0.9.2/tests/Makefile.in\n",
      "mecab-0.996-ko-0.9.2/ltmain.sh\n",
      "mecab-0.996-ko-0.9.2/config.rpath\n",
      "mecab-0.996-ko-0.9.2/config.h.in\n",
      "mecab-0.996-ko-0.9.2/mecabrc.in\n",
      "mecab-0.996-ko-0.9.2/GPL\n",
      "mecab-0.996-ko-0.9.2/Makefile.train\n",
      "mecab-0.996-ko-0.9.2/ChangeLog\n",
      "mecab-0.996-ko-0.9.2/install-sh\n",
      "mecab-0.996-ko-0.9.2/AUTHORS\n",
      "mecab-0.996-ko-0.9.2/doc/\n",
      "mecab-0.996-ko-0.9.2/doc/bindings.html\n",
      "mecab-0.996-ko-0.9.2/doc/posid.html\n",
      "mecab-0.996-ko-0.9.2/doc/unk.html\n",
      "mecab-0.996-ko-0.9.2/doc/learn.html\n",
      "mecab-0.996-ko-0.9.2/doc/format.html\n",
      "mecab-0.996-ko-0.9.2/doc/libmecab.html\n",
      "mecab-0.996-ko-0.9.2/doc/mecab.css\n",
      "mecab-0.996-ko-0.9.2/doc/feature.html\n",
      "mecab-0.996-ko-0.9.2/doc/Makefile.am\n",
      "mecab-0.996-ko-0.9.2/doc/soft.html\n",
      "mecab-0.996-ko-0.9.2/doc/en/\n",
      "mecab-0.996-ko-0.9.2/doc/en/bindings.html\n",
      "mecab-0.996-ko-0.9.2/doc/dic-detail.html\n",
      "mecab-0.996-ko-0.9.2/doc/flow.png\n",
      "mecab-0.996-ko-0.9.2/doc/mecab.html\n",
      "mecab-0.996-ko-0.9.2/doc/index.html\n",
      "mecab-0.996-ko-0.9.2/doc/result.png\n",
      "mecab-0.996-ko-0.9.2/doc/doxygen/\n",
      "mecab-0.996-ko-0.9.2/doc/doxygen/tab_a.png\n",
      "mecab-0.996-ko-0.9.2/doc/doxygen/globals_eval.html\n",
      "mecab-0.996-ko-0.9.2/doc/doxygen/classMeCab_1_1Tagger-members.html\n",
      "mecab-0.996-ko-0.9.2/doc/doxygen/functions_vars.html\n",
      "mecab-0.996-ko-0.9.2/doc/doxygen/doxygen.css\n",
      "mecab-0.996-ko-0.9.2/doc/doxygen/tab_r.gif\n",
      "mecab-0.996-ko-0.9.2/doc/doxygen/classMeCab_1_1Lattice.html\n",
      "mecab-0.996-ko-0.9.2/doc/doxygen/functions.html\n",
      "mecab-0.996-ko-0.9.2/doc/doxygen/classMeCab_1_1Tagger.html\n",
      "mecab-0.996-ko-0.9.2/doc/doxygen/mecab_8h_source.html\n",
      "mecab-0.996-ko-0.9.2/doc/doxygen/tabs.css\n",
      "mecab-0.996-ko-0.9.2/doc/doxygen/nav_f.png\n",
      "mecab-0.996-ko-0.9.2/doc/doxygen/tab_b.png\n",
      "mecab-0.996-ko-0.9.2/doc/doxygen/globals.html\n",
      "mecab-0.996-ko-0.9.2/doc/doxygen/nav_h.png\n",
      "mecab-0.996-ko-0.9.2/doc/doxygen/tab_h.png\n",
      "mecab-0.996-ko-0.9.2/doc/doxygen/classMeCab_1_1Model.html\n",
      "mecab-0.996-ko-0.9.2/doc/doxygen/globals_func.html\n",
      "mecab-0.996-ko-0.9.2/doc/doxygen/closed.png\n",
      "mecab-0.996-ko-0.9.2/doc/doxygen/tab_l.gif\n",
      "mecab-0.996-ko-0.9.2/doc/doxygen/structmecab__path__t-members.html\n",
      "mecab-0.996-ko-0.9.2/doc/doxygen/functions_func.html\n",
      "mecab-0.996-ko-0.9.2/doc/doxygen/globals_type.html\n",
      "mecab-0.996-ko-0.9.2/doc/doxygen/classMeCab_1_1Lattice-members.html\n",
      "mecab-0.996-ko-0.9.2/doc/doxygen/structmecab__node__t.html\n",
      "mecab-0.996-ko-0.9.2/doc/doxygen/namespacemembers_func.html\n",
      "mecab-0.996-ko-0.9.2/doc/doxygen/tab_s.png\n",
      "mecab-0.996-ko-0.9.2/doc/doxygen/structmecab__dictionary__info__t-members.html\n",
      "mecab-0.996-ko-0.9.2/doc/doxygen/namespacemembers_type.html\n",
      "mecab-0.996-ko-0.9.2/doc/doxygen/classMeCab_1_1Model-members.html\n",
      "mecab-0.996-ko-0.9.2/doc/doxygen/structmecab__dictionary__info__t.html\n",
      "mecab-0.996-ko-0.9.2/doc/doxygen/namespaces.html\n",
      "mecab-0.996-ko-0.9.2/doc/doxygen/namespacemembers.html\n",
      "mecab-0.996-ko-0.9.2/doc/doxygen/namespaceMeCab.html\n",
      "mecab-0.996-ko-0.9.2/doc/doxygen/structmecab__path__t.html\n",
      "mecab-0.996-ko-0.9.2/doc/doxygen/files.html\n",
      "mecab-0.996-ko-0.9.2/doc/doxygen/structmecab__node__t-members.html\n",
      "mecab-0.996-ko-0.9.2/doc/doxygen/index.html\n",
      "mecab-0.996-ko-0.9.2/doc/doxygen/annotated.html\n",
      "mecab-0.996-ko-0.9.2/doc/doxygen/globals_defs.html\n",
      "mecab-0.996-ko-0.9.2/doc/doxygen/classes.html\n",
      "mecab-0.996-ko-0.9.2/doc/doxygen/mecab_8h-source.html\n",
      "mecab-0.996-ko-0.9.2/doc/doxygen/doxygen.png\n",
      "mecab-0.996-ko-0.9.2/doc/doxygen/tab_b.gif\n",
      "mecab-0.996-ko-0.9.2/doc/doxygen/bc_s.png\n",
      "mecab-0.996-ko-0.9.2/doc/doxygen/open.png\n",
      "mecab-0.996-ko-0.9.2/doc/doxygen/mecab_8h.html\n",
      "mecab-0.996-ko-0.9.2/doc/dic.html\n",
      "mecab-0.996-ko-0.9.2/doc/partial.html\n",
      "mecab-0.996-ko-0.9.2/doc/feature.png\n",
      "mecab-0.996-ko-0.9.2/doc/Makefile.in\n",
      "mecab-0.996-ko-0.9.2/missing\n",
      "mecab-0.996-ko-0.9.2/BSD\n",
      "mecab-0.996-ko-0.9.2/NEWS\n",
      "mecab-0.996-ko-0.9.2/mkinstalldirs\n",
      "mecab-0.996-ko-0.9.2/src/\n",
      "mecab-0.996-ko-0.9.2/src/dictionary.h\n",
      "mecab-0.996-ko-0.9.2/src/writer.h\n",
      "mecab-0.996-ko-0.9.2/src/utils.h\n",
      "mecab-0.996-ko-0.9.2/src/string_buffer.cpp\n",
      "mecab-0.996-ko-0.9.2/src/tokenizer.cpp\n",
      "mecab-0.996-ko-0.9.2/src/make.bat\n",
      "mecab-0.996-ko-0.9.2/src/mecab.h\n",
      "mecab-0.996-ko-0.9.2/src/freelist.h\n",
      "mecab-0.996-ko-0.9.2/src/string_buffer.h\n",
      "mecab-0.996-ko-0.9.2/src/learner_tagger.h\n",
      "mecab-0.996-ko-0.9.2/src/dictionary_compiler.cpp\n",
      "mecab-0.996-ko-0.9.2/src/eval.cpp\n",
      "mecab-0.996-ko-0.9.2/src/mecab-system-eval.cpp\n",
      "mecab-0.996-ko-0.9.2/src/darts.h\n",
      "mecab-0.996-ko-0.9.2/src/param.h\n",
      "mecab-0.996-ko-0.9.2/src/char_property.h\n",
      "mecab-0.996-ko-0.9.2/src/learner_node.h\n",
      "mecab-0.996-ko-0.9.2/src/mecab-dict-gen.cpp\n",
      "mecab-0.996-ko-0.9.2/src/mecab-dict-index.cpp\n",
      "mecab-0.996-ko-0.9.2/src/winmain.h\n",
      "mecab-0.996-ko-0.9.2/src/thread.h\n",
      "mecab-0.996-ko-0.9.2/src/context_id.cpp\n",
      "mecab-0.996-ko-0.9.2/src/Makefile.am\n",
      "mecab-0.996-ko-0.9.2/src/connector.h\n",
      "mecab-0.996-ko-0.9.2/src/common.h\n",
      "mecab-0.996-ko-0.9.2/src/dictionary_rewriter.cpp\n",
      "mecab-0.996-ko-0.9.2/src/Makefile.msvc.in\n",
      "mecab-0.996-ko-0.9.2/src/dictionary_rewriter.h\n",
      "mecab-0.996-ko-0.9.2/src/feature_index.h\n",
      "mecab-0.996-ko-0.9.2/src/iconv_utils.cpp\n",
      "mecab-0.996-ko-0.9.2/src/char_property.cpp\n",
      "mecab-0.996-ko-0.9.2/src/mecab-test-gen.cpp\n",
      "mecab-0.996-ko-0.9.2/src/tagger.cpp\n",
      "mecab-0.996-ko-0.9.2/src/mecab-cost-train.cpp\n",
      "mecab-0.996-ko-0.9.2/src/learner.cpp\n",
      "mecab-0.996-ko-0.9.2/src/dictionary.cpp\n",
      "mecab-0.996-ko-0.9.2/src/lbfgs.cpp\n",
      "mecab-0.996-ko-0.9.2/src/ucs.h\n",
      "mecab-0.996-ko-0.9.2/src/writer.cpp\n",
      "mecab-0.996-ko-0.9.2/src/learner_tagger.cpp\n",
      "mecab-0.996-ko-0.9.2/src/lbfgs.h\n",
      "mecab-0.996-ko-0.9.2/src/libmecab.cpp\n",
      "mecab-0.996-ko-0.9.2/src/tokenizer.h\n",
      "mecab-0.996-ko-0.9.2/src/mecab.cpp\n",
      "mecab-0.996-ko-0.9.2/src/utils.cpp\n",
      "mecab-0.996-ko-0.9.2/src/dictionary_generator.cpp\n",
      "mecab-0.996-ko-0.9.2/src/param.cpp\n",
      "mecab-0.996-ko-0.9.2/src/context_id.h\n",
      "mecab-0.996-ko-0.9.2/src/mmap.h\n",
      "mecab-0.996-ko-0.9.2/src/viterbi.h\n",
      "mecab-0.996-ko-0.9.2/src/viterbi.cpp\n",
      "mecab-0.996-ko-0.9.2/src/stream_wrapper.h\n",
      "mecab-0.996-ko-0.9.2/src/feature_index.cpp\n",
      "mecab-0.996-ko-0.9.2/src/nbest_generator.h\n",
      "mecab-0.996-ko-0.9.2/src/ucstable.h\n",
      "mecab-0.996-ko-0.9.2/src/nbest_generator.cpp\n",
      "mecab-0.996-ko-0.9.2/src/iconv_utils.h\n",
      "mecab-0.996-ko-0.9.2/src/connector.cpp\n",
      "mecab-0.996-ko-0.9.2/src/Makefile.in\n",
      "mecab-0.996-ko-0.9.2/src/scoped_ptr.h\n",
      "mecab-0.996-ko-0.9.2/Makefile.in\n",
      "checking for a BSD-compatible install... /usr/bin/install -c\n",
      "checking whether build environment is sane... yes\n",
      "checking for a thread-safe mkdir -p... /bin/mkdir -p\n",
      "checking for gawk... no\n",
      "checking for mawk... mawk\n",
      "checking whether make sets $(MAKE)... yes\n",
      "checking for gcc... gcc\n",
      "checking whether the C compiler works... yes\n",
      "checking for C compiler default output file name... a.out\n",
      "checking for suffix of executables... \n",
      "checking whether we are cross compiling... no\n",
      "checking for suffix of object files... o\n",
      "checking whether we are using the GNU C compiler... yes\n",
      "checking whether gcc accepts -g... yes\n",
      "checking for gcc option to accept ISO C89... none needed\n",
      "checking for style of include used by make... GNU\n",
      "checking dependency style of gcc... none\n",
      "checking for g++... g++\n",
      "checking whether we are using the GNU C++ compiler... yes\n",
      "checking whether g++ accepts -g... yes\n",
      "checking dependency style of g++... none\n",
      "checking how to run the C preprocessor... gcc -E\n",
      "checking for grep that handles long lines and -e... /bin/grep\n",
      "checking for egrep... /bin/grep -E\n",
      "checking whether gcc needs -traditional... no\n",
      "checking whether make sets $(MAKE)... (cached) yes\n",
      "checking build system type... x86_64-unknown-linux-gnu\n",
      "checking host system type... x86_64-unknown-linux-gnu\n",
      "checking how to print strings... printf\n",
      "checking for a sed that does not truncate output... /bin/sed\n",
      "checking for fgrep... /bin/grep -F\n",
      "checking for ld used by gcc... /usr/bin/ld\n",
      "checking if the linker (/usr/bin/ld) is GNU ld... yes\n",
      "checking for BSD- or MS-compatible name lister (nm)... /usr/bin/nm -B\n",
      "checking the name lister (/usr/bin/nm -B) interface... BSD nm\n",
      "checking whether ln -s works... yes\n",
      "checking the maximum length of command line arguments... 1572864\n",
      "checking whether the shell understands some XSI constructs... yes\n",
      "checking whether the shell understands \"+=\"... yes\n",
      "checking how to convert x86_64-unknown-linux-gnu file names to x86_64-unknown-linux-gnu format... func_convert_file_noop\n",
      "checking how to convert x86_64-unknown-linux-gnu file names to toolchain format... func_convert_file_noop\n",
      "checking for /usr/bin/ld option to reload object files... -r\n",
      "checking for objdump... objdump\n",
      "checking how to recognize dependent libraries... pass_all\n",
      "checking for dlltool... dlltool\n",
      "checking how to associate runtime and link libraries... printf %s\\n\n",
      "checking for ar... ar\n",
      "checking for archiver @FILE support... @\n",
      "checking for strip... strip\n",
      "checking for ranlib... ranlib\n",
      "checking command to parse /usr/bin/nm -B output from gcc object... ok\n",
      "checking for sysroot... no\n",
      "./configure: line 7378: /usr/bin/file: No such file or directory\n",
      "checking for mt... no\n",
      "checking if : is a manifest tool... no\n",
      "checking for ANSI C header files... yes\n",
      "checking for sys/types.h... yes\n",
      "checking for sys/stat.h... yes\n",
      "checking for stdlib.h... yes\n",
      "checking for string.h... yes\n",
      "checking for memory.h... yes\n",
      "checking for strings.h... yes\n",
      "checking for inttypes.h... yes\n",
      "checking for stdint.h... yes\n",
      "checking for unistd.h... yes\n",
      "checking for dlfcn.h... yes\n",
      "checking for objdir... .libs\n",
      "checking if gcc supports -fno-rtti -fno-exceptions... no\n",
      "checking for gcc option to produce PIC... -fPIC -DPIC\n",
      "checking if gcc PIC flag -fPIC -DPIC works... yes\n",
      "checking if gcc static flag -static works... yes\n",
      "checking if gcc supports -c -o file.o... yes\n",
      "checking if gcc supports -c -o file.o... (cached) yes\n",
      "checking whether the gcc linker (/usr/bin/ld) supports shared libraries... yes\n",
      "checking whether -lc should be explicitly linked in... no\n",
      "checking dynamic linker characteristics... GNU/Linux ld.so\n",
      "checking how to hardcode library paths into programs... immediate\n",
      "checking whether stripping libraries is possible... yes\n",
      "checking if libtool supports shared libraries... yes\n",
      "checking whether to build shared libraries... yes\n",
      "checking whether to build static libraries... yes\n",
      "checking how to run the C++ preprocessor... g++ -E\n",
      "checking for ld used by g++... /usr/bin/ld\n",
      "checking if the linker (/usr/bin/ld) is GNU ld... yes\n",
      "checking whether the g++ linker (/usr/bin/ld) supports shared libraries... yes\n",
      "checking for g++ option to produce PIC... -fPIC -DPIC\n",
      "checking if g++ PIC flag -fPIC -DPIC works... yes\n",
      "checking if g++ static flag -static works... yes\n",
      "checking if g++ supports -c -o file.o... yes\n",
      "checking if g++ supports -c -o file.o... (cached) yes\n",
      "checking whether the g++ linker (/usr/bin/ld) supports shared libraries... yes\n",
      "checking dynamic linker characteristics... (cached) GNU/Linux ld.so\n",
      "checking how to hardcode library paths into programs... immediate\n",
      "checking for library containing strerror... none required\n",
      "checking whether byte ordering is bigendian... no\n",
      "checking for ld used by GCC... /usr/bin/ld\n",
      "checking if the linker (/usr/bin/ld) is GNU ld... yes\n",
      "checking for shared library run path origin... done\n",
      "checking for iconv... yes\n",
      "checking for working iconv... yes\n",
      "checking for iconv declaration... \n",
      "         extern size_t iconv (iconv_t cd, char * *inbuf, size_t *inbytesleft, char * *outbuf, size_t *outbytesleft);\n",
      "checking for ANSI C header files... (cached) yes\n",
      "checking for an ANSI C-conforming const... yes\n",
      "checking whether byte ordering is bigendian... (cached) no\n",
      "checking for string.h... (cached) yes\n",
      "checking for stdlib.h... (cached) yes\n",
      "checking for unistd.h... (cached) yes\n",
      "checking fcntl.h usability... yes\n",
      "checking fcntl.h presence... yes\n",
      "checking for fcntl.h... yes\n",
      "checking for stdint.h... (cached) yes\n",
      "checking for sys/stat.h... (cached) yes\n",
      "checking sys/mman.h usability... yes\n",
      "checking sys/mman.h presence... yes\n",
      "checking for sys/mman.h... yes\n",
      "checking sys/times.h usability... yes\n",
      "checking sys/times.h presence... yes\n",
      "checking for sys/times.h... yes\n",
      "checking for sys/types.h... (cached) yes\n",
      "checking dirent.h usability... yes\n",
      "checking dirent.h presence... yes\n",
      "checking for dirent.h... yes\n",
      "checking ctype.h usability... yes\n",
      "checking ctype.h presence... yes\n",
      "checking for ctype.h... yes\n",
      "checking for sys/types.h... (cached) yes\n",
      "checking io.h usability... no\n",
      "checking io.h presence... no\n",
      "checking for io.h... no\n",
      "checking windows.h usability... no\n",
      "checking windows.h presence... no\n",
      "checking for windows.h... no\n",
      "checking pthread.h usability... yes\n",
      "checking pthread.h presence... yes\n",
      "checking for pthread.h... yes\n",
      "checking for off_t... yes\n",
      "checking for size_t... yes\n",
      "checking size of char... 1\n",
      "checking size of short... 2\n",
      "checking size of int... 4\n",
      "checking size of long... 8\n",
      "checking size of long long... 8\n",
      "checking size of size_t... 8\n",
      "checking for size_t... (cached) yes\n",
      "checking for unsigned long long int... yes\n",
      "checking for stdlib.h... (cached) yes\n",
      "checking for unistd.h... (cached) yes\n",
      "checking for sys/param.h... yes\n",
      "checking for getpagesize... yes\n",
      "checking for working mmap... yes\n",
      "checking for main in -lstdc++... yes\n",
      "checking for pthread_create in -lpthread... yes\n",
      "checking for pthread_join in -lpthread... yes\n",
      "checking for getenv... yes\n",
      "checking for opendir... yes\n",
      "checking whether make is GNU Make... yes\n",
      "checking if g++ supports stl <vector> (required)... yes\n",
      "checking if g++ supports stl <list> (required)... yes\n",
      "checking if g++ supports stl <map> (required)... yes\n",
      "checking if g++ supports stl <set> (required)... yes\n",
      "checking if g++ supports stl <queue> (required)... yes\n",
      "checking if g++ supports stl <functional> (required)... yes\n",
      "checking if g++ supports stl <algorithm> (required)... yes\n",
      "checking if g++ supports stl <string> (required)... yes\n",
      "checking if g++ supports stl <iostream> (required)... yes\n",
      "checking if g++ supports stl <sstream> (required)... yes\n",
      "checking if g++ supports stl <fstream> (required)... yes\n",
      "checking if g++ supports template <class T> (required)... yes\n",
      "checking if g++ supports const_cast<> (required)... yes\n",
      "checking if g++ supports static_cast<> (required)... yes\n",
      "checking if g++ supports reinterpret_cast<> (required)... yes\n",
      "checking if g++ supports namespaces (required) ... yes\n",
      "checking if g++ supports __thread (optional)... yes\n",
      "checking if g++ supports template <class T> (required)... yes\n",
      "checking if g++ supports GCC native atomic operations (optional)... yes\n",
      "checking if g++ supports OSX native atomic operations (optional)... no\n",
      "checking if g++ environment provides all required features... yes\n",
      "configure: creating ./config.status\n",
      "config.status: creating Makefile\n",
      "config.status: creating src/Makefile\n",
      "config.status: creating src/Makefile.msvc\n",
      "config.status: creating man/Makefile\n",
      "config.status: creating doc/Makefile\n",
      "config.status: creating tests/Makefile\n",
      "config.status: creating swig/version.h\n",
      "config.status: creating mecab.iss\n",
      "config.status: creating mecab-config\n",
      "config.status: creating mecabrc\n",
      "config.status: creating config.h\n",
      "config.status: executing depfiles commands\n",
      "config.status: executing libtool commands\n",
      "config.status: executing default commands\n",
      "make  all-recursive\n",
      "make[1]: Entering directory '/tmp/mecab-0.996-ko-0.9.2'\n",
      "Making all in src\n",
      "make[2]: Entering directory '/tmp/mecab-0.996-ko-0.9.2/src'\n",
      "/bin/bash ../libtool --tag=CXX   --mode=compile g++ -DHAVE_CONFIG_H -I. -I.. -DDIC_VERSION=102   -DMECAB_DEFAULT_RC=\"\\\"/usr/local/etc/mecabrc\\\"\"    -O3 -Wall  -c -o viterbi.lo viterbi.cpp\n",
      "libtool: compile:  g++ -DHAVE_CONFIG_H -I. -I.. -DDIC_VERSION=102 -DMECAB_DEFAULT_RC=\\\"/usr/local/etc/mecabrc\\\" -O3 -Wall -c viterbi.cpp  -fPIC -DPIC -o .libs/viterbi.o\n",
      "In file included from \u001b[01m\u001b[Kviterbi.cpp:14:0\u001b[m\u001b[K:\n",
      "\u001b[01m\u001b[Kparam.h:30:13:\u001b[m\u001b[K \u001b[01;35m\u001b[Kwarning: \u001b[m\u001b[K'\u001b[01m\u001b[KTarget {anonymous}::lexical_cast(Source) [with Target = std::__cxx11::basic_string<char>; Source = std::__cxx11::basic_string<char>]\u001b[m\u001b[K' defined but not used [\u001b[01;35m\u001b[K-Wunused-function\u001b[m\u001b[K]\n",
      " std::string \u001b[01;35m\u001b[Klexical_cast<std::string, std::string>\u001b[m\u001b[K(std::string arg) {\n",
      "             \u001b[01;35m\u001b[K^~~~~~~~~~~~~~~~~~~~~~~~~~~~~~~~~~~~~~\u001b[m\u001b[K\n",
      "libtool: compile:  g++ -DHAVE_CONFIG_H -I. -I.. -DDIC_VERSION=102 -DMECAB_DEFAULT_RC=\\\"/usr/local/etc/mecabrc\\\" -O3 -Wall -c viterbi.cpp -o viterbi.o >/dev/null 2>&1\n",
      "/bin/bash ../libtool --tag=CXX   --mode=compile g++ -DHAVE_CONFIG_H -I. -I.. -DDIC_VERSION=102   -DMECAB_DEFAULT_RC=\"\\\"/usr/local/etc/mecabrc\\\"\"    -O3 -Wall  -c -o tagger.lo tagger.cpp\n",
      "libtool: compile:  g++ -DHAVE_CONFIG_H -I. -I.. -DDIC_VERSION=102 -DMECAB_DEFAULT_RC=\\\"/usr/local/etc/mecabrc\\\" -O3 -Wall -c tagger.cpp  -fPIC -DPIC -o .libs/tagger.o\n",
      "libtool: compile:  g++ -DHAVE_CONFIG_H -I. -I.. -DDIC_VERSION=102 -DMECAB_DEFAULT_RC=\\\"/usr/local/etc/mecabrc\\\" -O3 -Wall -c tagger.cpp -o tagger.o >/dev/null 2>&1\n",
      "/bin/bash ../libtool --tag=CXX   --mode=compile g++ -DHAVE_CONFIG_H -I. -I.. -DDIC_VERSION=102   -DMECAB_DEFAULT_RC=\"\\\"/usr/local/etc/mecabrc\\\"\"    -O3 -Wall  -c -o utils.lo utils.cpp\n",
      "libtool: compile:  g++ -DHAVE_CONFIG_H -I. -I.. -DDIC_VERSION=102 -DMECAB_DEFAULT_RC=\\\"/usr/local/etc/mecabrc\\\" -O3 -Wall -c utils.cpp  -fPIC -DPIC -o .libs/utils.o\n",
      "libtool: compile:  g++ -DHAVE_CONFIG_H -I. -I.. -DDIC_VERSION=102 -DMECAB_DEFAULT_RC=\\\"/usr/local/etc/mecabrc\\\" -O3 -Wall -c utils.cpp -o utils.o >/dev/null 2>&1\n",
      "/bin/bash ../libtool --tag=CXX   --mode=compile g++ -DHAVE_CONFIG_H -I. -I.. -DDIC_VERSION=102   -DMECAB_DEFAULT_RC=\"\\\"/usr/local/etc/mecabrc\\\"\"    -O3 -Wall  -c -o eval.lo eval.cpp\n",
      "libtool: compile:  g++ -DHAVE_CONFIG_H -I. -I.. -DDIC_VERSION=102 -DMECAB_DEFAULT_RC=\\\"/usr/local/etc/mecabrc\\\" -O3 -Wall -c eval.cpp  -fPIC -DPIC -o .libs/eval.o\n",
      "libtool: compile:  g++ -DHAVE_CONFIG_H -I. -I.. -DDIC_VERSION=102 -DMECAB_DEFAULT_RC=\\\"/usr/local/etc/mecabrc\\\" -O3 -Wall -c eval.cpp -o eval.o >/dev/null 2>&1\n",
      "/bin/bash ../libtool --tag=CXX   --mode=compile g++ -DHAVE_CONFIG_H -I. -I.. -DDIC_VERSION=102   -DMECAB_DEFAULT_RC=\"\\\"/usr/local/etc/mecabrc\\\"\"    -O3 -Wall  -c -o iconv_utils.lo iconv_utils.cpp\n",
      "libtool: compile:  g++ -DHAVE_CONFIG_H -I. -I.. -DDIC_VERSION=102 -DMECAB_DEFAULT_RC=\\\"/usr/local/etc/mecabrc\\\" -O3 -Wall -c iconv_utils.cpp  -fPIC -DPIC -o .libs/iconv_utils.o\n",
      "libtool: compile:  g++ -DHAVE_CONFIG_H -I. -I.. -DDIC_VERSION=102 -DMECAB_DEFAULT_RC=\\\"/usr/local/etc/mecabrc\\\" -O3 -Wall -c iconv_utils.cpp -o iconv_utils.o >/dev/null 2>&1\n",
      "/bin/bash ../libtool --tag=CXX   --mode=compile g++ -DHAVE_CONFIG_H -I. -I.. -DDIC_VERSION=102   -DMECAB_DEFAULT_RC=\"\\\"/usr/local/etc/mecabrc\\\"\"    -O3 -Wall  -c -o dictionary_rewriter.lo dictionary_rewriter.cpp\n",
      "libtool: compile:  g++ -DHAVE_CONFIG_H -I. -I.. -DDIC_VERSION=102 -DMECAB_DEFAULT_RC=\\\"/usr/local/etc/mecabrc\\\" -O3 -Wall -c dictionary_rewriter.cpp  -fPIC -DPIC -o .libs/dictionary_rewriter.o\n",
      "libtool: compile:  g++ -DHAVE_CONFIG_H -I. -I.. -DDIC_VERSION=102 -DMECAB_DEFAULT_RC=\\\"/usr/local/etc/mecabrc\\\" -O3 -Wall -c dictionary_rewriter.cpp -o dictionary_rewriter.o >/dev/null 2>&1\n",
      "/bin/bash ../libtool --tag=CXX   --mode=compile g++ -DHAVE_CONFIG_H -I. -I.. -DDIC_VERSION=102   -DMECAB_DEFAULT_RC=\"\\\"/usr/local/etc/mecabrc\\\"\"    -O3 -Wall  -c -o dictionary_generator.lo dictionary_generator.cpp\n",
      "libtool: compile:  g++ -DHAVE_CONFIG_H -I. -I.. -DDIC_VERSION=102 -DMECAB_DEFAULT_RC=\\\"/usr/local/etc/mecabrc\\\" -O3 -Wall -c dictionary_generator.cpp  -fPIC -DPIC -o .libs/dictionary_generator.o\n",
      "libtool: compile:  g++ -DHAVE_CONFIG_H -I. -I.. -DDIC_VERSION=102 -DMECAB_DEFAULT_RC=\\\"/usr/local/etc/mecabrc\\\" -O3 -Wall -c dictionary_generator.cpp -o dictionary_generator.o >/dev/null 2>&1\n",
      "/bin/bash ../libtool --tag=CXX   --mode=compile g++ -DHAVE_CONFIG_H -I. -I.. -DDIC_VERSION=102   -DMECAB_DEFAULT_RC=\"\\\"/usr/local/etc/mecabrc\\\"\"    -O3 -Wall  -c -o dictionary_compiler.lo dictionary_compiler.cpp\n",
      "libtool: compile:  g++ -DHAVE_CONFIG_H -I. -I.. -DDIC_VERSION=102 -DMECAB_DEFAULT_RC=\\\"/usr/local/etc/mecabrc\\\" -O3 -Wall -c dictionary_compiler.cpp  -fPIC -DPIC -o .libs/dictionary_compiler.o\n",
      "libtool: compile:  g++ -DHAVE_CONFIG_H -I. -I.. -DDIC_VERSION=102 -DMECAB_DEFAULT_RC=\\\"/usr/local/etc/mecabrc\\\" -O3 -Wall -c dictionary_compiler.cpp -o dictionary_compiler.o >/dev/null 2>&1\n",
      "/bin/bash ../libtool --tag=CXX   --mode=compile g++ -DHAVE_CONFIG_H -I. -I.. -DDIC_VERSION=102   -DMECAB_DEFAULT_RC=\"\\\"/usr/local/etc/mecabrc\\\"\"    -O3 -Wall  -c -o context_id.lo context_id.cpp\n",
      "libtool: compile:  g++ -DHAVE_CONFIG_H -I. -I.. -DDIC_VERSION=102 -DMECAB_DEFAULT_RC=\\\"/usr/local/etc/mecabrc\\\" -O3 -Wall -c context_id.cpp  -fPIC -DPIC -o .libs/context_id.o\n",
      "libtool: compile:  g++ -DHAVE_CONFIG_H -I. -I.. -DDIC_VERSION=102 -DMECAB_DEFAULT_RC=\\\"/usr/local/etc/mecabrc\\\" -O3 -Wall -c context_id.cpp -o context_id.o >/dev/null 2>&1\n",
      "/bin/bash ../libtool --tag=CXX   --mode=compile g++ -DHAVE_CONFIG_H -I. -I.. -DDIC_VERSION=102   -DMECAB_DEFAULT_RC=\"\\\"/usr/local/etc/mecabrc\\\"\"    -O3 -Wall  -c -o connector.lo connector.cpp\n",
      "libtool: compile:  g++ -DHAVE_CONFIG_H -I. -I.. -DDIC_VERSION=102 -DMECAB_DEFAULT_RC=\\\"/usr/local/etc/mecabrc\\\" -O3 -Wall -c connector.cpp  -fPIC -DPIC -o .libs/connector.o\n",
      "libtool: compile:  g++ -DHAVE_CONFIG_H -I. -I.. -DDIC_VERSION=102 -DMECAB_DEFAULT_RC=\\\"/usr/local/etc/mecabrc\\\" -O3 -Wall -c connector.cpp -o connector.o >/dev/null 2>&1\n",
      "/bin/bash ../libtool --tag=CXX   --mode=compile g++ -DHAVE_CONFIG_H -I. -I.. -DDIC_VERSION=102   -DMECAB_DEFAULT_RC=\"\\\"/usr/local/etc/mecabrc\\\"\"    -O3 -Wall  -c -o nbest_generator.lo nbest_generator.cpp\n",
      "libtool: compile:  g++ -DHAVE_CONFIG_H -I. -I.. -DDIC_VERSION=102 -DMECAB_DEFAULT_RC=\\\"/usr/local/etc/mecabrc\\\" -O3 -Wall -c nbest_generator.cpp  -fPIC -DPIC -o .libs/nbest_generator.o\n",
      "libtool: compile:  g++ -DHAVE_CONFIG_H -I. -I.. -DDIC_VERSION=102 -DMECAB_DEFAULT_RC=\\\"/usr/local/etc/mecabrc\\\" -O3 -Wall -c nbest_generator.cpp -o nbest_generator.o >/dev/null 2>&1\n",
      "/bin/bash ../libtool --tag=CXX   --mode=compile g++ -DHAVE_CONFIG_H -I. -I.. -DDIC_VERSION=102   -DMECAB_DEFAULT_RC=\"\\\"/usr/local/etc/mecabrc\\\"\"    -O3 -Wall  -c -o writer.lo writer.cpp\n",
      "libtool: compile:  g++ -DHAVE_CONFIG_H -I. -I.. -DDIC_VERSION=102 -DMECAB_DEFAULT_RC=\\\"/usr/local/etc/mecabrc\\\" -O3 -Wall -c writer.cpp  -fPIC -DPIC -o .libs/writer.o\n",
      "libtool: compile:  g++ -DHAVE_CONFIG_H -I. -I.. -DDIC_VERSION=102 -DMECAB_DEFAULT_RC=\\\"/usr/local/etc/mecabrc\\\" -O3 -Wall -c writer.cpp -o writer.o >/dev/null 2>&1\n",
      "/bin/bash ../libtool --tag=CXX   --mode=compile g++ -DHAVE_CONFIG_H -I. -I.. -DDIC_VERSION=102   -DMECAB_DEFAULT_RC=\"\\\"/usr/local/etc/mecabrc\\\"\"    -O3 -Wall  -c -o string_buffer.lo string_buffer.cpp\n",
      "libtool: compile:  g++ -DHAVE_CONFIG_H -I. -I.. -DDIC_VERSION=102 -DMECAB_DEFAULT_RC=\\\"/usr/local/etc/mecabrc\\\" -O3 -Wall -c string_buffer.cpp  -fPIC -DPIC -o .libs/string_buffer.o\n",
      "libtool: compile:  g++ -DHAVE_CONFIG_H -I. -I.. -DDIC_VERSION=102 -DMECAB_DEFAULT_RC=\\\"/usr/local/etc/mecabrc\\\" -O3 -Wall -c string_buffer.cpp -o string_buffer.o >/dev/null 2>&1\n",
      "/bin/bash ../libtool --tag=CXX   --mode=compile g++ -DHAVE_CONFIG_H -I. -I.. -DDIC_VERSION=102   -DMECAB_DEFAULT_RC=\"\\\"/usr/local/etc/mecabrc\\\"\"    -O3 -Wall  -c -o param.lo param.cpp\n",
      "libtool: compile:  g++ -DHAVE_CONFIG_H -I. -I.. -DDIC_VERSION=102 -DMECAB_DEFAULT_RC=\\\"/usr/local/etc/mecabrc\\\" -O3 -Wall -c param.cpp  -fPIC -DPIC -o .libs/param.o\n",
      "libtool: compile:  g++ -DHAVE_CONFIG_H -I. -I.. -DDIC_VERSION=102 -DMECAB_DEFAULT_RC=\\\"/usr/local/etc/mecabrc\\\" -O3 -Wall -c param.cpp -o param.o >/dev/null 2>&1\n",
      "/bin/bash ../libtool --tag=CXX   --mode=compile g++ -DHAVE_CONFIG_H -I. -I.. -DDIC_VERSION=102   -DMECAB_DEFAULT_RC=\"\\\"/usr/local/etc/mecabrc\\\"\"    -O3 -Wall  -c -o tokenizer.lo tokenizer.cpp\n",
      "libtool: compile:  g++ -DHAVE_CONFIG_H -I. -I.. -DDIC_VERSION=102 -DMECAB_DEFAULT_RC=\\\"/usr/local/etc/mecabrc\\\" -O3 -Wall -c tokenizer.cpp  -fPIC -DPIC -o .libs/tokenizer.o\n",
      "libtool: compile:  g++ -DHAVE_CONFIG_H -I. -I.. -DDIC_VERSION=102 -DMECAB_DEFAULT_RC=\\\"/usr/local/etc/mecabrc\\\" -O3 -Wall -c tokenizer.cpp -o tokenizer.o >/dev/null 2>&1\n",
      "/bin/bash ../libtool --tag=CXX   --mode=compile g++ -DHAVE_CONFIG_H -I. -I.. -DDIC_VERSION=102   -DMECAB_DEFAULT_RC=\"\\\"/usr/local/etc/mecabrc\\\"\"    -O3 -Wall  -c -o char_property.lo char_property.cpp\n",
      "libtool: compile:  g++ -DHAVE_CONFIG_H -I. -I.. -DDIC_VERSION=102 -DMECAB_DEFAULT_RC=\\\"/usr/local/etc/mecabrc\\\" -O3 -Wall -c char_property.cpp  -fPIC -DPIC -o .libs/char_property.o\n",
      "libtool: compile:  g++ -DHAVE_CONFIG_H -I. -I.. -DDIC_VERSION=102 -DMECAB_DEFAULT_RC=\\\"/usr/local/etc/mecabrc\\\" -O3 -Wall -c char_property.cpp -o char_property.o >/dev/null 2>&1\n",
      "/bin/bash ../libtool --tag=CXX   --mode=compile g++ -DHAVE_CONFIG_H -I. -I.. -DDIC_VERSION=102   -DMECAB_DEFAULT_RC=\"\\\"/usr/local/etc/mecabrc\\\"\"    -O3 -Wall  -c -o dictionary.lo dictionary.cpp\n",
      "libtool: compile:  g++ -DHAVE_CONFIG_H -I. -I.. -DDIC_VERSION=102 -DMECAB_DEFAULT_RC=\\\"/usr/local/etc/mecabrc\\\" -O3 -Wall -c dictionary.cpp  -fPIC -DPIC -o .libs/dictionary.o\n",
      "libtool: compile:  g++ -DHAVE_CONFIG_H -I. -I.. -DDIC_VERSION=102 -DMECAB_DEFAULT_RC=\\\"/usr/local/etc/mecabrc\\\" -O3 -Wall -c dictionary.cpp -o dictionary.o >/dev/null 2>&1\n",
      "/bin/bash ../libtool --tag=CXX   --mode=compile g++ -DHAVE_CONFIG_H -I. -I.. -DDIC_VERSION=102   -DMECAB_DEFAULT_RC=\"\\\"/usr/local/etc/mecabrc\\\"\"    -O3 -Wall  -c -o feature_index.lo feature_index.cpp\n",
      "libtool: compile:  g++ -DHAVE_CONFIG_H -I. -I.. -DDIC_VERSION=102 -DMECAB_DEFAULT_RC=\\\"/usr/local/etc/mecabrc\\\" -O3 -Wall -c feature_index.cpp  -fPIC -DPIC -o .libs/feature_index.o\n",
      "libtool: compile:  g++ -DHAVE_CONFIG_H -I. -I.. -DDIC_VERSION=102 -DMECAB_DEFAULT_RC=\\\"/usr/local/etc/mecabrc\\\" -O3 -Wall -c feature_index.cpp -o feature_index.o >/dev/null 2>&1\n",
      "/bin/bash ../libtool --tag=CXX   --mode=compile g++ -DHAVE_CONFIG_H -I. -I.. -DDIC_VERSION=102   -DMECAB_DEFAULT_RC=\"\\\"/usr/local/etc/mecabrc\\\"\"    -O3 -Wall  -c -o lbfgs.lo lbfgs.cpp\n",
      "libtool: compile:  g++ -DHAVE_CONFIG_H -I. -I.. -DDIC_VERSION=102 -DMECAB_DEFAULT_RC=\\\"/usr/local/etc/mecabrc\\\" -O3 -Wall -c lbfgs.cpp  -fPIC -DPIC -o .libs/lbfgs.o\n",
      "libtool: compile:  g++ -DHAVE_CONFIG_H -I. -I.. -DDIC_VERSION=102 -DMECAB_DEFAULT_RC=\\\"/usr/local/etc/mecabrc\\\" -O3 -Wall -c lbfgs.cpp -o lbfgs.o >/dev/null 2>&1\n",
      "/bin/bash ../libtool --tag=CXX   --mode=compile g++ -DHAVE_CONFIG_H -I. -I.. -DDIC_VERSION=102   -DMECAB_DEFAULT_RC=\"\\\"/usr/local/etc/mecabrc\\\"\"    -O3 -Wall  -c -o learner_tagger.lo learner_tagger.cpp\n",
      "libtool: compile:  g++ -DHAVE_CONFIG_H -I. -I.. -DDIC_VERSION=102 -DMECAB_DEFAULT_RC=\\\"/usr/local/etc/mecabrc\\\" -O3 -Wall -c learner_tagger.cpp  -fPIC -DPIC -o .libs/learner_tagger.o\n",
      "\u001b[01m\u001b[Klearner_tagger.cpp:25:7:\u001b[m\u001b[K \u001b[01;35m\u001b[Kwarning: \u001b[m\u001b[K'\u001b[01m\u001b[Kchar* MeCab::{anonymous}::mystrdup(const string&)\u001b[m\u001b[K' defined but not used [\u001b[01;35m\u001b[K-Wunused-function\u001b[m\u001b[K]\n",
      " char *\u001b[01;35m\u001b[Kmystrdup\u001b[m\u001b[K(const std::string &str) {\n",
      "       \u001b[01;35m\u001b[K^~~~~~~~\u001b[m\u001b[K\n",
      "libtool: compile:  g++ -DHAVE_CONFIG_H -I. -I.. -DDIC_VERSION=102 -DMECAB_DEFAULT_RC=\\\"/usr/local/etc/mecabrc\\\" -O3 -Wall -c learner_tagger.cpp -o learner_tagger.o >/dev/null 2>&1\n",
      "/bin/bash ../libtool --tag=CXX   --mode=compile g++ -DHAVE_CONFIG_H -I. -I.. -DDIC_VERSION=102   -DMECAB_DEFAULT_RC=\"\\\"/usr/local/etc/mecabrc\\\"\"    -O3 -Wall  -c -o learner.lo learner.cpp\n",
      "libtool: compile:  g++ -DHAVE_CONFIG_H -I. -I.. -DDIC_VERSION=102 -DMECAB_DEFAULT_RC=\\\"/usr/local/etc/mecabrc\\\" -O3 -Wall -c learner.cpp  -fPIC -DPIC -o .libs/learner.o\n",
      "libtool: compile:  g++ -DHAVE_CONFIG_H -I. -I.. -DDIC_VERSION=102 -DMECAB_DEFAULT_RC=\\\"/usr/local/etc/mecabrc\\\" -O3 -Wall -c learner.cpp -o learner.o >/dev/null 2>&1\n",
      "/bin/bash ../libtool --tag=CXX   --mode=compile g++ -DHAVE_CONFIG_H -I. -I.. -DDIC_VERSION=102   -DMECAB_DEFAULT_RC=\"\\\"/usr/local/etc/mecabrc\\\"\"    -O3 -Wall  -c -o libmecab.lo libmecab.cpp\n",
      "libtool: compile:  g++ -DHAVE_CONFIG_H -I. -I.. -DDIC_VERSION=102 -DMECAB_DEFAULT_RC=\\\"/usr/local/etc/mecabrc\\\" -O3 -Wall -c libmecab.cpp  -fPIC -DPIC -o .libs/libmecab.o\n",
      "libtool: compile:  g++ -DHAVE_CONFIG_H -I. -I.. -DDIC_VERSION=102 -DMECAB_DEFAULT_RC=\\\"/usr/local/etc/mecabrc\\\" -O3 -Wall -c libmecab.cpp -o libmecab.o >/dev/null 2>&1\n",
      "/bin/bash ../libtool --tag=CXX   --mode=link g++  -O3 -Wall  -no-undefined -version-info 2:0:0  -o libmecab.la -rpath /usr/local/lib viterbi.lo tagger.lo utils.lo eval.lo iconv_utils.lo dictionary_rewriter.lo dictionary_generator.lo dictionary_compiler.lo context_id.lo connector.lo nbest_generator.lo writer.lo string_buffer.lo param.lo tokenizer.lo char_property.lo dictionary.lo feature_index.lo lbfgs.lo learner_tagger.lo learner.lo libmecab.lo  -lpthread -lpthread  -lstdc++ \n",
      "libtool: link: g++  -fPIC -DPIC -shared -nostdlib /usr/lib/gcc/x86_64-linux-gnu/7/../../../x86_64-linux-gnu/crti.o /usr/lib/gcc/x86_64-linux-gnu/7/crtbeginS.o  .libs/viterbi.o .libs/tagger.o .libs/utils.o .libs/eval.o .libs/iconv_utils.o .libs/dictionary_rewriter.o .libs/dictionary_generator.o .libs/dictionary_compiler.o .libs/context_id.o .libs/connector.o .libs/nbest_generator.o .libs/writer.o .libs/string_buffer.o .libs/param.o .libs/tokenizer.o .libs/char_property.o .libs/dictionary.o .libs/feature_index.o .libs/lbfgs.o .libs/learner_tagger.o .libs/learner.o .libs/libmecab.o   -lpthread -L/usr/lib/gcc/x86_64-linux-gnu/7 -L/usr/lib/gcc/x86_64-linux-gnu/7/../../../x86_64-linux-gnu -L/usr/lib/gcc/x86_64-linux-gnu/7/../../../../lib -L/lib/x86_64-linux-gnu -L/lib/../lib -L/usr/lib/x86_64-linux-gnu -L/usr/lib/../lib -L/usr/local/cuda/lib64/stubs -L/usr/lib/gcc/x86_64-linux-gnu/7/../../.. -lstdc++ -lm -lc -lgcc_s /usr/lib/gcc/x86_64-linux-gnu/7/crtendS.o /usr/lib/gcc/x86_64-linux-gnu/7/../../../x86_64-linux-gnu/crtn.o  -O3   -Wl,-soname -Wl,libmecab.so.2 -o .libs/libmecab.so.2.0.0\n",
      "libtool: link: (cd \".libs\" && rm -f \"libmecab.so.2\" && ln -s \"libmecab.so.2.0.0\" \"libmecab.so.2\")\n",
      "libtool: link: (cd \".libs\" && rm -f \"libmecab.so\" && ln -s \"libmecab.so.2.0.0\" \"libmecab.so\")\n",
      "libtool: link: ar cru .libs/libmecab.a  viterbi.o tagger.o utils.o eval.o iconv_utils.o dictionary_rewriter.o dictionary_generator.o dictionary_compiler.o context_id.o connector.o nbest_generator.o writer.o string_buffer.o param.o tokenizer.o char_property.o dictionary.o feature_index.o lbfgs.o learner_tagger.o learner.o libmecab.o\n",
      "ar: `u' modifier ignored since `D' is the default (see `U')\n",
      "libtool: link: ranlib .libs/libmecab.a\n",
      "libtool: link: ( cd \".libs\" && rm -f \"libmecab.la\" && ln -s \"../libmecab.la\" \"libmecab.la\" )\n",
      "g++ -DHAVE_CONFIG_H -I. -I.. -DDIC_VERSION=102   -DMECAB_DEFAULT_RC=\"\\\"/usr/local/etc/mecabrc\\\"\"    -O3 -Wall  -c -o mecab.o mecab.cpp\n",
      "/bin/bash ../libtool --tag=CXX   --mode=link g++  -O3 -Wall    -o mecab mecab.o libmecab.la -lpthread -lpthread  -lstdc++ \n",
      "libtool: link: g++ -O3 -Wall -o .libs/mecab mecab.o  ./.libs/libmecab.so -lpthread -lstdc++\n",
      "g++ -DHAVE_CONFIG_H -I. -I.. -DDIC_VERSION=102   -DMECAB_DEFAULT_RC=\"\\\"/usr/local/etc/mecabrc\\\"\"    -O3 -Wall  -c -o mecab-dict-index.o mecab-dict-index.cpp\n",
      "/bin/bash ../libtool --tag=CXX   --mode=link g++  -O3 -Wall    -o mecab-dict-index mecab-dict-index.o libmecab.la -lpthread -lpthread  -lstdc++ \n",
      "libtool: link: g++ -O3 -Wall -o .libs/mecab-dict-index mecab-dict-index.o  ./.libs/libmecab.so -lpthread -lstdc++\n",
      "g++ -DHAVE_CONFIG_H -I. -I.. -DDIC_VERSION=102   -DMECAB_DEFAULT_RC=\"\\\"/usr/local/etc/mecabrc\\\"\"    -O3 -Wall  -c -o mecab-dict-gen.o mecab-dict-gen.cpp\n",
      "/bin/bash ../libtool --tag=CXX   --mode=link g++  -O3 -Wall    -o mecab-dict-gen mecab-dict-gen.o libmecab.la -lpthread -lpthread  -lstdc++ \n",
      "libtool: link: g++ -O3 -Wall -o .libs/mecab-dict-gen mecab-dict-gen.o  ./.libs/libmecab.so -lpthread -lstdc++\n",
      "g++ -DHAVE_CONFIG_H -I. -I.. -DDIC_VERSION=102   -DMECAB_DEFAULT_RC=\"\\\"/usr/local/etc/mecabrc\\\"\"    -O3 -Wall  -c -o mecab-cost-train.o mecab-cost-train.cpp\n",
      "/bin/bash ../libtool --tag=CXX   --mode=link g++  -O3 -Wall    -o mecab-cost-train mecab-cost-train.o libmecab.la -lpthread -lpthread  -lstdc++ \n",
      "libtool: link: g++ -O3 -Wall -o .libs/mecab-cost-train mecab-cost-train.o  ./.libs/libmecab.so -lpthread -lstdc++\n",
      "g++ -DHAVE_CONFIG_H -I. -I.. -DDIC_VERSION=102   -DMECAB_DEFAULT_RC=\"\\\"/usr/local/etc/mecabrc\\\"\"    -O3 -Wall  -c -o mecab-system-eval.o mecab-system-eval.cpp\n",
      "/bin/bash ../libtool --tag=CXX   --mode=link g++  -O3 -Wall    -o mecab-system-eval mecab-system-eval.o libmecab.la -lpthread -lpthread  -lstdc++ \n",
      "libtool: link: g++ -O3 -Wall -o .libs/mecab-system-eval mecab-system-eval.o  ./.libs/libmecab.so -lpthread -lstdc++\n",
      "g++ -DHAVE_CONFIG_H -I. -I.. -DDIC_VERSION=102   -DMECAB_DEFAULT_RC=\"\\\"/usr/local/etc/mecabrc\\\"\"    -O3 -Wall  -c -o mecab-test-gen.o mecab-test-gen.cpp\n",
      "/bin/bash ../libtool --tag=CXX   --mode=link g++  -O3 -Wall    -o mecab-test-gen mecab-test-gen.o libmecab.la -lpthread -lpthread  -lstdc++ \n",
      "libtool: link: g++ -O3 -Wall -o .libs/mecab-test-gen mecab-test-gen.o  ./.libs/libmecab.so -lpthread -lstdc++\n",
      "make[2]: Leaving directory '/tmp/mecab-0.996-ko-0.9.2/src'\n",
      "Making all in man\n",
      "make[2]: Entering directory '/tmp/mecab-0.996-ko-0.9.2/man'\n",
      "make[2]: Nothing to be done for 'all'.\n",
      "make[2]: Leaving directory '/tmp/mecab-0.996-ko-0.9.2/man'\n",
      "Making all in doc\n",
      "make[2]: Entering directory '/tmp/mecab-0.996-ko-0.9.2/doc'\n",
      "make[2]: Nothing to be done for 'all'.\n",
      "make[2]: Leaving directory '/tmp/mecab-0.996-ko-0.9.2/doc'\n",
      "Making all in tests\n",
      "make[2]: Entering directory '/tmp/mecab-0.996-ko-0.9.2/tests'\n",
      "make[2]: Nothing to be done for 'all'.\n",
      "make[2]: Leaving directory '/tmp/mecab-0.996-ko-0.9.2/tests'\n",
      "make[2]: Entering directory '/tmp/mecab-0.996-ko-0.9.2'\n",
      "make[2]: Leaving directory '/tmp/mecab-0.996-ko-0.9.2'\n",
      "make[1]: Leaving directory '/tmp/mecab-0.996-ko-0.9.2'\n",
      "Making check in src\n",
      "make[1]: Entering directory '/tmp/mecab-0.996-ko-0.9.2/src'\n",
      "make[1]: Nothing to be done for 'check'.\n",
      "make[1]: Leaving directory '/tmp/mecab-0.996-ko-0.9.2/src'\n",
      "Making check in man\n",
      "make[1]: Entering directory '/tmp/mecab-0.996-ko-0.9.2/man'\n",
      "make[1]: Nothing to be done for 'check'.\n",
      "make[1]: Leaving directory '/tmp/mecab-0.996-ko-0.9.2/man'\n",
      "Making check in doc\n",
      "make[1]: Entering directory '/tmp/mecab-0.996-ko-0.9.2/doc'\n",
      "make[1]: Nothing to be done for 'check'.\n",
      "make[1]: Leaving directory '/tmp/mecab-0.996-ko-0.9.2/doc'\n",
      "Making check in tests\n",
      "make[1]: Entering directory '/tmp/mecab-0.996-ko-0.9.2/tests'\n",
      "make  check-TESTS\n",
      "make[2]: Entering directory '/tmp/mecab-0.996-ko-0.9.2/tests'\n",
      "./pos-id.def is not found. minimum setting is used\n",
      "reading ./unk.def ... 2\n",
      "emitting double-array: 100% |###########################################| \n",
      "./model.def is not found. skipped.\n",
      "./pos-id.def is not found. minimum setting is used\n",
      "reading ./dic.csv ... 177\n",
      "emitting double-array: 100% |###########################################| \n",
      "reading ./matrix.def ... 178x178\n",
      "emitting matrix      : 100% |###########################################| \n",
      "\n",
      "done!\n",
      "./pos-id.def is not found. minimum setting is used\n",
      "reading ./unk.def ... 2\n",
      "emitting double-array: 100% |###########################################| \n",
      "./model.def is not found. skipped.\n",
      "./pos-id.def is not found. minimum setting is used\n",
      "reading ./dic.csv ... 83\n",
      "emitting double-array: 100% |###########################################| \n",
      "reading ./matrix.def ... 84x84\n",
      "emitting matrix      : 100% |###########################################| \n",
      "\n",
      "done!\n",
      "./pos-id.def is not found. minimum setting is used\n",
      "reading ./unk.def ... 2\n",
      "emitting double-array: 100% |###########################################| \n",
      "./model.def is not found. skipped.\n",
      "./pos-id.def is not found. minimum setting is used\n",
      "reading ./dic.csv ... 450\n",
      "emitting double-array: 100% |###########################################| \n",
      "reading ./matrix.def ... 1x1\n",
      "\n",
      "done!\n",
      "./pos-id.def is not found. minimum setting is used\n",
      "reading ./unk.def ... 2\n",
      "emitting double-array: 100% |###########################################| \n",
      "./model.def is not found. skipped.\n",
      "./pos-id.def is not found. minimum setting is used\n",
      "reading ./dic.csv ... 162\n",
      "emitting double-array: 100% |###########################################| \n",
      "reading ./matrix.def ... 3x3\n",
      "emitting matrix      : 100% |###########################################| \n",
      "\n",
      "done!\n",
      "./pos-id.def is not found. minimum setting is used\n",
      "reading ./unk.def ... 2\n",
      "emitting double-array: 100% |###########################################| \n",
      "./model.def is not found. skipped.\n",
      "./pos-id.def is not found. minimum setting is used\n",
      "reading ./dic.csv ... 4\n",
      "emitting double-array: 100% |###########################################| \n",
      "reading ./matrix.def ... 1x1\n",
      "\n",
      "done!\n",
      "./pos-id.def is not found. minimum setting is used\n",
      "reading ./unk.def ... 11\n",
      "emitting double-array: 100% |###########################################| \n",
      "./model.def is not found. skipped.\n",
      "./pos-id.def is not found. minimum setting is used\n",
      "reading ./dic.csv ... 1\n",
      "reading ./matrix.def ... 1x1\n",
      "\n",
      "done!\n",
      "./pos-id.def is not found. minimum setting is used\n",
      "reading ./unk.def ... 2\n",
      "emitting double-array: 100% |###########################################| \n",
      "./model.def is not found. skipped.\n",
      "./pos-id.def is not found. minimum setting is used\n",
      "reading ./dic.csv ... 1\n",
      "reading ./matrix.def ... 1x1\n",
      "\n",
      "done!\n",
      "PASS: run-dics.sh\n",
      "PASS: run-eval.sh\n",
      "seed/pos-id.def is not found. minimum setting is used\n",
      "reading seed/unk.def ... 40\n",
      "emitting double-array: 100% |###########################################| \n",
      "seed/model.def is not found. skipped.\n",
      "seed/pos-id.def is not found. minimum setting is used\n",
      "reading seed/dic.csv ... 4335\n",
      "emitting double-array: 100% |###########################################| \n",
      "reading seed/matrix.def ... 1x1\n",
      "\n",
      "done!\n",
      "reading corpus ...\n",
      "Number of sentences: 34\n",
      "Number of features:  64108\n",
      "eta:                 0.00005\n",
      "freq:                1\n",
      "eval-size:           6\n",
      "unk-eval-size:       4\n",
      "threads:             1\n",
      "charset:             EUC-JP\n",
      "C(sigma^2):          1.00000\n",
      "\n",
      "iter=0 err=1.00000 F=0.35771 target=2406.28355 diff=1.00000\n",
      "iter=1 err=0.97059 F=0.65652 target=1484.25231 diff=0.38318\n",
      "iter=2 err=0.91176 F=0.79331 target=863.32765 diff=0.41834\n",
      "iter=3 err=0.85294 F=0.89213 target=596.72480 diff=0.30881\n",
      "iter=4 err=0.61765 F=0.95467 target=336.30744 diff=0.43641\n",
      "iter=5 err=0.50000 F=0.96702 target=246.53039 diff=0.26695\n",
      "iter=6 err=0.35294 F=0.95472 target=188.93963 diff=0.23361\n",
      "iter=7 err=0.20588 F=0.99106 target=168.62665 diff=0.10751\n",
      "iter=8 err=0.05882 F=0.99777 target=158.64865 diff=0.05917\n",
      "iter=9 err=0.08824 F=0.99665 target=154.14530 diff=0.02839\n",
      "iter=10 err=0.08824 F=0.99665 target=151.94257 diff=0.01429\n",
      "iter=11 err=0.02941 F=0.99888 target=147.20825 diff=0.03116\n",
      "iter=12 err=0.00000 F=1.00000 target=147.34956 diff=0.00096\n",
      "iter=13 err=0.02941 F=0.99888 target=146.32592 diff=0.00695\n",
      "iter=14 err=0.00000 F=1.00000 target=145.77299 diff=0.00378\n",
      "iter=15 err=0.02941 F=0.99888 target=145.24641 diff=0.00361\n",
      "iter=16 err=0.00000 F=1.00000 target=144.96490 diff=0.00194\n",
      "iter=17 err=0.02941 F=0.99888 target=144.90246 diff=0.00043\n",
      "iter=18 err=0.00000 F=1.00000 target=144.75959 diff=0.00099\n",
      "iter=19 err=0.00000 F=1.00000 target=144.71727 diff=0.00029\n",
      "iter=20 err=0.00000 F=1.00000 target=144.66337 diff=0.00037\n",
      "iter=21 err=0.00000 F=1.00000 target=144.61349 diff=0.00034\n",
      "iter=22 err=0.00000 F=1.00000 target=144.62987 diff=0.00011\n",
      "iter=23 err=0.00000 F=1.00000 target=144.60060 diff=0.00020\n",
      "iter=24 err=0.00000 F=1.00000 target=144.59125 diff=0.00006\n",
      "iter=25 err=0.00000 F=1.00000 target=144.58619 diff=0.00004\n",
      "iter=26 err=0.00000 F=1.00000 target=144.58219 diff=0.00003\n",
      "iter=27 err=0.00000 F=1.00000 target=144.58059 diff=0.00001\n",
      "\n",
      "Done! writing model file ... \n",
      "model-ipadic.c1.0.f1.model is not a binary model. reopen it as text mode...\n",
      "reading seed/unk.def ... 40\n",
      "reading seed/dic.csv ... 4335\n",
      "emitting model-ipadic.c1.0.f1.dic/left-id.def/ model-ipadic.c1.0.f1.dic/right-id.def\n",
      "emitting model-ipadic.c1.0.f1.dic/unk.def ... 40\n",
      "emitting model-ipadic.c1.0.f1.dic/dic.csv ... 4335\n",
      "emitting matrix      : 100% |###########################################| \n",
      "copying seed/char.def to model-ipadic.c1.0.f1.dic/char.def\n",
      "copying seed/rewrite.def to model-ipadic.c1.0.f1.dic/rewrite.def\n",
      "copying seed/dicrc to model-ipadic.c1.0.f1.dic/dicrc\n",
      "copying seed/feature.def to model-ipadic.c1.0.f1.dic/feature.def\n",
      "copying model-ipadic.c1.0.f1.model to model-ipadic.c1.0.f1.dic/model.def\n",
      "\n",
      "done!\n",
      "model-ipadic.c1.0.f1.dic/pos-id.def is not found. minimum setting is used\n",
      "reading model-ipadic.c1.0.f1.dic/unk.def ... 40\n",
      "emitting double-array: 100% |###########################################| \n",
      "model-ipadic.c1.0.f1.dic/pos-id.def is not found. minimum setting is used\n",
      "reading model-ipadic.c1.0.f1.dic/dic.csv ... 4335\n",
      "emitting double-array: 100% |###########################################| \n",
      "reading model-ipadic.c1.0.f1.dic/matrix.def ... 346x346\n",
      "emitting matrix      : 100% |###########################################| \n",
      "\n",
      "done!\n",
      "              precision          recall         F\n",
      "LEVEL 0:    12.8959(57/442) 11.8998(57/479) 12.3779\n",
      "LEVEL 1:    12.2172(54/442) 11.2735(54/479) 11.7264\n",
      "LEVEL 2:    11.7647(52/442) 10.8559(52/479) 11.2921\n",
      "LEVEL 4:    11.7647(52/442) 10.8559(52/479) 11.2921\n",
      "PASS: run-cost-train.sh\n",
      "==================\n",
      "All 3 tests passed\n",
      "==================\n",
      "make[2]: Leaving directory '/tmp/mecab-0.996-ko-0.9.2/tests'\n",
      "make[1]: Leaving directory '/tmp/mecab-0.996-ko-0.9.2/tests'\n",
      "make[1]: Entering directory '/tmp/mecab-0.996-ko-0.9.2'\n",
      "make[1]: Leaving directory '/tmp/mecab-0.996-ko-0.9.2'\n",
      "Making install in src\n",
      "make[1]: Entering directory '/tmp/mecab-0.996-ko-0.9.2/src'\n",
      "make[2]: Entering directory '/tmp/mecab-0.996-ko-0.9.2/src'\n",
      "test -z \"/usr/local/lib\" || /bin/mkdir -p \"/usr/local/lib\"\n",
      " /bin/bash ../libtool   --mode=install /usr/bin/install -c   libmecab.la '/usr/local/lib'\n",
      "libtool: install: /usr/bin/install -c .libs/libmecab.so.2.0.0 /usr/local/lib/libmecab.so.2.0.0\n",
      "libtool: install: (cd /usr/local/lib && { ln -s -f libmecab.so.2.0.0 libmecab.so.2 || { rm -f libmecab.so.2 && ln -s libmecab.so.2.0.0 libmecab.so.2; }; })\n",
      "libtool: install: (cd /usr/local/lib && { ln -s -f libmecab.so.2.0.0 libmecab.so || { rm -f libmecab.so && ln -s libmecab.so.2.0.0 libmecab.so; }; })\n",
      "libtool: install: /usr/bin/install -c .libs/libmecab.lai /usr/local/lib/libmecab.la\n",
      "libtool: install: /usr/bin/install -c .libs/libmecab.a /usr/local/lib/libmecab.a\n",
      "libtool: install: chmod 644 /usr/local/lib/libmecab.a\n",
      "libtool: install: ranlib /usr/local/lib/libmecab.a\n",
      "libtool: finish: PATH=\"/opt/bin:/usr/local/nvidia/bin:/usr/local/cuda/bin:/usr/local/sbin:/usr/local/bin:/usr/sbin:/usr/bin:/sbin:/bin:/tools/node/bin:/tools/google-cloud-sdk/bin:/sbin\" ldconfig -n /usr/local/lib\n",
      "----------------------------------------------------------------------\n",
      "Libraries have been installed in:\n",
      "   /usr/local/lib\n",
      "\n",
      "If you ever happen to want to link against installed libraries\n",
      "in a given directory, LIBDIR, you must either use libtool, and\n",
      "specify the full pathname of the library, or use the `-LLIBDIR'\n",
      "flag during linking and do at least one of the following:\n",
      "   - add LIBDIR to the `LD_LIBRARY_PATH' environment variable\n",
      "     during execution\n",
      "   - add LIBDIR to the `LD_RUN_PATH' environment variable\n",
      "     during linking\n",
      "   - use the `-Wl,-rpath -Wl,LIBDIR' linker flag\n",
      "   - have your system administrator add LIBDIR to `/etc/ld.so.conf'\n",
      "\n",
      "See any operating system documentation about shared libraries for\n",
      "more information, such as the ld(1) and ld.so(8) manual pages.\n",
      "----------------------------------------------------------------------\n",
      "test -z \"/usr/local/bin\" || /bin/mkdir -p \"/usr/local/bin\"\n",
      "  /bin/bash ../libtool   --mode=install /usr/bin/install -c mecab '/usr/local/bin'\n",
      "libtool: install: /usr/bin/install -c .libs/mecab /usr/local/bin/mecab\n",
      "test -z \"/usr/local/libexec/mecab\" || /bin/mkdir -p \"/usr/local/libexec/mecab\"\n",
      "  /bin/bash ../libtool   --mode=install /usr/bin/install -c mecab-dict-index mecab-dict-gen mecab-cost-train mecab-system-eval mecab-test-gen '/usr/local/libexec/mecab'\n",
      "libtool: install: /usr/bin/install -c .libs/mecab-dict-index /usr/local/libexec/mecab/mecab-dict-index\n",
      "libtool: install: /usr/bin/install -c .libs/mecab-dict-gen /usr/local/libexec/mecab/mecab-dict-gen\n",
      "libtool: install: /usr/bin/install -c .libs/mecab-cost-train /usr/local/libexec/mecab/mecab-cost-train\n",
      "libtool: install: /usr/bin/install -c .libs/mecab-system-eval /usr/local/libexec/mecab/mecab-system-eval\n",
      "libtool: install: /usr/bin/install -c .libs/mecab-test-gen /usr/local/libexec/mecab/mecab-test-gen\n",
      "test -z \"/usr/local/include\" || /bin/mkdir -p \"/usr/local/include\"\n",
      " /usr/bin/install -c -m 644 mecab.h '/usr/local/include'\n",
      "make[2]: Leaving directory '/tmp/mecab-0.996-ko-0.9.2/src'\n",
      "make[1]: Leaving directory '/tmp/mecab-0.996-ko-0.9.2/src'\n",
      "Making install in man\n",
      "make[1]: Entering directory '/tmp/mecab-0.996-ko-0.9.2/man'\n",
      "make[2]: Entering directory '/tmp/mecab-0.996-ko-0.9.2/man'\n",
      "make[2]: Nothing to be done for 'install-exec-am'.\n",
      "test -z \"/usr/local/share/man/man1\" || /bin/mkdir -p \"/usr/local/share/man/man1\"\n",
      " /usr/bin/install -c -m 644 mecab.1 '/usr/local/share/man/man1'\n",
      "make[2]: Leaving directory '/tmp/mecab-0.996-ko-0.9.2/man'\n",
      "make[1]: Leaving directory '/tmp/mecab-0.996-ko-0.9.2/man'\n",
      "Making install in doc\n",
      "make[1]: Entering directory '/tmp/mecab-0.996-ko-0.9.2/doc'\n",
      "make[2]: Entering directory '/tmp/mecab-0.996-ko-0.9.2/doc'\n",
      "make[2]: Nothing to be done for 'install-exec-am'.\n",
      "make[2]: Nothing to be done for 'install-data-am'.\n",
      "make[2]: Leaving directory '/tmp/mecab-0.996-ko-0.9.2/doc'\n",
      "make[1]: Leaving directory '/tmp/mecab-0.996-ko-0.9.2/doc'\n",
      "Making install in tests\n",
      "make[1]: Entering directory '/tmp/mecab-0.996-ko-0.9.2/tests'\n",
      "make[2]: Entering directory '/tmp/mecab-0.996-ko-0.9.2/tests'\n",
      "make[2]: Nothing to be done for 'install-exec-am'.\n",
      "make[2]: Nothing to be done for 'install-data-am'.\n",
      "make[2]: Leaving directory '/tmp/mecab-0.996-ko-0.9.2/tests'\n",
      "make[1]: Leaving directory '/tmp/mecab-0.996-ko-0.9.2/tests'\n",
      "make[1]: Entering directory '/tmp/mecab-0.996-ko-0.9.2'\n",
      "make[2]: Entering directory '/tmp/mecab-0.996-ko-0.9.2'\n",
      "test -z \"/usr/local/bin\" || /bin/mkdir -p \"/usr/local/bin\"\n",
      " /usr/bin/install -c mecab-config '/usr/local/bin'\n",
      "test -z \"/usr/local/etc\" || /bin/mkdir -p \"/usr/local/etc\"\n",
      " /usr/bin/install -c -m 644 mecabrc '/usr/local/etc'\n",
      "make[2]: Leaving directory '/tmp/mecab-0.996-ko-0.9.2'\n",
      "make[1]: Leaving directory '/tmp/mecab-0.996-ko-0.9.2'\n",
      "/sbin/ldconfig.real: /usr/local/lib/python3.7/dist-packages/ideep4py/lib/libmkldnn.so.0 is not a symbolic link\n",
      "\n",
      "--2022-06-09 16:23:53--  https://www.dropbox.com/s/i8girnk5p80076c/mecab-ko-dic-2.1.1-20180720.tar.gz?dl=1\n",
      "Resolving www.dropbox.com (www.dropbox.com)... 162.125.1.18, 2620:100:6016:18::a27d:112\n",
      "Connecting to www.dropbox.com (www.dropbox.com)|162.125.1.18|:443... connected.\n",
      "HTTP request sent, awaiting response... 301 Moved Permanently\n",
      "Location: /s/dl/i8girnk5p80076c/mecab-ko-dic-2.1.1-20180720.tar.gz [following]\n",
      "--2022-06-09 16:23:54--  https://www.dropbox.com/s/dl/i8girnk5p80076c/mecab-ko-dic-2.1.1-20180720.tar.gz\n",
      "Reusing existing connection to www.dropbox.com:443.\n",
      "HTTP request sent, awaiting response... 302 Found\n",
      "Location: https://uc853f3bc41fa017a7844a43fe8d.dl.dropboxusercontent.com/cd/0/get/Bm5CIDovxgoXRIVdu1dqfcHOpd2-XbtLsnb1CFXc5FMPc1VyPobWHZ2a-64wwPff_DJZoM9KeA8fBJpDWaHv4rDf39N9H7tX69_y1w9CVTIAp1AW0nI11hc2f01ky564hEq1ol95-LMDaQ4NE4NujHsJMUnmoaGxrqC_9kmZPvWS3S_2-tKCfZ5LGK7VRIxFRgo/file?dl=1# [following]\n",
      "--2022-06-09 16:23:54--  https://uc853f3bc41fa017a7844a43fe8d.dl.dropboxusercontent.com/cd/0/get/Bm5CIDovxgoXRIVdu1dqfcHOpd2-XbtLsnb1CFXc5FMPc1VyPobWHZ2a-64wwPff_DJZoM9KeA8fBJpDWaHv4rDf39N9H7tX69_y1w9CVTIAp1AW0nI11hc2f01ky564hEq1ol95-LMDaQ4NE4NujHsJMUnmoaGxrqC_9kmZPvWS3S_2-tKCfZ5LGK7VRIxFRgo/file?dl=1\n",
      "Resolving uc853f3bc41fa017a7844a43fe8d.dl.dropboxusercontent.com (uc853f3bc41fa017a7844a43fe8d.dl.dropboxusercontent.com)... 162.125.1.15, 2620:100:6016:15::a27d:10f\n",
      "Connecting to uc853f3bc41fa017a7844a43fe8d.dl.dropboxusercontent.com (uc853f3bc41fa017a7844a43fe8d.dl.dropboxusercontent.com)|162.125.1.15|:443... connected.\n",
      "HTTP request sent, awaiting response... 200 OK\n",
      "Length: 49775061 (47M) [application/binary]\n",
      "Saving to: ‘mecab-ko-dic-2.1.1-20180720.tar.gz?dl=1’\n",
      "\n",
      "mecab-ko-dic-2.1.1- 100%[===================>]  47.47M   183MB/s    in 0.3s    \n",
      "\n",
      "2022-06-09 16:23:55 (183 MB/s) - ‘mecab-ko-dic-2.1.1-20180720.tar.gz?dl=1’ saved [49775061/49775061]\n",
      "\n",
      "Reading package lists... Done\n",
      "Building dependency tree       \n",
      "Reading state information... Done\n",
      "The following package was automatically installed and is no longer required:\n",
      "  libnvidia-common-460\n",
      "Use 'apt autoremove' to remove it.\n",
      "The following additional packages will be installed:\n",
      "  automake autotools-dev libsigsegv2 m4\n",
      "Suggested packages:\n",
      "  autoconf-archive gnu-standards autoconf-doc libtool gettext m4-doc\n",
      "The following NEW packages will be installed:\n",
      "  autoconf automake autotools-dev libsigsegv2 m4\n",
      "0 upgraded, 5 newly installed, 0 to remove and 45 not upgraded.\n",
      "Need to get 1,082 kB of archives.\n",
      "After this operation, 3,994 kB of additional disk space will be used.\n",
      "Get:1 http://archive.ubuntu.com/ubuntu bionic/main amd64 libsigsegv2 amd64 2.12-1 [14.7 kB]\n",
      "Get:2 http://archive.ubuntu.com/ubuntu bionic/main amd64 m4 amd64 1.4.18-1 [197 kB]\n",
      "Get:3 http://archive.ubuntu.com/ubuntu bionic/main amd64 autoconf all 2.69-11 [322 kB]\n",
      "Get:4 http://archive.ubuntu.com/ubuntu bionic/main amd64 autotools-dev all 20180224.1 [39.6 kB]\n",
      "Get:5 http://archive.ubuntu.com/ubuntu bionic/main amd64 automake all 1:1.15.1-3ubuntu2 [509 kB]\n",
      "Fetched 1,082 kB in 1s (774 kB/s)\n",
      "Selecting previously unselected package libsigsegv2:amd64.\n",
      "(Reading database ... 155632 files and directories currently installed.)\n",
      "Preparing to unpack .../libsigsegv2_2.12-1_amd64.deb ...\n",
      "Unpacking libsigsegv2:amd64 (2.12-1) ...\n",
      "Selecting previously unselected package m4.\n",
      "Preparing to unpack .../archives/m4_1.4.18-1_amd64.deb ...\n",
      "Unpacking m4 (1.4.18-1) ...\n",
      "Selecting previously unselected package autoconf.\n",
      "Preparing to unpack .../autoconf_2.69-11_all.deb ...\n",
      "Unpacking autoconf (2.69-11) ...\n",
      "Selecting previously unselected package autotools-dev.\n",
      "Preparing to unpack .../autotools-dev_20180224.1_all.deb ...\n",
      "Unpacking autotools-dev (20180224.1) ...\n",
      "Selecting previously unselected package automake.\n",
      "Preparing to unpack .../automake_1%3a1.15.1-3ubuntu2_all.deb ...\n",
      "Unpacking automake (1:1.15.1-3ubuntu2) ...\n",
      "Setting up libsigsegv2:amd64 (2.12-1) ...\n",
      "Setting up m4 (1.4.18-1) ...\n",
      "Setting up autotools-dev (20180224.1) ...\n",
      "Setting up autoconf (2.69-11) ...\n",
      "Setting up automake (1:1.15.1-3ubuntu2) ...\n",
      "update-alternatives: using /usr/bin/automake-1.15 to provide /usr/bin/automake (automake) in auto mode\n",
      "Processing triggers for libc-bin (2.27-3ubuntu1.3) ...\n",
      "/sbin/ldconfig.real: /usr/local/lib/python3.7/dist-packages/ideep4py/lib/libmkldnn.so.0 is not a symbolic link\n",
      "\n",
      "Processing triggers for man-db (2.8.3-2ubuntu0.1) ...\n",
      "mecab-ko-dic-2.1.1-20180720/\n",
      "mecab-ko-dic-2.1.1-20180720/configure\n",
      "mecab-ko-dic-2.1.1-20180720/COPYING\n",
      "mecab-ko-dic-2.1.1-20180720/autogen.sh\n",
      "mecab-ko-dic-2.1.1-20180720/Place-station.csv\n",
      "mecab-ko-dic-2.1.1-20180720/NNG.csv\n",
      "mecab-ko-dic-2.1.1-20180720/README\n",
      "mecab-ko-dic-2.1.1-20180720/EF.csv\n",
      "mecab-ko-dic-2.1.1-20180720/MAG.csv\n",
      "mecab-ko-dic-2.1.1-20180720/Preanalysis.csv\n",
      "mecab-ko-dic-2.1.1-20180720/NNB.csv\n",
      "mecab-ko-dic-2.1.1-20180720/Person-actor.csv\n",
      "mecab-ko-dic-2.1.1-20180720/VV.csv\n",
      "mecab-ko-dic-2.1.1-20180720/Makefile.in\n",
      "mecab-ko-dic-2.1.1-20180720/matrix.def\n",
      "mecab-ko-dic-2.1.1-20180720/EC.csv\n",
      "mecab-ko-dic-2.1.1-20180720/NNBC.csv\n",
      "mecab-ko-dic-2.1.1-20180720/clean\n",
      "mecab-ko-dic-2.1.1-20180720/ChangeLog\n",
      "mecab-ko-dic-2.1.1-20180720/J.csv\n",
      "mecab-ko-dic-2.1.1-20180720/.keep\n",
      "mecab-ko-dic-2.1.1-20180720/feature.def\n",
      "mecab-ko-dic-2.1.1-20180720/Foreign.csv\n",
      "mecab-ko-dic-2.1.1-20180720/XPN.csv\n",
      "mecab-ko-dic-2.1.1-20180720/EP.csv\n",
      "mecab-ko-dic-2.1.1-20180720/NR.csv\n",
      "mecab-ko-dic-2.1.1-20180720/left-id.def\n",
      "mecab-ko-dic-2.1.1-20180720/Place.csv\n",
      "mecab-ko-dic-2.1.1-20180720/Symbol.csv\n",
      "mecab-ko-dic-2.1.1-20180720/dicrc\n",
      "mecab-ko-dic-2.1.1-20180720/NP.csv\n",
      "mecab-ko-dic-2.1.1-20180720/ETM.csv\n",
      "mecab-ko-dic-2.1.1-20180720/IC.csv\n",
      "mecab-ko-dic-2.1.1-20180720/Place-address.csv\n",
      "mecab-ko-dic-2.1.1-20180720/Group.csv\n",
      "mecab-ko-dic-2.1.1-20180720/model.def\n",
      "mecab-ko-dic-2.1.1-20180720/XSN.csv\n",
      "mecab-ko-dic-2.1.1-20180720/INSTALL\n",
      "mecab-ko-dic-2.1.1-20180720/rewrite.def\n",
      "mecab-ko-dic-2.1.1-20180720/Inflect.csv\n",
      "mecab-ko-dic-2.1.1-20180720/configure.ac\n",
      "mecab-ko-dic-2.1.1-20180720/NNP.csv\n",
      "mecab-ko-dic-2.1.1-20180720/CoinedWord.csv\n",
      "mecab-ko-dic-2.1.1-20180720/XSV.csv\n",
      "mecab-ko-dic-2.1.1-20180720/pos-id.def\n",
      "mecab-ko-dic-2.1.1-20180720/Makefile.am\n",
      "mecab-ko-dic-2.1.1-20180720/unk.def\n",
      "mecab-ko-dic-2.1.1-20180720/missing\n",
      "mecab-ko-dic-2.1.1-20180720/VCP.csv\n",
      "mecab-ko-dic-2.1.1-20180720/install-sh\n",
      "mecab-ko-dic-2.1.1-20180720/Hanja.csv\n",
      "mecab-ko-dic-2.1.1-20180720/MAJ.csv\n",
      "mecab-ko-dic-2.1.1-20180720/XSA.csv\n",
      "mecab-ko-dic-2.1.1-20180720/Wikipedia.csv\n",
      "mecab-ko-dic-2.1.1-20180720/tools/\n",
      "mecab-ko-dic-2.1.1-20180720/tools/add-userdic.sh\n",
      "mecab-ko-dic-2.1.1-20180720/tools/mecab-bestn.sh\n",
      "mecab-ko-dic-2.1.1-20180720/tools/convert_for_using_store.sh\n",
      "mecab-ko-dic-2.1.1-20180720/user-dic/\n",
      "mecab-ko-dic-2.1.1-20180720/user-dic/nnp.csv\n",
      "mecab-ko-dic-2.1.1-20180720/user-dic/place.csv\n",
      "mecab-ko-dic-2.1.1-20180720/user-dic/person.csv\n",
      "mecab-ko-dic-2.1.1-20180720/user-dic/README.md\n",
      "mecab-ko-dic-2.1.1-20180720/NorthKorea.csv\n",
      "mecab-ko-dic-2.1.1-20180720/VX.csv\n",
      "mecab-ko-dic-2.1.1-20180720/right-id.def\n",
      "mecab-ko-dic-2.1.1-20180720/VA.csv\n",
      "mecab-ko-dic-2.1.1-20180720/char.def\n",
      "mecab-ko-dic-2.1.1-20180720/NEWS\n",
      "mecab-ko-dic-2.1.1-20180720/MM.csv\n",
      "mecab-ko-dic-2.1.1-20180720/ETN.csv\n",
      "mecab-ko-dic-2.1.1-20180720/AUTHORS\n",
      "mecab-ko-dic-2.1.1-20180720/Person.csv\n",
      "mecab-ko-dic-2.1.1-20180720/XR.csv\n",
      "mecab-ko-dic-2.1.1-20180720/VCN.csv\n",
      "Looking in current directory for macros.\n",
      "configure.ac:2: warning: AM_INIT_AUTOMAKE: two- and three-arguments forms are deprecated.  For more info, see:\n",
      "configure.ac:2: http://www.gnu.org/software/automake/manual/automake.html#Modernize-AM_005fINIT_005fAUTOMAKE-invocation\n",
      "checking for a BSD-compatible install... /usr/bin/install -c\n",
      "checking whether build environment is sane... yes\n",
      "/tmp/mecab-ko-dic-2.1.1-20180720/missing: Unknown `--is-lightweight' option\n",
      "Try `/tmp/mecab-ko-dic-2.1.1-20180720/missing --help' for more information\n",
      "configure: WARNING: 'missing' script is too old or missing\n",
      "checking for a thread-safe mkdir -p... /bin/mkdir -p\n",
      "checking for gawk... no\n",
      "checking for mawk... mawk\n",
      "checking whether make sets $(MAKE)... yes\n",
      "checking whether make supports nested variables... yes\n",
      "checking for mecab-config... /usr/local/bin/mecab-config\n",
      "checking that generated files are newer than configure... done\n",
      "configure: creating ./config.status\n",
      "config.status: creating Makefile\n",
      "/usr/local/libexec/mecab/mecab-dict-index -d . -o . -f UTF-8 -t UTF-8\n",
      "reading ./unk.def ... 13\n",
      "emitting double-array: 100% |###########################################| \n",
      "reading ./XR.csv ... 3637\n",
      "reading ./ETN.csv ... 14\n",
      "reading ./XSN.csv ... 124\n",
      "reading ./NNB.csv ... 140\n",
      "reading ./XSA.csv ... 19\n",
      "reading ./VCN.csv ... 7\n",
      "reading ./EF.csv ... 1820\n",
      "reading ./VCP.csv ... 9\n",
      "reading ./J.csv ... 416\n",
      "reading ./Wikipedia.csv ... 36762\n",
      "reading ./NNBC.csv ... 677\n",
      "reading ./MAG.csv ... 14242\n",
      "reading ./Foreign.csv ... 11690\n",
      "reading ./EC.csv ... 2547\n",
      "reading ./MAJ.csv ... 240\n",
      "reading ./NR.csv ... 482\n",
      "reading ./Inflect.csv ... 44820\n",
      "reading ./NP.csv ... 342\n",
      "reading ./EP.csv ... 51\n",
      "reading ./Place.csv ... 30303\n",
      "reading ./VV.csv ... 7331\n",
      "reading ./NNG.csv ... 208524\n",
      "reading ./Place-station.csv ... 1145\n",
      "reading ./VX.csv ... 125\n",
      "reading ./Symbol.csv ... 16\n",
      "reading ./IC.csv ... 1305\n",
      "reading ./NorthKorea.csv ... 3\n",
      "reading ./Place-address.csv ... 19301\n",
      "reading ./Group.csv ... 3176\n",
      "reading ./XSV.csv ... 23\n",
      "reading ./CoinedWord.csv ... 148\n",
      "reading ./VA.csv ... 2360\n",
      "reading ./NNP.csv ... 2371\n",
      "reading ./Person.csv ... 196459\n",
      "reading ./XPN.csv ... 83\n",
      "reading ./Preanalysis.csv ... 5\n",
      "reading ./Hanja.csv ... 125750\n",
      "reading ./MM.csv ... 453\n",
      "reading ./Person-actor.csv ... 99230\n",
      "reading ./ETM.csv ... 133\n",
      "emitting double-array: 100% |###########################################| \n",
      "reading ./matrix.def ... 3822x2693\n",
      "emitting matrix      : 100% |###########################################| \n",
      "\n",
      "done!\n",
      "echo To enable dictionary, rewrite /usr/local/etc/mecabrc as \\\"dicdir = /usr/local/lib/mecab/dic/mecab-ko-dic\\\"\n",
      "To enable dictionary, rewrite /usr/local/etc/mecabrc as \"dicdir = /usr/local/lib/mecab/dic/mecab-ko-dic\"\n",
      "make[1]: Entering directory '/tmp/mecab-ko-dic-2.1.1-20180720'\n",
      "make[1]: Nothing to be done for 'install-exec-am'.\n",
      " /bin/mkdir -p '/usr/local/lib/mecab/dic/mecab-ko-dic'\n",
      " /usr/bin/install -c -m 644 model.bin matrix.bin char.bin sys.dic unk.dic left-id.def right-id.def rewrite.def pos-id.def dicrc '/usr/local/lib/mecab/dic/mecab-ko-dic'\n",
      "make[1]: Leaving directory '/tmp/mecab-ko-dic-2.1.1-20180720'\n",
      "/sbin/ldconfig.real: /usr/local/lib/python3.7/dist-packages/ideep4py/lib/libmkldnn.so.0 is not a symbolic link\n",
      "\n",
      "Cloning into 'mecab-python-0.996'...\n",
      "remote: Enumerating objects: 17, done.\u001b[K\n",
      "remote: Counting objects: 100% (17/17), done.\u001b[K\n",
      "remote: Compressing objects: 100% (16/16), done.\u001b[K\n",
      "remote: Total 17 (delta 3), reused 0 (delta 0), pack-reused 0\u001b[K\n",
      "Unpacking objects: 100% (17/17), done.\n",
      "running build\n",
      "running build_py\n",
      "creating build\n",
      "creating build/lib.linux-x86_64-3.7\n",
      "copying MeCab.py -> build/lib.linux-x86_64-3.7\n",
      "running build_ext\n",
      "building '_MeCab' extension\n",
      "creating build/temp.linux-x86_64-3.7\n",
      "x86_64-linux-gnu-gcc -pthread -Wno-unused-result -Wsign-compare -DNDEBUG -g -fwrapv -O2 -Wall -g -fstack-protector-strong -Wformat -Werror=format-security -g -fwrapv -O2 -g -fstack-protector-strong -Wformat -Werror=format-security -Wdate-time -D_FORTIFY_SOURCE=2 -fPIC -I/usr/local/include -I/usr/include/python3.7m -c MeCab_wrap.cxx -o build/temp.linux-x86_64-3.7/MeCab_wrap.o\n",
      "x86_64-linux-gnu-g++ -pthread -shared -Wl,-O1 -Wl,-Bsymbolic-functions -Wl,-Bsymbolic-functions -g -fwrapv -O2 -Wl,-Bsymbolic-functions -g -fwrapv -O2 -g -fstack-protector-strong -Wformat -Werror=format-security -Wdate-time -D_FORTIFY_SOURCE=2 build/temp.linux-x86_64-3.7/MeCab_wrap.o -L/usr/local/lib -lmecab -lstdc++ -o build/lib.linux-x86_64-3.7/_MeCab.cpython-37m-x86_64-linux-gnu.so\n",
      "running install\n",
      "running build\n",
      "running build_py\n",
      "running build_ext\n",
      "running install_lib\n",
      "copying build/lib.linux-x86_64-3.7/_MeCab.cpython-37m-x86_64-linux-gnu.so -> /usr/local/lib/python3.7/dist-packages\n",
      "copying build/lib.linux-x86_64-3.7/MeCab.py -> /usr/local/lib/python3.7/dist-packages\n",
      "byte-compiling /usr/local/lib/python3.7/dist-packages/MeCab.py to MeCab.cpython-37.pyc\n",
      "running install_egg_info\n",
      "Writing /usr/local/lib/python3.7/dist-packages/mecab_python-0.996_ko_0.9.2.egg-info\n",
      "Looking in indexes: https://pypi.org/simple, https://us-python.pkg.dev/colab-wheels/public/simple/\n",
      "Collecting konlpy\n",
      "  Downloading konlpy-0.6.0-py2.py3-none-any.whl (19.4 MB)\n",
      "\u001b[K     |████████████████████████████████| 19.4 MB 487 kB/s \n",
      "\u001b[?25hRequirement already satisfied: lxml>=4.1.0 in /usr/local/lib/python3.7/dist-packages (from konlpy) (4.2.6)\n",
      "Requirement already satisfied: numpy>=1.6 in /usr/local/lib/python3.7/dist-packages (from konlpy) (1.21.6)\n",
      "Collecting JPype1>=0.7.0\n",
      "  Downloading JPype1-1.4.0-cp37-cp37m-manylinux_2_5_x86_64.manylinux1_x86_64.whl (453 kB)\n",
      "\u001b[K     |████████████████████████████████| 453 kB 61.2 MB/s \n",
      "\u001b[?25hRequirement already satisfied: typing-extensions in /usr/local/lib/python3.7/dist-packages (from JPype1>=0.7.0->konlpy) (4.2.0)\n",
      "Installing collected packages: JPype1, konlpy\n",
      "Successfully installed JPype1-1.4.0 konlpy-0.6.0\n"
     ]
    }
   ],
   "source": [
    "!pip install pyldavis\n",
    "!pip install -U gensim\n",
    "!pip install contextualized-topic-models==2.2.0\n",
    "!pip install -U sentence-transformers\n",
    "!pip install tomotopy\n",
    "\n",
    "# konlpy, Mecab 설치 및 로드\n",
    "# Reference: https://teddylee777.github.io/colab/colab-mecab\n",
    "!curl -s https://raw.githubusercontent.com/teddylee777/machine-learning/master/99-Misc/01-Colab/mecab-colab.sh | bash"
   ]
  },
  {
   "cell_type": "markdown",
   "metadata": {
    "id": "ehgj402DRscO"
   },
   "source": [
    "---\n",
    "# **1. Import Library**\n",
    "---"
   ]
  },
  {
   "cell_type": "code",
   "execution_count": 2,
   "metadata": {
    "colab": {
     "base_uri": "https://localhost:8080/"
    },
    "executionInfo": {
     "elapsed": 9,
     "status": "ok",
     "timestamp": 1654791863334,
     "user": {
      "displayName": "박재현",
      "userId": "00992234259710462459"
     },
     "user_tz": -540
    },
    "id": "duK4-20RkUOc",
    "outputId": "70496b5f-0bed-4904-f6e1-5431ae1a4e06"
   },
   "outputs": [
    {
     "name": "stdout",
     "output_type": "stream",
     "text": [
      "/content/drive/MyDrive/final-project/code\n"
     ]
    }
   ],
   "source": [
    "# .py 파일 경로 설정\n",
    "%cd /content/drive/MyDrive/final-project/code"
   ]
  },
  {
   "cell_type": "code",
   "execution_count": 3,
   "metadata": {
    "colab": {
     "base_uri": "https://localhost:8080/"
    },
    "collapsed": true,
    "executionInfo": {
     "elapsed": 14550,
     "status": "ok",
     "timestamp": 1654791877878,
     "user": {
      "displayName": "박재현",
      "userId": "00992234259710462459"
     },
     "user_tz": -540
    },
    "id": "6-rwFaxHRscR",
    "outputId": "5196cb6d-144e-42b1-a314-7564ba846616"
   },
   "outputs": [
    {
     "name": "stderr",
     "output_type": "stream",
     "text": [
      "/usr/local/lib/python3.7/dist-packages/past/types/oldstr.py:5: DeprecationWarning: Using or importing the ABCs from 'collections' instead of from 'collections.abc' is deprecated since Python 3.3,and in 3.9 it will stop working\n",
      "  from collections import Iterable\n",
      "/usr/local/lib/python3.7/dist-packages/past/builtins/misc.py:4: DeprecationWarning: Using or importing the ABCs from 'collections' instead of from 'collections.abc' is deprecated since Python 3.3,and in 3.9 it will stop working\n",
      "  from collections import Mapping\n",
      "/usr/local/lib/python3.7/dist-packages/nltk/decorators.py:70: DeprecationWarning: `formatargspec` is deprecated since Python 3.5. Use `signature` and the `Signature` object directly\n",
      "  formatvalue=lambda value: \"\")[1:-1]\n",
      "/usr/local/lib/python3.7/dist-packages/scipy/io/matlab/mio5.py:98: DeprecationWarning: `np.bool` is a deprecated alias for the builtin `bool`. To silence this warning, use `bool` by itself. Doing this will not modify any behavior and is safe. If you specifically wanted the numpy scalar type, use `np.bool_` here.\n",
      "Deprecated in NumPy 1.20; for more details and guidance: https://numpy.org/devdocs/release/1.20.0-notes.html#deprecations\n",
      "  from .mio5_utils import VarReader5\n"
     ]
    }
   ],
   "source": [
    "import os\n",
    "import numpy as np\n",
    "import pandas as pd\n",
    "import pickle\n",
    "import matplotlib.pyplot as plt\n",
    "import gensim\n",
    "from gensim import corpora, models\n",
    "from gensim.models import CoherenceModel\n",
    "import pyLDAvis\n",
    "from sentence_transformers import SentenceTransformer\n",
    "import keyword_modeling\n",
    "\n",
    "\n",
    "np.random.seed(100)\n",
    "\n",
    "# Custom module function\n",
    "coherence_function = keyword_modeling.coherence_function\n",
    "perplexity_function = keyword_modeling.perplexity_function\n",
    "LSA = keyword_modeling.keyword_LSA\n",
    "LDA1 = keyword_modeling.keyword_LDA1\n",
    "LDA1_many = keyword_modeling.LDA1_many\n",
    "LDA2 = keyword_modeling.keyword_LDA2\n",
    "keybert = keyword_modeling.keyword_keybert\n",
    "keywordCTM = keyword_modeling.keyword_CTM\n",
    "LDA_tp = keyword_modeling.LDA_tomoto"
   ]
  },
  {
   "cell_type": "markdown",
   "metadata": {
    "id": "kqg6NJ9JRscT"
   },
   "source": [
    "---\n",
    "# **2. Data Load**\n",
    "---"
   ]
  },
  {
   "cell_type": "code",
   "execution_count": 4,
   "metadata": {
    "executionInfo": {
     "elapsed": 5094,
     "status": "ok",
     "timestamp": 1654791882963,
     "user": {
      "displayName": "박재현",
      "userId": "00992234259710462459"
     },
     "user_tz": -540
    },
    "id": "Io1MVyHiRscU"
   },
   "outputs": [],
   "source": [
    "# 영화 장르 선택\n",
    "genre = '드라마'\n",
    "file_path = '/content/drive/MyDrive/final-project/processed_data/data/'\n",
    "file_name = f'preprocessing_{genre}_0513.pkl'\n",
    "\n",
    "with open (file_path + file_name, 'rb') as f:\n",
    "    df = pickle.load(f)\n",
    "\n",
    "# 데이터 분리(Total, Positive, Negative)\n",
    "df_total = df['Review'].tolist()\n",
    "df_positive = df[df['sentiment']==1]['Review'].tolist()\n",
    "df_negative = df[df['sentiment']==0]['Review'].tolist()\n",
    "\n",
    "# 메모리 한계로 리뷰 갯수 제한\n",
    "max_review = 70000  \n",
    "if len(df_total) > max_review:\n",
    "    df_total = df['Review'].sample(max_review).tolist() \n",
    "if len(df_positive) > max_review:\n",
    "    df_positive = df[df['sentiment']==1]['Review'].sample(max_review).tolist()\n",
    "if len(df_negative) > max_review:\n",
    "    df_negative = df[df['sentiment']==0]['Review'].sample(max_review).tolist()"
   ]
  },
  {
   "cell_type": "code",
   "execution_count": null,
   "metadata": {
    "colab": {
     "base_uri": "https://localhost:8080/"
    },
    "executionInfo": {
     "elapsed": 3,
     "status": "ok",
     "timestamp": 1653986274862,
     "user": {
      "displayName": "박재현",
      "userId": "00992234259710462459"
     },
     "user_tz": -540
    },
    "id": "Dg_yocwduL3P",
    "outputId": "1e48ef78-fc15-43d5-86ee-054dcabfe909"
   },
   "outputs": [
    {
     "name": "stdout",
     "output_type": "stream",
     "text": [
      "24025\n"
     ]
    },
    {
     "data": {
      "text/plain": [
       "(24025, 17419, 2900)"
      ]
     },
     "execution_count": 19,
     "metadata": {},
     "output_type": "execute_result"
    }
   ],
   "source": [
    "print(len(df))\n",
    "len(df_total), len(df_positive), len(df_negative)"
   ]
  },
  {
   "cell_type": "markdown",
   "metadata": {
    "id": "fEvm6N33RscU"
   },
   "source": [
    "---\n",
    "# **3. Coherence & Perplexity**\n",
    "---\n",
    " - LSA, LDA 모델의 최적 토픽 수 결정\n",
    " - Coherence 점수가 높을수록, Perplexity점수가 낮을수록 좋은 모델"
   ]
  },
  {
   "cell_type": "code",
   "execution_count": null,
   "metadata": {
    "colab": {
     "base_uri": "https://localhost:8080/",
     "height": 279
    },
    "executionInfo": {
     "elapsed": 256509,
     "status": "ok",
     "timestamp": 1653977910138,
     "user": {
      "displayName": "박재현",
      "userId": "00992234259710462459"
     },
     "user_tz": -540
    },
    "id": "8zDPU3aWRscW",
    "outputId": "9c65b02c-7681-40fc-dfe1-8c587935a812"
   },
   "outputs": [
    {
     "data": {
      "image/png": "[encoded data removed]",
      "text/plain": [
       "<Figure size 432x288 with 1 Axes>"
      ]
     },
     "metadata": {
      "needs_background": "light"
     },
     "output_type": "display_data"
    }
   ],
   "source": [
    "max_topic = 20\n",
    "top_n = 10\n",
    "coherence_total = coherence_function(df_total, max_topic, top_n)\n",
    "x = range(2, max_topic)\n",
    "plt.plot(x, coherence_total)\n",
    "plt.xlabel('number of topics')\n",
    "plt.ylabel('coherence score')\n",
    "plt.show()"
   ]
  },
  {
   "cell_type": "code",
   "execution_count": null,
   "metadata": {
    "colab": {
     "base_uri": "https://localhost:8080/",
     "height": 283
    },
    "executionInfo": {
     "elapsed": 417231,
     "status": "ok",
     "timestamp": 1653978327366,
     "user": {
      "displayName": "박재현",
      "userId": "00992234259710462459"
     },
     "user_tz": -540
    },
    "id": "ZQX-s7unRscW",
    "outputId": "fbbb4239-21f9-45a9-e06d-f536000537ea"
   },
   "outputs": [
    {
     "data": {
      "image/png": "[encoded data removed]",
      "text/plain": [
       "<Figure size 432x288 with 1 Axes>"
      ]
     },
     "metadata": {
      "needs_background": "light"
     },
     "output_type": "display_data"
    }
   ],
   "source": [
    "perplexity_total = perplexity_function(df_total, max_topic)\n",
    "x = range(2, max_topic)\n",
    "plt.plot(x, perplexity_total)\n",
    "plt.xlabel('number of topics')\n",
    "plt.ylabel('perplexity score')\n",
    "plt.show()"
   ]
  },
  {
   "cell_type": "markdown",
   "metadata": {
    "id": "1Ypf6xMumY4B"
   },
   "source": [
    "---\n",
    "# **4. Modeling**\n",
    "---\n",
    " - ``Topic Model``\n",
    "    - 문서 집합에서 \"토픽\"이라는 추상적인 주제를 찾기 위한 통계적 모델"
   ]
  },
  {
   "cell_type": "markdown",
   "metadata": {
    "id": "-LCHAoBGRsca"
   },
   "source": [
    "## **4.1 LSA**"
   ]
  },
  {
   "cell_type": "code",
   "execution_count": null,
   "metadata": {
    "id": "Jcx9zwtTmKzA"
   },
   "outputs": [],
   "source": [
    "n_topics = 10\n",
    "max_feature = n_topics * 100\n",
    "n_words = 10"
   ]
  },
  {
   "cell_type": "code",
   "execution_count": null,
   "metadata": {
    "colab": {
     "base_uri": "https://localhost:8080/"
    },
    "executionInfo": {
     "elapsed": 6371,
     "status": "ok",
     "timestamp": 1653978333734,
     "user": {
      "displayName": "박재현",
      "userId": "00992234259710462459"
     },
     "user_tz": -540
    },
    "id": "MxiocJ6rRsca",
    "outputId": "98410610-bf78-41fa-e2c6-8c9248d18030"
   },
   "outputs": [
    {
     "name": "stderr",
     "output_type": "stream",
     "text": [
      "/usr/local/lib/python3.7/dist-packages/scipy/linalg/decomp_qr.py:20: DeprecationWarning: `np.int` is a deprecated alias for the builtin `int`. To silence this warning, use `int` by itself. Doing this will not modify any behavior and is safe. When replacing `np.int`, you may wish to use e.g. `np.int64` or `np.int32` to specify the precision. If you wish to review your current use, check the release note link for additional information.\n",
      "Deprecated in NumPy 1.20; for more details and guidance: https://numpy.org/devdocs/release/1.20.0-notes.html#deprecations\n",
      "  kwargs['lwork'] = ret[-2][0].real.astype(numpy.int)\n",
      "/usr/local/lib/python3.7/dist-packages/scipy/linalg/decomp_qr.py:20: DeprecationWarning: `np.int` is a deprecated alias for the builtin `int`. To silence this warning, use `int` by itself. Doing this will not modify any behavior and is safe. When replacing `np.int`, you may wish to use e.g. `np.int64` or `np.int32` to specify the precision. If you wish to review your current use, check the release note link for additional information.\n",
      "Deprecated in NumPy 1.20; for more details and guidance: https://numpy.org/devdocs/release/1.20.0-notes.html#deprecations\n",
      "  kwargs['lwork'] = ret[-2][0].real.astype(numpy.int)\n",
      "/usr/local/lib/python3.7/dist-packages/sklearn/utils/deprecation.py:87: FutureWarning: Function get_feature_names is deprecated; get_feature_names is deprecated in 1.0 and will be removed in 1.2. Please use get_feature_names_out instead.\n",
      "  warnings.warn(msg, category=FutureWarning)\n"
     ]
    }
   ],
   "source": [
    "df = df_total\n",
    "topics_LSA_total = LSA(df, max_feature, n_topics, n_words)"
   ]
  },
  {
   "cell_type": "code",
   "execution_count": null,
   "metadata": {
    "colab": {
     "base_uri": "https://localhost:8080/"
    },
    "executionInfo": {
     "elapsed": 5884,
     "status": "ok",
     "timestamp": 1653978339609,
     "user": {
      "displayName": "박재현",
      "userId": "00992234259710462459"
     },
     "user_tz": -540
    },
    "id": "Xz_SM5e9Rsca",
    "outputId": "d1499b12-2e3f-4e24-d653-6a91ff3b49c8"
   },
   "outputs": [
    {
     "name": "stderr",
     "output_type": "stream",
     "text": [
      "/usr/local/lib/python3.7/dist-packages/scipy/linalg/decomp_qr.py:20: DeprecationWarning: `np.int` is a deprecated alias for the builtin `int`. To silence this warning, use `int` by itself. Doing this will not modify any behavior and is safe. When replacing `np.int`, you may wish to use e.g. `np.int64` or `np.int32` to specify the precision. If you wish to review your current use, check the release note link for additional information.\n",
      "Deprecated in NumPy 1.20; for more details and guidance: https://numpy.org/devdocs/release/1.20.0-notes.html#deprecations\n",
      "  kwargs['lwork'] = ret[-2][0].real.astype(numpy.int)\n",
      "/usr/local/lib/python3.7/dist-packages/scipy/linalg/decomp_qr.py:20: DeprecationWarning: `np.int` is a deprecated alias for the builtin `int`. To silence this warning, use `int` by itself. Doing this will not modify any behavior and is safe. When replacing `np.int`, you may wish to use e.g. `np.int64` or `np.int32` to specify the precision. If you wish to review your current use, check the release note link for additional information.\n",
      "Deprecated in NumPy 1.20; for more details and guidance: https://numpy.org/devdocs/release/1.20.0-notes.html#deprecations\n",
      "  kwargs['lwork'] = ret[-2][0].real.astype(numpy.int)\n",
      "/usr/local/lib/python3.7/dist-packages/sklearn/utils/deprecation.py:87: FutureWarning: Function get_feature_names is deprecated; get_feature_names is deprecated in 1.0 and will be removed in 1.2. Please use get_feature_names_out instead.\n",
      "  warnings.warn(msg, category=FutureWarning)\n"
     ]
    }
   ],
   "source": [
    "df = df_positive\n",
    "topics_LSA_positive = LSA(df, max_feature, n_topics, n_words)"
   ]
  },
  {
   "cell_type": "code",
   "execution_count": null,
   "metadata": {
    "colab": {
     "base_uri": "https://localhost:8080/"
    },
    "executionInfo": {
     "elapsed": 2678,
     "status": "ok",
     "timestamp": 1653978342279,
     "user": {
      "displayName": "박재현",
      "userId": "00992234259710462459"
     },
     "user_tz": -540
    },
    "id": "-NHA3XnERsca",
    "outputId": "81de3a87-b5d4-492f-a923-152468c72eed"
   },
   "outputs": [
    {
     "name": "stderr",
     "output_type": "stream",
     "text": [
      "/usr/local/lib/python3.7/dist-packages/scipy/linalg/decomp_qr.py:20: DeprecationWarning: `np.int` is a deprecated alias for the builtin `int`. To silence this warning, use `int` by itself. Doing this will not modify any behavior and is safe. When replacing `np.int`, you may wish to use e.g. `np.int64` or `np.int32` to specify the precision. If you wish to review your current use, check the release note link for additional information.\n",
      "Deprecated in NumPy 1.20; for more details and guidance: https://numpy.org/devdocs/release/1.20.0-notes.html#deprecations\n",
      "  kwargs['lwork'] = ret[-2][0].real.astype(numpy.int)\n",
      "/usr/local/lib/python3.7/dist-packages/scipy/linalg/decomp_qr.py:20: DeprecationWarning: `np.int` is a deprecated alias for the builtin `int`. To silence this warning, use `int` by itself. Doing this will not modify any behavior and is safe. When replacing `np.int`, you may wish to use e.g. `np.int64` or `np.int32` to specify the precision. If you wish to review your current use, check the release note link for additional information.\n",
      "Deprecated in NumPy 1.20; for more details and guidance: https://numpy.org/devdocs/release/1.20.0-notes.html#deprecations\n",
      "  kwargs['lwork'] = ret[-2][0].real.astype(numpy.int)\n",
      "/usr/local/lib/python3.7/dist-packages/sklearn/utils/deprecation.py:87: FutureWarning: Function get_feature_names is deprecated; get_feature_names is deprecated in 1.0 and will be removed in 1.2. Please use get_feature_names_out instead.\n",
      "  warnings.warn(msg, category=FutureWarning)\n"
     ]
    }
   ],
   "source": [
    "df = df_negative\n",
    "topics_LSA_negative = LSA(df, max_feature, n_topics, n_words)"
   ]
  },
  {
   "cell_type": "markdown",
   "metadata": {
    "id": "hf67x-n3qexp"
   },
   "source": [
    "## **4-2 LDA**"
   ]
  },
  {
   "cell_type": "markdown",
   "metadata": {
    "id": "3siSa3kaRscY"
   },
   "source": [
    "### **1) LDA1 gensim**\n"
   ]
  },
  {
   "cell_type": "code",
   "execution_count": 25,
   "metadata": {
    "executionInfo": {
     "elapsed": 289,
     "status": "ok",
     "timestamp": 1654793316501,
     "user": {
      "displayName": "박재현",
      "userId": "00992234259710462459"
     },
     "user_tz": -540
    },
    "id": "6cNdGWjBRscY"
   },
   "outputs": [],
   "source": [
    "# 토픽수, 토픽 내 단어 수, 반복 횟수\n",
    "n_topics = 10\n",
    "n_words = 10\n",
    "passes = 10"
   ]
  },
  {
   "cell_type": "code",
   "execution_count": 26,
   "metadata": {
    "colab": {
     "base_uri": "https://localhost:8080/"
    },
    "collapsed": true,
    "executionInfo": {
     "elapsed": 94888,
     "status": "ok",
     "timestamp": 1654793411387,
     "user": {
      "displayName": "박재현",
      "userId": "00992234259710462459"
     },
     "user_tz": -540
    },
    "id": "Qy2h3DmRRscY",
    "outputId": "70025493-03d4-4175-d128-678b3bd17f14"
   },
   "outputs": [
    {
     "name": "stderr",
     "output_type": "stream",
     "text": [
      "/usr/local/lib/python3.7/dist-packages/pyLDAvis/_prepare.py:247: FutureWarning: In a future version of pandas all arguments of DataFrame.drop except for the argument 'labels' will be keyword-only\n",
      "  by='saliency', ascending=False).head(R).drop('saliency', 1)\n"
     ]
    }
   ],
   "source": [
    "df = df_total\n",
    "dic_below = int(len(df_total)*0.0001)\n",
    "topics_LDA1_total, vis_LDA1_total = LDA1(df, dic_below, n_topics, n_words, passes)"
   ]
  },
  {
   "cell_type": "code",
   "execution_count": 27,
   "metadata": {
    "colab": {
     "base_uri": "https://localhost:8080/",
     "height": 860
    },
    "executionInfo": {
     "elapsed": 22,
     "status": "ok",
     "timestamp": 1654793411387,
     "user": {
      "displayName": "박재현",
      "userId": "00992234259710462459"
     },
     "user_tz": -540
    },
    "id": "MNzvadz9RTQt",
    "outputId": "1bece7ef-35b4-48de-99d7-bb3fcdd75a0c"
   },
   "outputs": [
    {
     "data": {
      "text/html": [
       "\n",
       "<link rel=\"stylesheet\" type=\"text/css\" href=\"https://cdn.jsdelivr.net/gh/bmabey/pyLDAvis@3.3.1/pyLDAvis/js/ldavis.v1.0.0.css\">\n",
       "\n",
       "\n",
       "<div id=\"ldavis_el601399748011971365738094500\"></div>\n",
       "<script type=\"text/javascript\">\n",
       "\n",
       "var ldavis_el601399748011971365738094500_data = {\"mdsDat\": {\"x\": [-0.17625164864700613, 0.17087691173447497, 0.18769063162044788, 0.14631566010219815, 0.11198208024008613, -0.2554713755963463, -0.07601938862075308, 0.1381011091950173, -0.15997245384267286, -0.08725152618544585], \"y\": [-0.13940803722539824, -0.15772134791879966, -0.03287400827475656, 0.23534181465786322, -0.22880192329522145, -0.11490640534637155, 0.2398425855669851, 0.03656218680880286, 0.03166183277964656, 0.13030330224724926], \"topics\": [1, 2, 3, 4, 5, 6, 7, 8, 9, 10], \"cluster\": [1, 1, 1, 1, 1, 1, 1, 1, 1, 1], \"Freq\": [16.712294526832068, 10.93351305477908, 10.515703150298322, 10.332445876597536, 9.74122693540847, 9.3361025875004, 8.653948817455404, 8.619602331348933, 8.324126838906837, 6.8310358808729505]}, \"tinfo\": {\"Term\": [\"\\uc5f0\\uae30\", \"\\uac10\\ub3d9\", \"\\uc0ac\\ub78c\", \"\\uc0ac\\ub791\", \"\\ubc30\\uc6b0\", \"\\uac10\\ub3c5\", \"\\uc2a4\\ud1a0\\ub9ac\", \"\\ub9c8\\uc74c\", \"\\uae30\\ub300\", \"\\uc2dc\\uac04\", \"\\uac00\\uc2b4\", \"\\uc774\\uc57c\\uae30\", \"\\uc7ac\\ubbf8\", \"\\uc7a5\\uba74\", \"\\uc774\\ud574\", \"\\ud604\\uc2e4\", \"\\uc5ec\\uc6b4\", \"\\ub208\\ubb3c\", \"\\uac10\\uc815\", \"\\ub0a8\\uc790\", \"\\uacf5\\uac10\", \"\\uc774\\uc0c1\", \"\\uc5ec\\uc790\", \"\\uc2e4\\ud654\", \"\\uc74c\\uc545\", \"\\uba85\\uc791\", \"\\ubc18\\uc804\", \"\\uacb0\\ub9d0\", \"\\uc138\\uc0c1\", \"\\ub0b4\\uc6a9\", \"\\uc5f0\\uae30\", \"\\ubc30\\uc6b0\", \"\\uc2a4\\ud1a0\\ub9ac\", \"\\uc74c\\uc545\", \"\\uc5f0\\ucd9c\", \"\\uc5f0\\uae30\\ub825\", \"\\ubab0\\uc785\", \"\\uc804\\uac1c\", \"\\uc601\\uc0c1\\ubbf8\", \"\\uc644\\ubcbd\", \"\\uae34\\uc7a5\\uac10\", \"\\uad6c\\uc131\", \"\\uc8fc\\uc5f0\", \"\\ud0c0\\uc784\", \"\\ubc15\\uc218\", \"\\uc2dc\\ub098\\ub9ac\\uc624\", \"\\ud560\\uba38\\ub2c8\", \"\\ud6c4\\ubc18\\ubd80\", \"\\uc544\\uc5ed\", \"\\ub9cc\\uc810\", \"\\ub514\\uce74\\ud504\\ub9ac\\uc624\", \"\\uc9c4\\ud589\", \"\\uac10\\ud0c4\", \"\\uc544\\uc26c\\uc6c0\", \"\\ud3b8\\uc9d1\", \"\\uc785\\ub3c4\", \"\\uc870\\uc5f0\", \"\\uc2a4\\ub9b4\", \"\\ub7ec\\ub2dd\", \"\\uc5f0\\uae30\\uc790\", \"\\ub9e4\\ub825\", \"\\uac1c\\uc5f0\", \"\\ud765\\ubbf8\", \"\\uc18c\\ub984\", \"\\uce90\\ub9ad\\ud130\", \"\\uc774\\ud6c4\", \"\\ub0b4\\uc6a9\", \"\\ud55c\\ud3b8\", \"\\uc601\\uc0c1\", \"\\uc790\\uc5f0\", \"\\ub300\\uc0ac\", \"\\uc790\\uccb4\", \"\\uc18c\\uc7ac\", \"\\ub290\\ub08c\", \"\\uc0ac\\ub78c\", \"\\uae30\\ub300\", \"\\uc774\\uc0c1\", \"\\uba85\\uc791\", \"\\uc4f0\\ub808\\uae30\", \"\\ubb38\\uc81c\", \"\\ub300\\ud55c\\ubbfc\\uad6d\", \"\\uc5b4\\ub978\", \"\\ud64d\\uc0c1\\uc218\", \"\\uad6d\\ubbfc\", \"\\uc8fc\\ubcc0\", \"\\ucd94\\uc5b5\", \"\\uce90\\uc2a4\\ud305\", \"\\uc785\\uc7a5\", \"\\ud3ed\\ub825\", \"\\uc6a9\\uae30\", \"\\uae30\\ub3c5\\uad50\", \"\\uc0dd\\ud65c\", \"\\uc904\\uac70\\ub9ac\", \"\\ud63c\\uc790\", \"\\uc794\\uc778\", \"\\uac78\\uc791\", \"\\ubbf8\\uc18c\", \"\\ubc1c\\uacac\", \"\\ubcc0\\ud654\", \"\\uc804\\ubc18\", \"\\ub0a8\\ud3b8\", \"\\uce58\\uc720\", \"\\uc815\\ubd80\", \"\\uad70\\ub300\", \"\\uc778\\uac04\", \"\\uc0ac\\ud68c\", \"\\uc9c4\\uc2ec\", \"\\uc815\\uce58\", \"\\uc790\\uccb4\", \"\\uc0c1\\ud669\", \"\\uc21c\\uac04\", \"\\uc790\\uc2e0\", \"\\ud604\\uc2e4\", \"\\ubaa8\\uc2b5\", \"\\uc2e4\\ub9dd\", \"\\uc0ac\\ub791\", \"\\ub0a8\\uc790\", \"\\uc5ec\\uc790\", \"\\ucd94\\ucc9c\", \"\\uc5d4\\ub529\", \"\\uac1c\\uc778\", \"\\uc21c\\uc218\", \"\\ubd80\\ubaa8\", \"\\uc815\\uc2e0\", \"\\uc790\\uadf9\", \"\\uc804\\ub2ec\", \"\\uc774\\ub984\", \"\\uc77c\\uc0c1\", \"\\uc5b4\\uba38\\ub2c8\", \"\\uc694\\uc18c\", \"\\uc790\\uc2dd\", \"\\uba54\\uc2dc\\uc9c0\", \"\\uc5f4\\uc815\", \"\\ubcf5\\uc218\", \"\\uc774\\ubc88\", \"\\ud3b8\\uacac\", \"\\ud574\\ud53c\", \"\\ubba4\\uc9c0\\uceec\", \"\\ud558\\ub8e8\", \"\\uacb0\\uacfc\", \"\\uac00\\uc815\", \"\\ud310\\ud0c0\\uc9c0\", \"\\uc601\\uc6c5\", \"\\uc874\\uacbd\", \"\\uc11c\\ub85c\", \"\\ub208\\ubb3c\", \"\\ub178\\ub798\", \"\\uac10\\uc0ac\", \"\\uc790\\uc2e0\", \"\\ud559\\uad50\", \"\\uc2e4\\ub9dd\", \"\\uc8fc\\uc778\\uacf5\", \"\\uc774\\uc57c\\uae30\", \"\\uce5c\\uad6c\", \"\\uc9d1\\uc911\", \"\\ubaa8\\uc2b5\", \"\\uc758\\ubbf8\", \"\\ub9c8\\uc74c\", \"\\uae30\\uc5b5\", \"\\uc624\\ub79c\\ub9cc\", \"\\ud6c4\\ud68c\", \"\\uc601\\ud654\\uad00\", \"\\uc18c\\ub9ac\", \"\\uc911\\uc694\", \"\\uc2ac\\ud514\", \"\\ud790\\ub9c1\", \"\\uad00\\ub78c\", \"\\uace0\\ubbfc\", \"\\uc62c\\ud574\", \"\\uc608\\uc218\", \"\\ucd5c\\uadfc\", \"\\ud3ec\\uc2a4\\ud130\", \"\\uc138\\uc6d4\", \"\\uadf8\\ub9bc\", \"\\uc7a5\\uc560\", \"\\uc2a4\\ud3ec\\uce20\", \"\\uc704\\ub85c\", \"\\uc0c8\\ub07c\", \"\\uc544\\ub0b4\", \"\\ub3d9\\uc2dc\", \"\\ud560\\uc544\\ubc84\\uc9c0\", \"\\uacf5\\ubd80\", \"\\ub9ac\\ubdf0\", \"\\ubb34\\ube44\", \"\\ud3b8\\uc548\", \"\\uacc4\\uc18d\", \"\\uc7ac\\uac1c\\ubd09\", \"\\uc7a5\\uba74\", \"\\uac10\\ub3d9\", \"\\ube44\\uad50\", \"\\uce5c\\uad6c\", \"\\uc8fd\\uc74c\", \"\\uc778\\uc0c1\", \"\\ub208\\ubb3c\", \"\\uccad\\ucd98\", \"\\ub178\\ub825\", \"\\uac15\\ucd94\", \"\\uac10\\uc0ac\", \"\\ub300\\uc0ac\", \"\\uac1c\\ubd09\", \"\\ub290\\ub08c\", \"\\uac00\\uc2b4\", \"\\uc5ec\\uc6b4\", \"\\uac10\\uc815\", \"\\uc5ed\\uc0ac\", \"\\uc0ac\\uc2e4\", \"\\ub098\\uc774\", \"\\uc598\\uae30\", \"\\uc6c3\\uc74c\", \"\\uc9dc\\uc99d\", \"\\uba38\\ub9ac\", \"\\uc5ec\\ubc30\\uc6b0\", \"\\uc120\\uc0dd\", \"\\uc0ac\\uc774\", \"\\ud45c\\uc815\", \"\\ub9cc\\uc871\", \"\\uc131\\uc7a5\", \"\\ubc29\\uc2dd\", \"\\uc751\\uc6d0\", \"\\uac10\\uc0c1\", \"\\uc6b0\\uc6b8\", \"\\ub0a8\\ub140\", \"\\ud559\\uc0dd\", \"\\uc65c\\uace1\", \"\\uc131\\uacf5\", \"\\uc18c\\ub144\", \"\\ucc28\\uc774\", \"\\uc720\\uba38\", \"\\ud3ec\\uc778\\ud2b8\", \"\\ucde8\\ud5a5\", \"\\ud658\\uc0c1\", \"\\ud604\\uc2e4\", \"\\uc774\\uc57c\\uae30\", \"\\uc778\\ubb3c\", \"\\uc18c\\uc7ac\", \"\\uad00\\uacc4\", \"\\ud45c\\ud604\", \"\\uc8fc\\uc778\\uacf5\", \"\\uacfc\\uc815\", \"\\uc0ac\\ud68c\", \"\\uc544\\ud514\", \"\\ub290\\ub08c\", \"\\uac10\\ub3c5\", \"\\uc774\\ud574\", \"\\ub098\\ub77c\", \"\\ub4dc\\ub77c\\ub9c8\", \"\\uc2dc\\uc808\", \"\\ubd88\\ud3b8\", \"\\uc9c4\\uc2e4\", \"\\uae40\\uae30\\ub355\", \"\\uc0c1\\ucc98\", \"\\ucc9c\\uc7ac\", \"\\uc804\\uccb4\", \"\\uac00\\ub2a5\", \"\\uc810\\uc218\", \"\\uc124\\uc815\", \"\\ub2e8\\uc21c\", \"\\uc124\\uba85\", \"\\ud6c4\\ubc18\", \"\\ucf54\\ubbf8\\ub514\", \"\\uc758\\ub3c4\", \"\\ud2b9\\uc720\", \"\\uad6d\\uac00\", \"\\ubbf8\\uc548\", \"\\uc2e0\\ud30c\", \"\\uc18c\\ub140\", \"\\uc778\\uc815\", \"\\uc61b\\ub0a0\", \"\\uc2dc\\uac01\", \"\\uc774\\ud558\", \"\\ubcf8\\uc778\", \"\\uc644\\uc131\\ub3c4\", \"\\uc5b5\\uc9c0\", \"\\ubd84\\uc704\\uae30\", \"\\ucd08\\ubc18\", \"\\uc911\\ubc18\", \"\\ub0b4\\uc6a9\", \"\\ub290\\ub08c\", \"\\uc2dc\\uac04\", \"\\uc7ac\\ubbf8\", \"\\uacf5\\uac10\", \"\\ub300\\ubc15\", \"\\uc218\\uc791\", \"\\ub3d9\\uc548\", \"\\ub85c\\ub9e8\\uc2a4\", \"\\uc5ec\\uc8fc\", \"\\uc5bc\\uad74\", \"\\ubb18\\uc0ac\", \"\\uc7a5\\ub09c\", \"\\uc694\\uc998\", \"\\uad50\\ud6c8\", \"\\uadf8\\ub54c\", \"\\ud2b9\\ubcc4\", \"\\uc2ec\\ub9ac\", \"\\ub0b4\\uba74\", \"\\ub0a8\\uc8fc\", \"\\uacb0\\ud63c\", \"\\ud55c\\ub9c8\\ub514\", \"\\uc804\\ud615\", \"\\ud604\\uc7ac\", \"\\ucf54\\ubbf9\", \"\\uc2a4\\ud06c\\ub9b0\", \"\\ub300\\ud654\", \"\\ud558\\uc815\\uc6b0\", \"\\uc815\\uc758\", \"\\uae30\\ud68c\", \"\\uac71\\uc815\", \"\\uc870\\uc870\", \"\\uc2dc\\ub300\", \"\\uac10\\uc131\", \"\\ub0b4\\uc6a9\", \"\\ubaa8\\ub450\", \"\\uac10\\ub3d9\", \"\\ub290\\ub08c\", \"\\uacfc\\uac70\", \"\\uc7a5\\ub974\", \"\\uacb0\\ub9d0\", \"\\uc138\\uc0c1\", \"\\ud544\\uc694\", \"\\ubd80\\uc871\", \"\\uc544\\ubc84\\uc9c0\", \"\\uc5ec\\uc131\", \"\\uc0ac\\uac74\", \"\\uc804\\uc7c1\", \"\\uc138\\uacc4\", \"\\uace0\\ud1b5\", \"\\ubd81\\ud55c\", \"\\uc2a4\\ub9b4\\ub7ec\", \"\\uad00\\uc2ec\", \"\\uc544\\ube60\", \"\\ubaa9\\uc18c\\ub9ac\", \"\\ud5c8\\ubb34\", \"\\uc785\\uac10\", \"\\ub3d9\\ud654\", \"\\ube44\\uadf9\", \"\\ub9c9\\uc7a5\", \"\\uc0ac\\uadf9\", \"\\uc778\\uad8c\", \"\\ubbf8\\ud654\", \"\\uacb0\\ub860\", \"\\uc0ac\\ud22c\\ub9ac\", \"\\uac10\\uac01\", \"\\ud558\\ub098\\ud558\\ub098\", \"\\uc791\\uac00\", \"\\ub300\\uc791\", \"\\uc120\\ubb3c\", \"\\ud45c\\ud604\", \"\\uc608\\uc220\", \"\\ubd80\\ubd84\", \"\\uacb0\\uad6d\", \"\\ubaa8\\uc2b5\", \"\\uc601\\uc0c1\", \"\\uc778\\uac04\", \"\\ubc30\\uacbd\", \"\\uc7a5\\uba74\", \"\\uc2dc\\ub300\", \"\\ubc18\\uc804\", \"\\uc5c4\\ub9c8\", \"\\uae30\\ubd84\", \"\\uc911\\uac04\", \"\\uadf9\\uc7a5\", \"\\uc6d0\\uc791\", \"\\uc81c\\ubaa9\", \"\\uc874\\uc7ac\", \"\\ud3c9\\uac00\", \"\\uba54\\uc138\\uc9c0\", \"\\ucda9\\uaca9\", \"\\uc18c\\uc124\", \"\\ud76c\\ub9dd\", \"\\uc608\\uc0c1\", \"\\uac00\\uce58\", \"\\ud765\\ud589\", \"\\uc0c1\\uc601\\uad00\", \"\\ubcc4\\uc810\", \"\\uacf5\\ud3ec\", \"\\uc6b8\\ub9bc\", \"\\ud14c\\ub7ec\", \"\\uc790\\uc720\", \"\\ud2f0\\ube44\", \"\\ud53c\\ud574\\uc790\", \"\\uc608\\uace0\\ud3b8\", \"\\uc2dc\\uc0ac\\ud68c\", \"\\uc601\\ud63c\", \"\\ub124\\uc774\\ubc84\", \"\\ub2e4\\ud050\", \"\\uc2ec\\uc7a5\", \"\\uc2dc\\uc791\", \"\\uad00\\uac1d\", \"\\uac15\\ucd94\", \"\\uc774\\uc720\", \"\\uc218\\uc900\", \"\\ub0b4\\uc6a9\", \"\\uc2e4\\ud654\", \"\\uc561\\uc158\", \"\\ud3c9\\ub860\\uac00\", \"\\uc120\\ud0dd\", \"\\ub2f9\\uc2dc\", \"\\uc885\\uad50\", \"\\ud589\\ub3d9\", \"\\uc0c1\\uc601\", \"\\ubc14\\ud0d5\", \"\\ub808\\ub527\", \"\\ub2e4\\ud589\", \"\\uc2dc\\ub9ac\\uc988\", \"\\ucd9c\\uc5f0\", \"\\ub355\\ubd84\", \"\\uc2e4\\ud328\", \"\\uc2a4\\ud0c0\\uc77c\", \"\\ub9ac\\uc5bc\", \"\\ubbf8\\ub798\", \"\\uc7ac\\ub09c\", \"\\ud574\\uc11d\", \"\\ucd5c\\ubbfc\\uc2dd\", \"\\ub3d9\\uc0dd\", \"\\ub529\\ud06c\", \"\\uc18c\\uc7a5\", \"\\uc544\\uce74\\ub370\\ubbf8\", \"\\ubc15\\ud574\\uc77c\", \"\\uc774\\ubbf8\\uc9c0\", \"\\uc758\\uc2ec\", \"\\uc5ed\\ub300\", \"\\uba85\\uc5f0\\uae30\", \"\\uac1c\\ubd09\"], \"Freq\": [7929.0, 6480.0, 4531.0, 4210.0, 4360.0, 2804.0, 3199.0, 2073.0, 2079.0, 1877.0, 1796.0, 2303.0, 1640.0, 2147.0, 1656.0, 2169.0, 1589.0, 2256.0, 1303.0, 1336.0, 1216.0, 1320.0, 1272.0, 1061.0, 1563.0, 1217.0, 1064.0, 1066.0, 1065.0, 2446.0, 7928.513735933589, 4359.772403420107, 3198.9676931786635, 1562.7254961273188, 1426.8298172970656, 1204.899721925987, 1073.3395853443176, 859.9698793765214, 665.144549136988, 478.2800020779, 458.01943132263165, 385.2443781704855, 364.25996162272173, 349.8104622246382, 346.96563106181753, 256.06530896544206, 255.47157435472798, 237.20321118199158, 231.67725220947972, 221.08105090096842, 218.99667538312212, 217.89173623169117, 211.5038199209743, 209.52894646028702, 185.64755602690678, 183.8741303263615, 175.04397426570725, 173.529519409806, 171.38657982443192, 157.95366468141322, 653.6674422599151, 313.2044461775407, 343.81049338581295, 420.0094215847483, 345.39926741189026, 268.52110363686677, 844.8187808119535, 247.3937566107348, 341.29910429151283, 250.50781639475667, 326.146602154326, 300.4525912550149, 301.09477251396146, 300.9913759976951, 4530.45686594894, 2078.846752063861, 1319.6493204830167, 1216.694598142865, 596.9987101034058, 428.7692620721188, 347.4900783698718, 344.21326015601943, 294.0787709653224, 280.71800129562587, 273.8961149185838, 260.45876362254745, 252.43221643068992, 225.9855843163051, 212.3056021042034, 210.37124265951564, 209.67998788363323, 195.91560365928854, 193.00334398281427, 192.56527993957883, 190.88351436833997, 184.13058818480053, 168.30971794138927, 158.686480570144, 150.16524423164236, 139.94288265816888, 124.68154495684576, 120.60534097572332, 115.1344147853982, 114.1351730112594, 1157.5715012533965, 562.2919905058075, 355.33678729411963, 235.92719250544536, 480.1054889979688, 306.90334681798447, 299.3270916308823, 334.9215704172732, 478.1597892285173, 249.91963815978917, 193.74398503131826, 4209.722908425792, 1335.268070884756, 1272.0312010209648, 1098.9816122703855, 685.0737049531125, 630.1927803849861, 481.2623714386495, 434.87534103829927, 319.7699602073741, 301.38254720779145, 295.69549750444116, 273.5344792721599, 268.3173271139732, 260.88734080750595, 245.95568541531617, 219.0005022994806, 218.34698202922257, 197.0040747936126, 194.38631389845042, 183.4913410107519, 177.98436669167464, 171.49161432489993, 162.48456271704632, 155.78313545057907, 152.80467917437963, 152.460145537002, 151.332473856446, 149.44356638641423, 147.55395239206948, 143.20319039194166, 1520.465991935019, 555.4052389132733, 515.614025113855, 471.3242826980985, 225.91195863724022, 298.00468390590555, 441.31313170122604, 529.6195154472557, 257.26596212574333, 208.77159048859562, 245.7774940958778, 203.8890511888917, 2072.5722881156994, 947.8077051001841, 795.7500027443832, 499.9568079651049, 432.84559788491845, 386.45819813263876, 337.1492084153789, 330.97402173699226, 319.3479136680604, 285.66270798009094, 252.50918168250504, 248.47436539587196, 221.4023216590976, 218.18143967233954, 178.6758618015027, 164.24489257341693, 155.73442110405472, 151.46681249198738, 148.44978288016694, 144.5903562885227, 143.41857031691436, 141.76948487189762, 133.11602025382962, 122.06464716380135, 119.86934003943335, 113.40651831083322, 112.89295350715483, 111.75924070880104, 109.19334746671657, 104.48814684455347, 1859.565574814098, 5259.031324620659, 170.30105086970096, 469.21931195755633, 256.1686029890828, 299.75942873444967, 735.7046818869543, 190.12631984605588, 191.7954072658536, 241.33436907349184, 252.71631710030258, 263.9457988811685, 187.3057955352838, 206.89193750438662, 1795.3711972427534, 1588.5913482303606, 1302.2292176703022, 815.1991850710517, 483.7249714484408, 402.0617416327138, 390.909028269861, 382.71610575821717, 326.1969857553634, 304.97482039219136, 288.62549040967184, 255.64872709455557, 238.12679797985626, 234.01287004471249, 225.76918371799033, 210.38429804600526, 196.62907673457505, 189.7948328029686, 179.3108437341532, 174.7142436824482, 166.32320184953443, 164.31660627650976, 160.45786093583033, 159.97222998288123, 154.6602460144695, 148.0469739837922, 146.26767704019426, 145.11055384949012, 143.2020089329866, 135.311501316487, 1690.625771155959, 1773.2779340847671, 353.031422892338, 478.8307015479647, 202.3708964554791, 368.21919824716696, 290.540007539714, 197.54904305295653, 237.02886515210002, 176.66100803856077, 211.4639051774238, 2803.946380861583, 1655.9262091800142, 982.3045745108004, 672.2966839428342, 591.7963745182864, 416.462456797497, 414.53320998588794, 388.4477492386943, 350.3447130635808, 337.54412191759565, 329.0154997664963, 298.7794728753268, 285.8510493625384, 280.70247076172734, 231.8278261573126, 228.15565781377964, 219.40809235114676, 208.47300171895156, 206.6995661227785, 205.40626638723896, 196.34483077679582, 190.83178226082, 182.26923526569888, 177.39602812606933, 177.13495319006495, 163.94248827763852, 155.28091105601618, 154.55417973825968, 148.8679524730632, 141.1815315633631, 442.7642733681208, 339.5932295417501, 282.76522150497226, 184.92384124228235, 316.202232542429, 178.76433888036274, 1876.7204961922441, 1639.104196799385, 1215.4454041972074, 758.4363681519029, 475.0349100003968, 466.519756291478, 396.9535088150684, 323.40753897915664, 320.09525853578265, 257.0559631083686, 256.0078976007962, 251.73973373663267, 250.40208807575797, 242.77784213539434, 217.5482469869493, 216.46660345775246, 197.1703731311518, 195.32638011027578, 192.06616255901648, 182.34894717047925, 177.7624098783376, 176.1583567753321, 166.8796543596761, 166.51786692394109, 154.40379614621563, 152.22846848410816, 150.15073754646974, 141.33519863544302, 113.43157194672362, 112.40990128371102, 636.6461703445401, 409.48474896029904, 1009.2378796349641, 242.37381568039368, 1220.3822939855409, 487.95862052825095, 181.0123917051118, 178.95467191167384, 1065.6524802327667, 1064.2062962317182, 943.4056769640025, 736.8609115522978, 450.9150172703744, 435.21673482156433, 370.3682969723746, 369.1458260440372, 332.3517459034998, 298.0374760685712, 298.02227390744423, 293.5480124532227, 279.76573317552743, 239.16730014776286, 224.03316265924965, 219.82508380723672, 200.42149175746235, 196.61857462989718, 175.62858880569632, 170.33665619136787, 154.49733146987998, 150.4123418621664, 144.47889011348778, 137.65221487694276, 132.3827718089164, 130.32653473400913, 128.80315753701603, 127.14514469239147, 121.99215500468047, 116.49530691052651, 815.0599596944209, 389.87797838944203, 500.24685056142835, 270.38778541086964, 483.0722693542898, 313.25382587924236, 278.9702981923705, 193.60674901088126, 286.71809167592914, 211.20676149063686, 1063.8832517779094, 808.9547007084177, 799.0546469659514, 760.286963419985, 598.3384188298295, 593.8799038209057, 519.6363519039128, 455.222710987799, 415.9983772211889, 368.852481089592, 354.8450688076285, 339.89634559421563, 337.7310554736927, 302.40964095357583, 297.6595791539565, 256.11636363566083, 253.80670996559272, 231.45925579923443, 231.43739736348408, 217.31864221796494, 205.695290839919, 202.16373196881753, 195.28299700635876, 190.10195350099872, 189.49070961002693, 187.6175838159645, 166.84083769318877, 162.20335382865463, 158.44308534383057, 153.46119129681003, 566.7050677165277, 555.44979095754, 415.05823145156, 389.070928274514, 312.64034431742976, 275.22049666204344, 1060.8059291866414, 429.466064981278, 401.1028382616781, 396.8523280871925, 353.34451227423494, 350.4195566701538, 303.0542539029044, 302.7964328122732, 280.6545502516833, 229.48981904009293, 205.6268917759327, 197.45100673202853, 197.2713619222533, 190.01030000055763, 184.2284296943732, 173.17233770030248, 170.01419188859956, 163.3944317228983, 156.04565096551613, 144.75794644072448, 141.07153703255247, 135.36162791640257, 134.8992060359284, 132.16283541072718, 131.36344086759075, 130.61062125890268, 129.4768165828581, 128.05400062193675, 128.01359296991896, 124.61422514091727, 382.9739346660551], \"Total\": [7929.0, 6480.0, 4531.0, 4210.0, 4360.0, 2804.0, 3199.0, 2073.0, 2079.0, 1877.0, 1796.0, 2303.0, 1640.0, 2147.0, 1656.0, 2169.0, 1589.0, 2256.0, 1303.0, 1336.0, 1216.0, 1320.0, 1272.0, 1061.0, 1563.0, 1217.0, 1064.0, 1066.0, 1065.0, 2446.0, 7929.422961307203, 4360.681634048712, 3199.8769462985947, 1563.634741448644, 1427.7390730523766, 1205.8089502704956, 1074.248825020814, 860.8791320976306, 666.0537896025659, 479.1892541044399, 458.9286880990407, 386.15362671244947, 365.1691732989398, 350.7196691339812, 347.8749035865856, 256.9745265106758, 256.3809272783373, 238.1124953830447, 232.58645682483524, 221.99030683259346, 219.90590669054058, 218.80104820194754, 212.41305891747828, 210.43817963356776, 186.55682579666873, 184.7833939483951, 175.95318017249753, 174.4388004345646, 172.2957867288611, 158.86289373939718, 776.7160072808824, 382.8832952625718, 434.43744484008647, 633.9987326551644, 492.8975278520632, 336.06036507244414, 2446.0813285306194, 297.07501248487193, 655.3607985559149, 312.39373023557846, 957.8687195970749, 896.8408067662266, 922.7637431174196, 1386.5781936199533, 4531.359924898642, 2079.749799468205, 1320.5523708059318, 1217.5976406094671, 597.9017433506141, 429.6723334848466, 348.3931435463377, 345.1163129900977, 294.9818373899401, 281.6210609280648, 274.79921715065444, 261.36183406799853, 253.3352914367748, 226.88866543758851, 213.20867351445366, 211.27430947953422, 210.58304373783875, 196.81872025595962, 193.9064544094128, 193.46834340550652, 191.7865850806984, 185.03366096419728, 169.21280355580123, 159.5895522091121, 151.068309422213, 140.84599461132137, 125.58463528049784, 121.50841182984209, 116.03752747872866, 115.03820241558769, 1437.3434780423186, 800.1239156062461, 464.68091908340904, 307.7027977359987, 896.8408067662266, 557.042785808376, 578.548985831721, 807.0516949947863, 2169.5885794365463, 1130.5898647664953, 492.5544878740514, 4210.6265061865915, 1336.171675356937, 1272.9347955631652, 1099.8852196378027, 685.9773102876952, 631.0964414128828, 482.1659776500968, 435.7789419675014, 320.673591623614, 302.2861815787378, 296.5991817429955, 274.4380996750613, 269.2209742352004, 261.790936010868, 246.85935434761214, 219.90409832111848, 219.25063646176818, 197.90767365070525, 195.2899355839503, 184.3949784799505, 178.88799110839844, 172.39517464591043, 163.3881795176082, 156.68675623354127, 153.70837260737682, 153.36378305609415, 152.2360980360499, 150.34721635992463, 148.4576195321211, 144.10679853846446, 2256.97647807808, 774.1994603617464, 769.1361529241409, 807.0516949947863, 277.70647072128753, 492.5544878740514, 1296.8755915400325, 2303.7010334915253, 727.2910870931294, 420.8625788249382, 1130.5898647664953, 680.0117738678603, 2073.4753273943443, 948.7107369924867, 796.6530230114032, 500.85983846853435, 433.7486223322275, 387.36124613516904, 338.05228906963816, 331.8770888774909, 320.2509304644887, 286.5657573763716, 253.4122539544114, 249.37743894797268, 222.30535160262713, 219.08450107845707, 179.57887786614538, 165.14793635363287, 156.6374563392163, 152.3698912427653, 149.35280302352123, 145.49338867619724, 144.32161702583434, 142.6725733739245, 134.0191108966051, 122.96769328204962, 120.77240527484324, 114.30956497731395, 113.795989714762, 112.66225181770311, 110.09643933136259, 105.3911562609467, 2147.085350446424, 6480.214773220348, 185.10681302943794, 727.2910870931294, 353.3945732672245, 511.7322415719542, 2256.97647807808, 253.8940635316884, 273.96282290743886, 657.1916863475617, 769.1361529241409, 957.8687195970749, 571.0752252018879, 1386.5781936199533, 1796.2719891512793, 1589.4921529146916, 1303.1300379204, 816.1000143247787, 484.625786431077, 402.9625613070388, 391.80984786666454, 383.6169197962798, 327.0978039449433, 305.8756380012377, 289.5263257636549, 256.5495414203295, 239.02762545393912, 234.91368244745556, 226.66997181125075, 211.28509982827018, 197.52991536718557, 190.6956748019473, 180.21163753379767, 175.61501424164013, 167.22403181034494, 165.21745141330658, 161.35863117312545, 160.8730481341961, 155.56107175369092, 148.94780934935287, 147.16852169436055, 146.0113598211057, 144.1028471723693, 136.21229908683213, 2169.5885794365463, 2303.7010334915253, 492.26048008739116, 922.7637431174196, 301.1331180562679, 1184.0786080948094, 1296.8755915400325, 361.67047082288747, 800.1239156062461, 253.21489220417067, 1386.5781936199533, 2804.845738882727, 1656.825583647407, 983.203945947492, 673.1960391060319, 592.6957411960384, 417.3618174096324, 415.4325713847821, 389.34707681923646, 351.24409302892417, 338.4434700999401, 329.914862344823, 299.67885130248135, 286.75042373499554, 281.6018418031747, 232.72721619192632, 229.0550539722858, 220.30744885345652, 209.37235845036423, 207.59892774606763, 206.30562754551642, 197.2441917853775, 191.73117503690293, 183.16858000873745, 178.29538179008898, 178.03431608058435, 164.8418644689763, 156.1802692170519, 155.45358189030367, 149.76735855870768, 142.0809295709733, 640.3992763100414, 544.3911884656873, 450.81180757303196, 300.97233603261736, 2446.0813285306194, 1386.5781936199533, 1877.6194542678459, 1640.0031390491292, 1216.34437924015, 759.3353211176727, 475.93388525419556, 467.418733287364, 397.85247675517564, 324.3064947537966, 320.99424106078027, 257.95495920125904, 256.90687284819916, 252.6387140117031, 251.30104113032522, 243.67683811215477, 218.4472284729615, 217.36557469916323, 198.06940858697928, 196.22532014796565, 192.965132493697, 183.24789563135218, 178.66140859013498, 177.0573292863565, 167.77862354443127, 167.41684065781385, 155.30278307134438, 153.1274221101371, 151.04975195889568, 142.23419478444407, 114.33056478864131, 113.30885203431653, 848.650544365417, 550.7608918632743, 2446.0813285306194, 343.0020565300961, 6480.214773220348, 1386.5781936199533, 226.38934904695614, 228.0740666479443, 1066.551942730265, 1065.105761914015, 944.305139449528, 737.7603902374053, 451.8144643067926, 436.11620611798287, 371.2677849743312, 370.04528060592804, 333.25121769569563, 298.9369651138104, 298.9217336467473, 294.44747758439564, 280.6652269163197, 240.06676518118644, 224.93265896814486, 220.7245240452427, 201.32096436715474, 197.51803072634817, 176.5280254795796, 171.23613666445496, 155.39683775523096, 151.31178581917962, 145.3783483980351, 138.55169058844749, 133.2822291394934, 131.226007746407, 129.70265699156994, 128.04465210625608, 122.89162326753038, 117.3947843966399, 1184.0786080948094, 534.7564420213231, 888.6291379385176, 372.13602223847965, 1130.5898647664953, 655.3607985559149, 1437.3434780423186, 430.35524966106306, 2147.085350446424, 848.650544365417, 1064.7801419708585, 809.8516030741088, 799.9515527563284, 761.1838566245401, 599.2353247965992, 594.7767915073167, 520.5332733422783, 456.11963091385064, 416.89529576578656, 369.7494258760798, 355.74198886449557, 340.79322870661906, 338.62796337978335, 303.3065507343519, 298.55648790089907, 257.0132702297749, 254.70359751426966, 232.3561473573434, 232.33431944434435, 218.215566288481, 206.59218462531143, 203.0606446257383, 196.1799095679951, 190.99888884909984, 190.38762068618374, 188.51449402998392, 167.7377998985081, 163.10023143553417, 159.34000871402046, 154.35808110584236, 631.2192902380749, 657.865135158078, 657.1916863475617, 634.8192527064107, 451.00937223209183, 2446.0813285306194, 1061.6991983376474, 430.3593460754026, 401.99612206312776, 397.7456019114677, 354.2378139416956, 351.3128518710874, 303.9475863813122, 303.6897280886335, 281.54781969632944, 230.38308832377245, 206.52017150662388, 198.34428472928985, 198.16465350281342, 190.90359282350096, 185.12174042176173, 174.06562559389147, 170.907479903929, 164.28771978609853, 156.93892886753872, 145.65123925733073, 141.964807466009, 136.25492458993114, 135.7924503278139, 133.0561068582856, 132.25671364603187, 131.50388388721038, 130.3701189824119, 128.94727339962134, 128.90688370525072, 125.50750915772494, 571.0752252018879], \"Category\": [\"Default\", \"Default\", \"Default\", \"Default\", \"Default\", \"Default\", \"Default\", \"Default\", \"Default\", \"Default\", \"Default\", \"Default\", \"Default\", \"Default\", \"Default\", \"Default\", \"Default\", \"Default\", \"Default\", \"Default\", \"Default\", \"Default\", \"Default\", \"Default\", \"Default\", \"Default\", \"Default\", \"Default\", \"Default\", \"Default\", \"Topic1\", \"Topic1\", \"Topic1\", \"Topic1\", \"Topic1\", \"Topic1\", \"Topic1\", \"Topic1\", \"Topic1\", \"Topic1\", \"Topic1\", \"Topic1\", \"Topic1\", \"Topic1\", \"Topic1\", \"Topic1\", \"Topic1\", \"Topic1\", \"Topic1\", \"Topic1\", \"Topic1\", \"Topic1\", \"Topic1\", \"Topic1\", \"Topic1\", \"Topic1\", \"Topic1\", \"Topic1\", \"Topic1\", \"Topic1\", \"Topic1\", \"Topic1\", \"Topic1\", \"Topic1\", \"Topic1\", \"Topic1\", \"Topic1\", \"Topic1\", \"Topic1\", \"Topic1\", \"Topic1\", \"Topic1\", \"Topic1\", \"Topic1\", \"Topic2\", \"Topic2\", \"Topic2\", \"Topic2\", \"Topic2\", \"Topic2\", \"Topic2\", \"Topic2\", \"Topic2\", \"Topic2\", \"Topic2\", \"Topic2\", \"Topic2\", \"Topic2\", \"Topic2\", \"Topic2\", \"Topic2\", \"Topic2\", \"Topic2\", \"Topic2\", \"Topic2\", \"Topic2\", \"Topic2\", \"Topic2\", \"Topic2\", \"Topic2\", \"Topic2\", \"Topic2\", \"Topic2\", \"Topic2\", \"Topic2\", \"Topic2\", \"Topic2\", \"Topic2\", \"Topic2\", \"Topic2\", \"Topic2\", \"Topic2\", \"Topic2\", \"Topic2\", \"Topic2\", \"Topic3\", \"Topic3\", \"Topic3\", \"Topic3\", \"Topic3\", \"Topic3\", \"Topic3\", \"Topic3\", \"Topic3\", \"Topic3\", \"Topic3\", \"Topic3\", \"Topic3\", \"Topic3\", \"Topic3\", \"Topic3\", \"Topic3\", \"Topic3\", \"Topic3\", \"Topic3\", \"Topic3\", \"Topic3\", \"Topic3\", \"Topic3\", \"Topic3\", \"Topic3\", \"Topic3\", \"Topic3\", \"Topic3\", \"Topic3\", \"Topic3\", \"Topic3\", \"Topic3\", \"Topic3\", \"Topic3\", \"Topic3\", \"Topic3\", \"Topic3\", \"Topic3\", \"Topic3\", \"Topic3\", \"Topic3\", \"Topic4\", \"Topic4\", \"Topic4\", \"Topic4\", \"Topic4\", \"Topic4\", \"Topic4\", \"Topic4\", \"Topic4\", \"Topic4\", \"Topic4\", \"Topic4\", \"Topic4\", \"Topic4\", \"Topic4\", \"Topic4\", \"Topic4\", \"Topic4\", \"Topic4\", \"Topic4\", \"Topic4\", \"Topic4\", \"Topic4\", \"Topic4\", \"Topic4\", \"Topic4\", \"Topic4\", \"Topic4\", \"Topic4\", \"Topic4\", \"Topic4\", \"Topic4\", \"Topic4\", \"Topic4\", \"Topic4\", \"Topic4\", \"Topic4\", \"Topic4\", \"Topic4\", \"Topic4\", \"Topic4\", \"Topic4\", \"Topic4\", \"Topic4\", \"Topic5\", \"Topic5\", \"Topic5\", \"Topic5\", \"Topic5\", \"Topic5\", \"Topic5\", \"Topic5\", \"Topic5\", \"Topic5\", \"Topic5\", \"Topic5\", \"Topic5\", \"Topic5\", \"Topic5\", \"Topic5\", \"Topic5\", \"Topic5\", \"Topic5\", \"Topic5\", \"Topic5\", \"Topic5\", \"Topic5\", \"Topic5\", \"Topic5\", \"Topic5\", \"Topic5\", \"Topic5\", \"Topic5\", \"Topic5\", \"Topic5\", \"Topic5\", \"Topic5\", \"Topic5\", \"Topic5\", \"Topic5\", \"Topic5\", \"Topic5\", \"Topic5\", \"Topic5\", \"Topic5\", \"Topic6\", \"Topic6\", \"Topic6\", \"Topic6\", \"Topic6\", \"Topic6\", \"Topic6\", \"Topic6\", \"Topic6\", \"Topic6\", \"Topic6\", \"Topic6\", \"Topic6\", \"Topic6\", \"Topic6\", \"Topic6\", \"Topic6\", \"Topic6\", \"Topic6\", \"Topic6\", \"Topic6\", \"Topic6\", \"Topic6\", \"Topic6\", \"Topic6\", \"Topic6\", \"Topic6\", \"Topic6\", \"Topic6\", \"Topic6\", \"Topic6\", \"Topic6\", \"Topic6\", \"Topic6\", \"Topic6\", \"Topic6\", \"Topic7\", \"Topic7\", \"Topic7\", \"Topic7\", \"Topic7\", \"Topic7\", \"Topic7\", \"Topic7\", \"Topic7\", \"Topic7\", \"Topic7\", \"Topic7\", \"Topic7\", \"Topic7\", \"Topic7\", \"Topic7\", \"Topic7\", \"Topic7\", \"Topic7\", \"Topic7\", \"Topic7\", \"Topic7\", \"Topic7\", \"Topic7\", \"Topic7\", \"Topic7\", \"Topic7\", \"Topic7\", \"Topic7\", \"Topic7\", \"Topic7\", \"Topic7\", \"Topic7\", \"Topic7\", \"Topic7\", \"Topic7\", \"Topic7\", \"Topic7\", \"Topic8\", \"Topic8\", \"Topic8\", \"Topic8\", \"Topic8\", \"Topic8\", \"Topic8\", \"Topic8\", \"Topic8\", \"Topic8\", \"Topic8\", \"Topic8\", \"Topic8\", \"Topic8\", \"Topic8\", \"Topic8\", \"Topic8\", \"Topic8\", \"Topic8\", \"Topic8\", \"Topic8\", \"Topic8\", \"Topic8\", \"Topic8\", \"Topic8\", \"Topic8\", \"Topic8\", \"Topic8\", \"Topic8\", \"Topic8\", \"Topic8\", \"Topic8\", \"Topic8\", \"Topic8\", \"Topic8\", \"Topic8\", \"Topic8\", \"Topic8\", \"Topic8\", \"Topic8\", \"Topic9\", \"Topic9\", \"Topic9\", \"Topic9\", \"Topic9\", \"Topic9\", \"Topic9\", \"Topic9\", \"Topic9\", \"Topic9\", \"Topic9\", \"Topic9\", \"Topic9\", \"Topic9\", \"Topic9\", \"Topic9\", \"Topic9\", \"Topic9\", \"Topic9\", \"Topic9\", \"Topic9\", \"Topic9\", \"Topic9\", \"Topic9\", \"Topic9\", \"Topic9\", \"Topic9\", \"Topic9\", \"Topic9\", \"Topic9\", \"Topic9\", \"Topic9\", \"Topic9\", \"Topic9\", \"Topic9\", \"Topic9\", \"Topic10\", \"Topic10\", \"Topic10\", \"Topic10\", \"Topic10\", \"Topic10\", \"Topic10\", \"Topic10\", \"Topic10\", \"Topic10\", \"Topic10\", \"Topic10\", \"Topic10\", \"Topic10\", \"Topic10\", \"Topic10\", \"Topic10\", \"Topic10\", \"Topic10\", \"Topic10\", \"Topic10\", \"Topic10\", \"Topic10\", \"Topic10\", \"Topic10\", \"Topic10\", \"Topic10\", \"Topic10\", \"Topic10\", \"Topic10\", \"Topic10\"], \"logprob\": [30.0, 29.0, 28.0, 27.0, 26.0, 25.0, 24.0, 23.0, 22.0, 21.0, 20.0, 19.0, 18.0, 17.0, 16.0, 15.0, 14.0, 13.0, 12.0, 11.0, 10.0, 9.0, 8.0, 7.0, 6.0, 5.0, 4.0, 3.0, 2.0, 1.0, -1.8463, -2.4443, -2.7539, -3.4703, -3.5613, -3.7303, -3.846, -4.0676, -4.3245, -4.6543, -4.6976, -4.8706, -4.9266, -4.9671, -4.9753, -5.2791, -5.2814, -5.3556, -5.3791, -5.426, -5.4354, -5.4405, -5.4702, -5.4796, -5.6006, -5.6102, -5.6594, -5.6681, -5.6806, -5.7622, -4.3419, -5.0776, -4.9844, -4.7842, -4.9798, -5.2316, -4.0854, -5.3135, -4.9917, -5.301, -5.0371, -5.1192, -5.1171, -5.1174, -1.9816, -2.7606, -3.2151, -3.2963, -4.0083, -4.3393, -4.5494, -4.5589, -4.7163, -4.7628, -4.7874, -4.8377, -4.869, -4.9797, -5.0421, -5.0513, -5.0546, -5.1225, -5.1375, -5.1397, -5.1485, -5.1845, -5.2744, -5.3332, -5.3884, -5.4589, -5.5744, -5.6076, -5.6541, -5.6628, -3.3461, -4.0682, -4.5271, -4.9366, -4.2262, -4.6736, -4.6986, -4.5863, -4.2302, -4.879, -5.1336, -2.0161, -3.1643, -3.2128, -3.3591, -3.8317, -3.9152, -4.1848, -4.2861, -4.5936, -4.6528, -4.6719, -4.7498, -4.769, -4.7971, -4.8561, -4.9721, -4.9751, -5.078, -5.0914, -5.149, -5.1795, -5.2167, -5.2706, -5.3127, -5.332, -5.3343, -5.3417, -5.3543, -5.367, -5.3969, -3.0344, -4.0415, -4.1159, -4.2057, -4.9411, -4.6641, -4.2715, -4.089, -4.8111, -5.02, -4.8568, -5.0436, -2.7071, -3.4895, -3.6643, -4.1291, -4.2732, -4.3866, -4.5231, -4.5416, -4.5773, -4.6888, -4.8122, -4.8283, -4.9436, -4.9583, -5.1581, -5.2423, -5.2955, -5.3233, -5.3434, -5.3697, -5.3779, -5.3894, -5.4524, -5.5391, -5.5572, -5.6126, -5.6172, -5.6273, -5.6505, -5.6946, -2.8155, -1.7759, -5.2061, -4.1926, -4.7978, -4.6406, -3.7428, -5.0959, -5.0872, -4.8574, -4.8114, -4.7679, -5.1109, -5.0114, -2.7917, -2.9141, -3.1129, -3.5813, -4.1032, -4.2881, -4.3162, -4.3374, -4.4972, -4.5645, -4.6196, -4.7409, -4.8119, -4.8293, -4.8652, -4.9358, -5.0034, -5.0388, -5.0956, -5.1216, -5.1708, -5.1829, -5.2067, -5.2097, -5.2435, -5.2872, -5.2993, -5.3072, -5.3204, -5.3771, -2.8519, -2.8041, -4.4181, -4.1134, -4.9746, -4.376, -4.613, -4.9987, -4.8165, -5.1105, -4.9307, -2.3034, -2.8301, -3.3523, -3.7315, -3.8591, -4.2104, -4.2151, -4.2801, -4.3833, -4.4205, -4.4461, -4.5425, -4.5868, -4.6049, -4.7962, -4.8122, -4.8513, -4.9024, -4.911, -4.9172, -4.9624, -4.9908, -5.0367, -5.0638, -5.0653, -5.1427, -5.197, -5.2017, -5.2392, -5.2922, -4.1492, -4.4145, -4.5976, -5.0223, -4.4858, -5.0562, -2.6291, -2.7644, -3.0635, -3.5351, -4.003, -4.0211, -4.1825, -4.3874, -4.3977, -4.6171, -4.6211, -4.638, -4.6433, -4.6742, -4.7839, -4.7889, -4.8823, -4.8917, -4.9085, -4.9604, -4.9859, -4.995, -5.0491, -5.0513, -5.1268, -5.141, -5.1547, -5.2152, -5.4352, -5.4442, -3.7101, -4.1515, -3.2494, -4.6759, -3.0594, -3.9761, -4.9678, -4.9792, -3.191, -3.1924, -3.3129, -3.56, -4.0511, -4.0865, -4.2479, -4.2512, -4.3562, -4.4652, -4.4652, -4.4803, -4.5284, -4.6852, -4.7506, -4.7695, -4.862, -4.8811, -4.994, -5.0246, -5.1222, -5.149, -5.1892, -5.2376, -5.2767, -5.2923, -5.3041, -5.317, -5.3584, -5.4045, -3.4591, -4.1965, -3.9473, -4.5625, -3.9822, -4.4154, -4.5313, -4.8965, -4.5039, -4.8095, -3.1578, -3.4318, -3.4441, -3.4938, -3.7333, -3.7408, -3.8744, -4.0067, -4.0968, -4.2171, -4.2558, -4.2989, -4.3052, -4.4157, -4.4315, -4.5819, -4.5909, -4.6831, -4.6832, -4.7461, -4.8011, -4.8184, -4.853, -4.8799, -4.8832, -4.8931, -5.0105, -5.0386, -5.0621, -5.094, -3.7877, -3.8077, -4.0991, -4.1637, -4.3824, -4.5099, -2.963, -3.8673, -3.9356, -3.9463, -4.0624, -4.0707, -4.2159, -4.2168, -4.2927, -4.494, -4.6038, -4.6443, -4.6452, -4.6827, -4.7136, -4.7755, -4.7939, -4.8336, -4.8797, -4.9548, -4.9805, -5.0219, -5.0253, -5.0458, -5.0518, -5.0576, -5.0663, -5.0774, -5.0777, -5.1046, -3.9818], \"loglift\": [30.0, 29.0, 28.0, 27.0, 26.0, 25.0, 24.0, 23.0, 22.0, 21.0, 20.0, 19.0, 18.0, 17.0, 16.0, 15.0, 14.0, 13.0, 12.0, 11.0, 10.0, 9.0, 8.0, 7.0, 6.0, 5.0, 4.0, 3.0, 2.0, 1.0, 1.7889, 1.7888, 1.7887, 1.7884, 1.7884, 1.7883, 1.7882, 1.788, 1.7877, 1.7871, 1.787, 1.7867, 1.7865, 1.7864, 1.7864, 1.7855, 1.7855, 1.7852, 1.7851, 1.7849, 1.7849, 1.7849, 1.7847, 1.7847, 1.7841, 1.7841, 1.7838, 1.7838, 1.7837, 1.7833, 1.6165, 1.5882, 1.5551, 1.3773, 1.4334, 1.5647, 0.7259, 1.606, 1.1366, 1.5683, 0.7117, 0.6954, 0.6691, 0.2615, 2.2131, 2.2129, 2.2127, 2.2126, 2.2118, 2.2112, 2.2107, 2.2107, 2.2103, 2.2101, 2.21, 2.2099, 2.2098, 2.2093, 2.2091, 2.2091, 2.209, 2.2087, 2.2087, 2.2087, 2.2086, 2.2084, 2.208, 2.2077, 2.2073, 2.2069, 2.2061, 2.2059, 2.2055, 2.2055, 1.9969, 1.8606, 1.9451, 1.9477, 1.5885, 1.6172, 1.5544, 1.3338, 0.701, 0.704, 1.2803, 2.2521, 2.2516, 2.2516, 2.2515, 2.251, 2.2509, 2.2504, 2.2502, 2.2495, 2.2493, 2.2492, 2.249, 2.2489, 2.2488, 2.2486, 2.2482, 2.2482, 2.2477, 2.2477, 2.2474, 2.2472, 2.247, 2.2468, 2.2465, 2.2464, 2.2464, 2.2463, 2.2463, 2.2462, 2.246, 1.8573, 1.9202, 1.8524, 1.7145, 2.0459, 1.7498, 1.1743, 0.7822, 1.2131, 1.5512, 0.7262, 1.0478, 2.2694, 2.2689, 2.2687, 2.2681, 2.2678, 2.2675, 2.2672, 2.2672, 2.2671, 2.2667, 2.2663, 2.2663, 2.2658, 2.2658, 2.2648, 2.2644, 2.2641, 2.2639, 2.2638, 2.2637, 2.2636, 2.2635, 2.2631, 2.2625, 2.2624, 2.2619, 2.2619, 2.2618, 2.2616, 2.2613, 2.1261, 2.0611, 2.1865, 1.8316, 1.9481, 1.7351, 1.1489, 1.9807, 1.9133, 1.2681, 1.1569, 0.9809, 1.1551, 0.3675, 2.3283, 2.3282, 2.3281, 2.3277, 2.3269, 2.3266, 2.3265, 2.3265, 2.326, 2.3259, 2.3257, 2.3253, 2.325, 2.325, 2.3248, 2.3245, 2.3242, 2.3241, 2.3238, 2.3237, 2.3234, 2.3233, 2.3232, 2.3232, 2.323, 2.3227, 2.3227, 2.3226, 2.3225, 2.3222, 2.0794, 2.0671, 1.9964, 1.6728, 1.9314, 1.1608, 0.8328, 1.7241, 1.1122, 1.9688, 0.4483, 2.371, 2.3707, 2.3704, 2.3699, 2.3698, 2.3691, 2.3691, 2.369, 2.3687, 2.3686, 2.3686, 2.3683, 2.3681, 2.3681, 2.3674, 2.3673, 2.3672, 2.367, 2.3669, 2.3669, 2.3667, 2.3666, 2.3664, 2.3662, 2.3662, 2.3658, 2.3655, 2.3655, 2.3653, 2.3649, 2.0022, 1.8994, 1.9048, 1.8842, 0.3254, 0.3228, 2.4467, 2.4466, 2.4464, 2.446, 2.4453, 2.4452, 2.4449, 2.4444, 2.4443, 2.4437, 2.4436, 2.4436, 2.4436, 2.4435, 2.443, 2.443, 2.4426, 2.4426, 2.4425, 2.4422, 2.4421, 2.4421, 2.4418, 2.4418, 2.4413, 2.4413, 2.4412, 2.4408, 2.4393, 2.4392, 2.1597, 2.1508, 1.5619, 2.0999, 0.7776, 1.4028, 2.2235, 2.2046, 2.4503, 2.4503, 2.4502, 2.4499, 2.4491, 2.4491, 2.4487, 2.4487, 2.4484, 2.4481, 2.4481, 2.4481, 2.4479, 2.4474, 2.4471, 2.447, 2.4467, 2.4466, 2.446, 2.4459, 2.4453, 2.4452, 2.4449, 2.4446, 2.4444, 2.4443, 2.4442, 2.4441, 2.4438, 2.4434, 2.0777, 2.1352, 1.8766, 2.1317, 1.6008, 1.713, 0.8117, 1.6523, 0.4378, 1.0603, 2.4852, 2.4849, 2.4849, 2.4848, 2.4845, 2.4845, 2.4843, 2.484, 2.4839, 2.4836, 2.4835, 2.4834, 2.4834, 2.4831, 2.483, 2.4825, 2.4825, 2.4821, 2.4821, 2.4819, 2.4817, 2.4816, 2.4814, 2.4813, 2.4813, 2.4812, 2.4807, 2.4805, 2.4804, 2.4802, 2.3782, 2.3168, 2.0265, 1.9964, 2.1196, 0.3013, 2.6829, 2.6816, 2.6815, 2.6814, 2.6812, 2.6811, 2.6808, 2.6807, 2.6805, 2.6798, 2.6794, 2.6792, 2.6792, 2.679, 2.6789, 2.6785, 2.6785, 2.6782, 2.678, 2.6775, 2.6774, 2.6771, 2.6771, 2.677, 2.6769, 2.6769, 2.6768, 2.6767, 2.6767, 2.6766, 2.2841]}, \"token.table\": {\"Topic\": [6, 5, 3, 9, 8, 6, 4, 7, 3, 4, 5, 6, 7, 5, 1, 4, 9, 4, 10, 1, 6, 3, 7, 2, 3, 3, 8, 8, 8, 7, 4, 4, 8, 7, 4, 9, 5, 7, 3, 5, 6, 9, 10, 2, 5, 4, 8, 7, 1, 6, 2, 2, 7, 4, 9, 2, 2, 9, 4, 7, 1, 6, 6, 5, 5, 3, 7, 2, 7, 1, 6, 7, 9, 9, 1, 3, 2, 4, 3, 4, 1, 4, 5, 6, 7, 9, 10, 6, 10, 7, 1, 2, 4, 5, 7, 8, 8, 2, 7, 10, 10, 4, 7, 8, 6, 1, 10, 1, 10, 7, 4, 10, 4, 8, 1, 5, 1, 6, 5, 9, 3, 10, 2, 2, 7, 2, 3, 4, 8, 8, 1, 7, 4, 2, 3, 10, 2, 6, 8, 10, 1, 10, 9, 2, 5, 1, 8, 1, 2, 9, 3, 6, 3, 1, 7, 8, 8, 8, 1, 6, 6, 4, 5, 8, 8, 8, 2, 3, 5, 5, 8, 2, 5, 10, 9, 6, 2, 3, 6, 7, 4, 2, 3, 8, 5, 10, 6, 6, 5, 5, 8, 8, 4, 6, 5, 1, 2, 9, 4, 9, 10, 1, 5, 6, 7, 6, 9, 2, 4, 5, 3, 1, 8, 7, 10, 1, 4, 4, 6, 7, 1, 7, 8, 10, 9, 3, 9, 6, 6, 2, 3, 10, 10, 7, 9, 2, 4, 8, 8, 1, 1, 10, 2, 5, 10, 5, 2, 3, 1, 6, 7, 9, 3, 5, 8, 5, 3, 7, 10, 5, 1, 1, 1, 1, 3, 1, 8, 1, 3, 9, 4, 9, 9, 4, 2, 8, 6, 4, 4, 1, 6, 5, 3, 7, 2, 5, 9, 5, 9, 4, 5, 1, 5, 6, 2, 3, 7, 8, 9, 10, 10, 3, 10, 3, 2, 3, 5, 3, 6, 9, 6, 6, 1, 10, 2, 8, 8, 1, 5, 1, 4, 6, 3, 8, 1, 2, 3, 3, 2, 3, 1, 2, 9, 1, 2, 9, 8, 2, 7, 7, 10, 4, 8, 4, 4, 10, 7, 1, 3, 2, 8, 6, 7, 6, 2, 3, 7, 2, 6, 9, 1, 7, 3, 9, 10, 2, 1, 1, 2, 3, 4, 5, 4, 8, 2, 9, 1, 6, 4, 6, 2, 4, 1, 1, 3, 5, 5, 6, 4, 8, 1, 6, 4, 10, 2, 3, 10, 9, 5, 2, 3, 4, 1, 5, 6, 2, 6, 7, 1, 9, 7, 6, 9, 3, 3, 4, 1, 9, 10, 4, 5, 2, 5, 5, 8, 9, 8, 8, 3, 7, 2, 3, 5, 7, 1, 2, 1, 4, 10, 3, 10, 8, 2, 5, 7, 2, 2, 5, 6, 1, 4, 1, 5, 9, 9, 4], \"Freq\": [0.997734737371253, 0.9992918727459085, 0.9911075285904017, 0.9981360716532686, 0.990657280767268, 0.9996984722293271, 0.8115471761419005, 0.18826536506809632, 0.6708825193540117, 0.3289404600708623, 0.9932765855170123, 0.25419379274800585, 0.7426090088138171, 0.9991328279699521, 0.9980553977256231, 0.3667118817941726, 0.6314748171974341, 0.32745248217323963, 0.6706647094778116, 0.8174814724819803, 0.18021157061104356, 0.9982626404762669, 0.9883621252890592, 0.9944136598778247, 0.9953914507364785, 0.2714061363704134, 0.7255411566337784, 0.9960181605427953, 0.9994824980311301, 0.9949984099136224, 0.9900411008928038, 0.9983731885574659, 0.9968656766370338, 0.9988947379844927, 0.9936044556446031, 0.9942568990774349, 0.198772602109768, 0.7995075773748447, 0.3013793184497444, 0.5474596793857742, 0.15207213316271506, 0.8436379591185348, 0.15504697627043343, 0.3254374697561107, 0.6707996825585139, 0.9980257327967188, 0.9976298206812844, 0.9948227785906765, 0.9970125187680589, 0.9936921245988763, 0.9977946928897358, 0.9909751509169357, 0.9972223945558452, 0.9959303709718331, 0.9979384980399503, 0.9996394761194849, 0.9972312882961052, 0.9988104870188079, 0.9992508390969204, 0.9913227983867418, 0.9979763999873543, 0.9965401645487071, 0.998775487067099, 0.997611288493113, 0.9926802876530739, 0.9991231101672441, 0.9937555451710224, 0.9953446910189926, 0.9946008391976914, 0.3454504926488271, 0.12918621973612943, 0.41249650542327404, 0.1124247165425177, 0.993254261959959, 0.281581183094779, 0.716869525768818, 0.2956605540138075, 0.7008250169216177, 0.6734673643095963, 0.32609998692885717, 0.21708115805151698, 0.1492883711517077, 0.15217317059425278, 0.12909477505389216, 0.3519455319904993, 0.9915902558005663, 0.9974812556912525, 0.9968752421662338, 0.9965056978871845, 0.9982414605503834, 0.3403389142273391, 0.0814307831586885, 0.27561188146017646, 0.13154203433326603, 0.0814307831586885, 0.09082664275392179, 0.9927446375609398, 0.9960012314474485, 0.9916113346742416, 0.9952667584190709, 0.9907898771827299, 0.9923957793050028, 0.9991041580973467, 0.9973772990524299, 0.9982233420332951, 0.9958804804101266, 0.9941642534183538, 0.9924792895202931, 0.9939965718237586, 0.9978573043904909, 0.9885436973049994, 0.9946902271074437, 0.9997707581141361, 0.9927810993138836, 0.9955389636298838, 0.9970442851080044, 0.842006594262831, 0.15707156651386142, 0.9971372744591246, 0.9979731520223348, 0.9942958593783318, 0.9959563442766827, 0.9995091641199567, 0.2915434414931144, 0.7055351284133369, 0.22112351064780983, 0.21758553447744486, 0.13355860043127712, 0.42721062257156855, 0.99585360804241, 0.9988374899820908, 0.9962979614572404, 0.9930051162896232, 0.9984352413863986, 0.9915037946948997, 0.9921618013338116, 0.9928326726446484, 0.9961864572270931, 0.990518888037844, 0.9980542570106907, 0.9974850051625875, 0.9961682965375946, 0.9992673210739876, 0.9963058220231134, 0.9973172905673527, 0.5483841551505824, 0.4507903648271736, 0.9998436863532091, 0.9929283022607526, 0.9941634969732144, 0.9933947667088262, 0.9948763297550789, 0.9982125295821213, 0.2543243186063931, 0.18230327262936144, 0.56266442169556, 0.9989693262914797, 0.9969164716278657, 0.3747305326064403, 0.6245508876774005, 0.9967370819446671, 0.9183886709397591, 0.07563200819503899, 0.9970088291751686, 0.9965852545638484, 0.9910111571418773, 0.9996998859236121, 0.9998512083212151, 0.9987087223820972, 0.995700808841708, 0.9903795941306517, 0.7023912034602516, 0.29620411960868265, 0.9977288395858018, 0.9972375831313877, 0.9964580385731306, 0.5511246313952062, 0.16695306423372694, 0.1813146181463056, 0.09873568314897829, 0.9908425566933763, 0.9958402317884453, 0.9923195952606703, 0.9881188555027507, 0.9978579520458813, 0.9981254301546403, 0.9953938847714163, 0.9978627916659887, 0.9945730615269512, 0.9939176977964149, 0.9962454219842096, 0.9989618289999409, 0.9930490420953564, 0.9927346307173898, 0.9963932380552166, 0.6624618920625516, 0.19242940674197925, 0.14353340994688615, 0.9964858484199165, 0.9976724047316623, 0.9920626953303959, 0.32619400387700154, 0.5190927835783512, 0.15388554335725652, 0.9980377836436319, 0.3059803376524612, 0.693998881776959, 0.5168101704822076, 0.273097013164511, 0.20914391514497363, 0.997581791946874, 0.9974845021092128, 0.9984802804626934, 0.997510162919238, 0.9938780239334695, 0.9997259437430527, 0.9909422321099111, 0.9973571876249202, 0.9924429044528563, 0.9996700852952722, 0.996207692163467, 0.7506034188386931, 0.24863001785708674, 0.9932224680377123, 0.9972707985524865, 0.10139107120104224, 0.8982615214217337, 0.9988261410574093, 0.9936201939836968, 0.3938650540721634, 0.6050092067706427, 0.9939405257361665, 0.9993414346184473, 0.9937176128232209, 0.9912017492306663, 0.9984918201683762, 0.9952858958241274, 0.9981973478692361, 0.995556381240938, 0.9979177750238538, 0.9974785426768124, 0.9904979217206674, 0.3001403248380832, 0.6990110196886937, 0.9968413696883803, 0.9979330589287788, 0.9967654006835379, 0.9969787494444224, 0.3076205849811499, 0.6917559347545655, 0.9969026202541995, 0.9989484455289387, 0.9985753023124259, 0.9981821143128637, 0.9974405763823395, 0.9996903709692501, 0.9992656375122878, 0.9959714197065698, 0.9929648155382894, 0.9986521084358896, 0.999946659257645, 0.999329122353658, 0.9945683115856325, 0.999482347253552, 0.9954136510527265, 0.5203240730165616, 0.47759951570141873, 0.9984178611111955, 0.9910392996123091, 0.9956014690847591, 0.9982740640691785, 0.9927116023553287, 0.9956923095423144, 0.9941281143561471, 0.26928146850497986, 0.729303977200987, 0.9948928964635999, 0.9991802918051641, 0.9944764893176241, 0.9975181953805236, 0.9923921558351478, 0.9915800526860709, 0.9965188503798724, 0.9974718284400644, 0.9939684598535741, 0.996497940427839, 0.9944295161470103, 0.9983918337162829, 0.9986939781134564, 0.9966088584458274, 0.9920599753200801, 0.9995940602803082, 0.9963519109561881, 0.9971149766881251, 0.14411515177536227, 0.29999480573646836, 0.19705541161120962, 0.12205671017709252, 0.15293852841467015, 0.08382207807342498, 0.9926537927119589, 0.9984036484891127, 0.9894905443585832, 0.9924348347690922, 0.9995817123060445, 0.2300645753484443, 0.7696311171562108, 0.19060543530169163, 0.19533118989594847, 0.6127728457219673, 0.9970822036727096, 0.9995017075692485, 0.8004514306291728, 0.199368943688307, 0.8056529407829587, 0.19410809195029835, 0.9913305773765222, 0.2803393844972093, 0.7171000197646007, 0.4123250068274846, 0.5862440855367079, 0.9941903555260876, 0.9954647878432618, 0.9934385155996687, 0.9957604742955751, 0.9960832532736944, 0.9957451525834873, 0.9958886699792276, 0.4150911299457269, 0.5836057379236936, 0.8034732317153709, 0.19526640292684314, 0.9947767100429866, 0.3345075265717687, 0.5352120425148299, 0.12934291027441722, 0.9918415014678693, 0.9958986438995855, 0.9964700327470998, 0.7848327634562015, 0.21045794774244508, 0.8662906668397077, 0.13366958138870758, 0.9910094361058334, 0.9868000664353447, 0.9940172341284984, 0.9993883310188596, 0.998978797295866, 0.9979798267160606, 0.9939934776728584, 0.9971752629726383, 0.9972269744432829, 0.9962979773004459, 0.9973830074068555, 0.9910586902248597, 0.9978994477836372, 0.9930502900846779, 0.7669738518350493, 0.23074213339105298, 0.9989755249672048, 0.9945827624623603, 0.9884488103902056, 0.9969175072753872, 0.9975453130320056, 0.9962630121155683, 0.9970916323600141, 0.9967982694476165, 0.18737340850978532, 0.131855361543923, 0.3400480376659067, 0.1156625978455465, 0.22438543982036022, 0.7244027479913276, 0.2716510304967479, 0.9953253004796895, 0.9984447165895111, 0.38209491781177213, 0.6146744330015464, 0.9968872002833224, 0.9989587446565873, 0.7639650896366554, 0.2345695627335083, 0.9963389197239668, 0.5013512975877275, 0.4965991525868959, 0.9966438052114588, 0.9936366345131683, 0.9986896774820057, 0.7483436097602423, 0.2481349863941856, 0.37044282601880574, 0.6277564057683953, 0.9950498502946646, 0.9932038969148039, 0.9947894685050143, 0.999195170894201, 0.9941227989844471, 0.9979142499684562, 0.9923468051186377, 0.9958158301784567, 0.3533660793605893, 0.6448587207008419, 0.6999426463010122, 0.1359308907309212, 0.1623055411712492, 0.9947291534898206, 0.9934453694818097, 0.9953592208114339, 0.9979480217469461, 0.9971335574654702, 0.9979526933068099, 0.9936713915124378, 0.993985573902071, 0.9918803880814313, 0.9950360496370024, 0.9941217949489001, 0.9970152483336331, 0.997852468533755, 0.9975220605163665, 0.996776470189457, 0.9930734168742429, 0.9943310302787859, 0.996110560960365, 0.31079017683810245, 0.6882988970735149, 0.9947701850250604, 0.9986178837803542, 0.9945825551467646, 0.9956170116093432, 0.9926373598235971, 0.18364714321397554, 0.8138089091442838, 0.9926312178108776, 0.9931901229913023, 0.8314398371440885, 0.16494150615409045, 0.9946137675177447, 0.9921305079714715, 0.9955287764069062, 0.99190711312671, 0.9968824020200528, 0.9967175190506053, 0.220318268878489, 0.7794104449236923, 0.9940283224048496, 0.9975792246045914, 0.9966715327335826, 0.9910999293385444, 0.9940653443164956, 0.9953278580309066, 0.9982832752748484, 0.7918286144202512, 0.20716446307506572, 0.9960575178516308, 0.9981455654946043, 0.9960939052927205], \"Term\": [\"\\uac00\\ub2a5\", \"\\uac00\\uc2b4\", \"\\uac00\\uc815\", \"\\uac00\\uce58\", \"\\uac10\\uac01\", \"\\uac10\\ub3c5\", \"\\uac10\\ub3d9\", \"\\uac10\\ub3d9\", \"\\uac10\\uc0ac\", \"\\uac10\\uc0ac\", \"\\uac10\\uc0c1\", \"\\uac10\\uc131\", \"\\uac10\\uc131\", \"\\uac10\\uc815\", \"\\uac10\\ud0c4\", \"\\uac15\\ucd94\", \"\\uac15\\ucd94\", \"\\uac1c\\ubd09\", \"\\uac1c\\ubd09\", \"\\uac1c\\uc5f0\", \"\\uac1c\\uc5f0\", \"\\uac1c\\uc778\", \"\\uac71\\uc815\", \"\\uac78\\uc791\", \"\\uacb0\\uacfc\", \"\\uacb0\\uad6d\", \"\\uacb0\\uad6d\", \"\\uacb0\\ub860\", \"\\uacb0\\ub9d0\", \"\\uacb0\\ud63c\", \"\\uacc4\\uc18d\", \"\\uace0\\ubbfc\", \"\\uace0\\ud1b5\", \"\\uacf5\\uac10\", \"\\uacf5\\ubd80\", \"\\uacf5\\ud3ec\", \"\\uacfc\\uac70\", \"\\uacfc\\uac70\", \"\\uacfc\\uc815\", \"\\uacfc\\uc815\", \"\\uacfc\\uc815\", \"\\uad00\\uac1d\", \"\\uad00\\uac1d\", \"\\uad00\\uacc4\", \"\\uad00\\uacc4\", \"\\uad00\\ub78c\", \"\\uad00\\uc2ec\", \"\\uad50\\ud6c8\", \"\\uad6c\\uc131\", \"\\uad6d\\uac00\", \"\\uad6d\\ubbfc\", \"\\uad70\\ub300\", \"\\uadf8\\ub54c\", \"\\uadf8\\ub9bc\", \"\\uadf9\\uc7a5\", \"\\uae30\\ub300\", \"\\uae30\\ub3c5\\uad50\", \"\\uae30\\ubd84\", \"\\uae30\\uc5b5\", \"\\uae30\\ud68c\", \"\\uae34\\uc7a5\\uac10\", \"\\uae40\\uae30\\ub355\", \"\\ub098\\ub77c\", \"\\ub098\\uc774\", \"\\ub0a8\\ub140\", \"\\ub0a8\\uc790\", \"\\ub0a8\\uc8fc\", \"\\ub0a8\\ud3b8\", \"\\ub0b4\\uba74\", \"\\ub0b4\\uc6a9\", \"\\ub0b4\\uc6a9\", \"\\ub0b4\\uc6a9\", \"\\ub0b4\\uc6a9\", \"\\ub124\\uc774\\ubc84\", \"\\ub178\\ub798\", \"\\ub178\\ub798\", \"\\ub178\\ub825\", \"\\ub178\\ub825\", \"\\ub208\\ubb3c\", \"\\ub208\\ubb3c\", \"\\ub290\\ub08c\", \"\\ub290\\ub08c\", \"\\ub290\\ub08c\", \"\\ub290\\ub08c\", \"\\ub290\\ub08c\", \"\\ub2e4\\ud050\", \"\\ub2e4\\ud589\", \"\\ub2e8\\uc21c\", \"\\ub2f9\\uc2dc\", \"\\ub300\\ubc15\", \"\\ub300\\uc0ac\", \"\\ub300\\uc0ac\", \"\\ub300\\uc0ac\", \"\\ub300\\uc0ac\", \"\\ub300\\uc0ac\", \"\\ub300\\uc0ac\", \"\\ub300\\uc791\", \"\\ub300\\ud55c\\ubbfc\\uad6d\", \"\\ub300\\ud654\", \"\\ub355\\ubd84\", \"\\ub3d9\\uc0dd\", \"\\ub3d9\\uc2dc\", \"\\ub3d9\\uc548\", \"\\ub3d9\\ud654\", \"\\ub4dc\\ub77c\\ub9c8\", \"\\ub514\\uce74\\ud504\\ub9ac\\uc624\", \"\\ub529\\ud06c\", \"\\ub7ec\\ub2dd\", \"\\ub808\\ub527\", \"\\ub85c\\ub9e8\\uc2a4\", \"\\ub9ac\\ubdf0\", \"\\ub9ac\\uc5bc\", \"\\ub9c8\\uc74c\", \"\\ub9c9\\uc7a5\", \"\\ub9cc\\uc810\", \"\\ub9cc\\uc871\", \"\\ub9e4\\ub825\", \"\\ub9e4\\ub825\", \"\\uba38\\ub9ac\", \"\\uba54\\uc138\\uc9c0\", \"\\uba54\\uc2dc\\uc9c0\", \"\\uba85\\uc5f0\\uae30\", \"\\uba85\\uc791\", \"\\ubaa8\\ub450\", \"\\ubaa8\\ub450\", \"\\ubaa8\\uc2b5\", \"\\ubaa8\\uc2b5\", \"\\ubaa8\\uc2b5\", \"\\ubaa8\\uc2b5\", \"\\ubaa9\\uc18c\\ub9ac\", \"\\ubab0\\uc785\", \"\\ubb18\\uc0ac\", \"\\ubb34\\ube44\", \"\\ubb38\\uc81c\", \"\\ubba4\\uc9c0\\uceec\", \"\\ubbf8\\ub798\", \"\\ubbf8\\uc18c\", \"\\ubbf8\\uc548\", \"\\ubbf8\\ud654\", \"\\ubc14\\ud0d5\", \"\\ubc15\\uc218\", \"\\ubc15\\ud574\\uc77c\", \"\\ubc18\\uc804\", \"\\ubc1c\\uacac\", \"\\ubc29\\uc2dd\", \"\\ubc30\\uacbd\", \"\\ubc30\\uacbd\", \"\\ubc30\\uc6b0\", \"\\ubcc0\\ud654\", \"\\ubcc4\\uc810\", \"\\ubcf5\\uc218\", \"\\ubcf8\\uc778\", \"\\ubd80\\ubaa8\", \"\\ubd80\\ubd84\", \"\\ubd80\\ubd84\", \"\\ubd80\\ubd84\", \"\\ubd80\\uc871\", \"\\ubd81\\ud55c\", \"\\ubd84\\uc704\\uae30\", \"\\ubd84\\uc704\\uae30\", \"\\ubd88\\ud3b8\", \"\\ube44\\uad50\", \"\\ube44\\uad50\", \"\\ube44\\uadf9\", \"\\uc0ac\\uac74\", \"\\uc0ac\\uadf9\", \"\\uc0ac\\ub78c\", \"\\uc0ac\\ub791\", \"\\uc0ac\\uc2e4\", \"\\uc0ac\\uc774\", \"\\uc0ac\\ud22c\\ub9ac\", \"\\uc0ac\\ud68c\", \"\\uc0ac\\ud68c\", \"\\uc0c1\\uc601\", \"\\uc0c1\\uc601\\uad00\", \"\\uc0c1\\ucc98\", \"\\uc0c1\\ud669\", \"\\uc0c1\\ud669\", \"\\uc0c1\\ud669\", \"\\uc0c1\\ud669\", \"\\uc0c8\\ub07c\", \"\\uc0dd\\ud65c\", \"\\uc11c\\ub85c\", \"\\uc120\\ubb3c\", \"\\uc120\\uc0dd\", \"\\uc120\\ud0dd\", \"\\uc124\\uba85\", \"\\uc124\\uc815\", \"\\uc131\\uacf5\", \"\\uc131\\uc7a5\", \"\\uc138\\uacc4\", \"\\uc138\\uc0c1\", \"\\uc138\\uc6d4\", \"\\uc18c\\ub140\", \"\\uc18c\\ub144\", \"\\uc18c\\ub984\", \"\\uc18c\\ub984\", \"\\uc18c\\ub984\", \"\\uc18c\\ub9ac\", \"\\uc18c\\uc124\", \"\\uc18c\\uc7a5\", \"\\uc18c\\uc7ac\", \"\\uc18c\\uc7ac\", \"\\uc18c\\uc7ac\", \"\\uc218\\uc791\", \"\\uc218\\uc900\", \"\\uc218\\uc900\", \"\\uc21c\\uac04\", \"\\uc21c\\uac04\", \"\\uc21c\\uac04\", \"\\uc21c\\uc218\", \"\\uc2a4\\ub9b4\", \"\\uc2a4\\ub9b4\\ub7ec\", \"\\uc2a4\\ud06c\\ub9b0\", \"\\uc2a4\\ud0c0\\uc77c\", \"\\uc2a4\\ud1a0\\ub9ac\", \"\\uc2a4\\ud3ec\\uce20\", \"\\uc2ac\\ud514\", \"\\uc2dc\\uac01\", \"\\uc2dc\\uac04\", \"\\uc2dc\\ub098\\ub9ac\\uc624\", \"\\uc2dc\\ub300\", \"\\uc2dc\\ub300\", \"\\uc2dc\\ub9ac\\uc988\", \"\\uc2dc\\uc0ac\\ud68c\", \"\\uc2dc\\uc791\", \"\\uc2dc\\uc791\", \"\\uc2dc\\uc808\", \"\\uc2e0\\ud30c\", \"\\uc2e4\\ub9dd\", \"\\uc2e4\\ub9dd\", \"\\uc2e4\\ud328\", \"\\uc2e4\\ud654\", \"\\uc2ec\\ub9ac\", \"\\uc2ec\\uc7a5\", \"\\uc4f0\\ub808\\uae30\", \"\\uc544\\ub0b4\", \"\\uc544\\ubc84\\uc9c0\", \"\\uc544\\ube60\", \"\\uc544\\uc26c\\uc6c0\", \"\\uc544\\uc5ed\", \"\\uc544\\uce74\\ub370\\ubbf8\", \"\\uc544\\ud514\", \"\\uc544\\ud514\", \"\\uc561\\uc158\", \"\\uc598\\uae30\", \"\\uc5b4\\ub978\", \"\\uc5b4\\uba38\\ub2c8\", \"\\uc5b5\\uc9c0\", \"\\uc5b5\\uc9c0\", \"\\uc5bc\\uad74\", \"\\uc5c4\\ub9c8\", \"\\uc5d4\\ub529\", \"\\uc5ec\\ubc30\\uc6b0\", \"\\uc5ec\\uc131\", \"\\uc5ec\\uc6b4\", \"\\uc5ec\\uc790\", \"\\uc5ec\\uc8fc\", \"\\uc5ed\\ub300\", \"\\uc5ed\\uc0ac\", \"\\uc5f0\\uae30\", \"\\uc5f0\\uae30\\ub825\", \"\\uc5f0\\uae30\\uc790\", \"\\uc5f0\\ucd9c\", \"\\uc5f4\\uc815\", \"\\uc601\\uc0c1\", \"\\uc601\\uc0c1\", \"\\uc601\\uc0c1\\ubbf8\", \"\\uc601\\uc6c5\", \"\\uc601\\ud63c\", \"\\uc601\\ud654\\uad00\", \"\\uc608\\uace0\\ud3b8\", \"\\uc608\\uc0c1\", \"\\uc608\\uc218\", \"\\uc608\\uc220\", \"\\uc608\\uc220\", \"\\uc61b\\ub0a0\", \"\\uc624\\ub79c\\ub9cc\", \"\\uc62c\\ud574\", \"\\uc644\\ubcbd\", \"\\uc644\\uc131\\ub3c4\", \"\\uc65c\\uace1\", \"\\uc694\\uc18c\", \"\\uc694\\uc998\", \"\\uc6a9\\uae30\", \"\\uc6b0\\uc6b8\", \"\\uc6b8\\ub9bc\", \"\\uc6c3\\uc74c\", \"\\uc6d0\\uc791\", \"\\uc704\\ub85c\", \"\\uc720\\uba38\", \"\\uc74c\\uc545\", \"\\uc751\\uc6d0\", \"\\uc758\\ub3c4\", \"\\uc758\\ubbf8\", \"\\uc758\\ubbf8\", \"\\uc758\\ubbf8\", \"\\uc758\\ubbf8\", \"\\uc758\\ubbf8\", \"\\uc758\\ubbf8\", \"\\uc758\\uc2ec\", \"\\uc774\\ub984\", \"\\uc774\\ubbf8\\uc9c0\", \"\\uc774\\ubc88\", \"\\uc774\\uc0c1\", \"\\uc774\\uc57c\\uae30\", \"\\uc774\\uc57c\\uae30\", \"\\uc774\\uc720\", \"\\uc774\\uc720\", \"\\uc774\\uc720\", \"\\uc774\\ud558\", \"\\uc774\\ud574\", \"\\uc774\\ud6c4\", \"\\uc774\\ud6c4\", \"\\uc778\\uac04\", \"\\uc778\\uac04\", \"\\uc778\\uad8c\", \"\\uc778\\ubb3c\", \"\\uc778\\ubb3c\", \"\\uc778\\uc0c1\", \"\\uc778\\uc0c1\", \"\\uc778\\uc815\", \"\\uc77c\\uc0c1\", \"\\uc785\\uac10\", \"\\uc785\\ub3c4\", \"\\uc785\\uc7a5\", \"\\uc790\\uadf9\", \"\\uc790\\uc2dd\", \"\\uc790\\uc2e0\", \"\\uc790\\uc2e0\", \"\\uc790\\uc5f0\", \"\\uc790\\uc5f0\", \"\\uc790\\uc720\", \"\\uc790\\uccb4\", \"\\uc790\\uccb4\", \"\\uc790\\uccb4\", \"\\uc791\\uac00\", \"\\uc794\\uc778\", \"\\uc7a5\\ub09c\", \"\\uc7a5\\ub974\", \"\\uc7a5\\ub974\", \"\\uc7a5\\uba74\", \"\\uc7a5\\uba74\", \"\\uc7a5\\uc560\", \"\\uc7ac\\uac1c\\ubd09\", \"\\uc7ac\\ub09c\", \"\\uc7ac\\ubbf8\", \"\\uc804\\uac1c\", \"\\uc804\\ub2ec\", \"\\uc804\\ubc18\", \"\\uc804\\uc7c1\", \"\\uc804\\uccb4\", \"\\uc804\\ud615\", \"\\uc810\\uc218\", \"\\uc815\\ubd80\", \"\\uc815\\uc2e0\", \"\\uc815\\uc758\", \"\\uc815\\uce58\", \"\\uc815\\uce58\", \"\\uc81c\\ubaa9\", \"\\uc870\\uc5f0\", \"\\uc870\\uc870\", \"\\uc874\\uacbd\", \"\\uc874\\uc7ac\", \"\\uc885\\uad50\", \"\\uc8fc\\ubcc0\", \"\\uc8fc\\uc5f0\", \"\\uc8fc\\uc778\\uacf5\", \"\\uc8fc\\uc778\\uacf5\", \"\\uc8fc\\uc778\\uacf5\", \"\\uc8fc\\uc778\\uacf5\", \"\\uc8fc\\uc778\\uacf5\", \"\\uc8fd\\uc74c\", \"\\uc8fd\\uc74c\", \"\\uc904\\uac70\\ub9ac\", \"\\uc911\\uac04\", \"\\uc911\\ubc18\", \"\\uc911\\ubc18\", \"\\uc911\\uc694\", \"\\uc9c4\\uc2e4\", \"\\uc9c4\\uc2ec\", \"\\uc9c4\\uc2ec\", \"\\uc9c4\\ud589\", \"\\uc9d1\\uc911\", \"\\uc9d1\\uc911\", \"\\uc9dc\\uc99d\", \"\\ucc28\\uc774\", \"\\ucc9c\\uc7ac\", \"\\uccad\\ucd98\", \"\\uccad\\ucd98\", \"\\ucd08\\ubc18\", \"\\ucd08\\ubc18\", \"\\ucd5c\\uadfc\", \"\\ucd5c\\ubbfc\\uc2dd\", \"\\ucd94\\uc5b5\", \"\\ucd94\\ucc9c\", \"\\ucd9c\\uc5f0\", \"\\ucda9\\uaca9\", \"\\ucde8\\ud5a5\", \"\\uce58\\uc720\", \"\\uce5c\\uad6c\", \"\\uce5c\\uad6c\", \"\\uce90\\ub9ad\\ud130\", \"\\uce90\\ub9ad\\ud130\", \"\\uce90\\ub9ad\\ud130\", \"\\uce90\\uc2a4\\ud305\", \"\\ucf54\\ubbf8\\ub514\", \"\\ucf54\\ubbf9\", \"\\ud0c0\\uc784\", \"\\ud14c\\ub7ec\", \"\\ud2b9\\ubcc4\", \"\\ud2b9\\uc720\", \"\\ud2f0\\ube44\", \"\\ud310\\ud0c0\\uc9c0\", \"\\ud3b8\\uacac\", \"\\ud3b8\\uc548\", \"\\ud3b8\\uc9d1\", \"\\ud3c9\\uac00\", \"\\ud3c9\\ub860\\uac00\", \"\\ud3ec\\uc2a4\\ud130\", \"\\ud3ec\\uc778\\ud2b8\", \"\\ud3ed\\ub825\", \"\\ud45c\\uc815\", \"\\ud45c\\ud604\", \"\\ud45c\\ud604\", \"\\ud53c\\ud574\\uc790\", \"\\ud544\\uc694\", \"\\ud558\\ub098\\ud558\\ub098\", \"\\ud558\\ub8e8\", \"\\ud558\\uc815\\uc6b0\", \"\\ud559\\uad50\", \"\\ud559\\uad50\", \"\\ud559\\uc0dd\", \"\\ud55c\\ub9c8\\ub514\", \"\\ud55c\\ud3b8\", \"\\ud55c\\ud3b8\", \"\\ud560\\uba38\\ub2c8\", \"\\ud560\\uc544\\ubc84\\uc9c0\", \"\\ud574\\uc11d\", \"\\ud574\\ud53c\", \"\\ud589\\ub3d9\", \"\\ud5c8\\ubb34\", \"\\ud604\\uc2e4\", \"\\ud604\\uc2e4\", \"\\ud604\\uc7ac\", \"\\ud63c\\uc790\", \"\\ud64d\\uc0c1\\uc218\", \"\\ud658\\uc0c1\", \"\\ud6c4\\ubc18\", \"\\ud6c4\\ubc18\\ubd80\", \"\\ud6c4\\ud68c\", \"\\ud765\\ubbf8\", \"\\ud765\\ubbf8\", \"\\ud765\\ud589\", \"\\ud76c\\ub9dd\", \"\\ud790\\ub9c1\"]}, \"R\": 30, \"lambda.step\": 0.01, \"plot.opts\": {\"xlab\": \"PC1\", \"ylab\": \"PC2\"}, \"topic.order\": [4, 2, 10, 3, 8, 1, 7, 9, 5, 6]};\n",
       "\n",
       "function LDAvis_load_lib(url, callback){\n",
       "  var s = document.createElement('script');\n",
       "  s.src = url;\n",
       "  s.async = true;\n",
       "  s.onreadystatechange = s.onload = callback;\n",
       "  s.onerror = function(){console.warn(\"failed to load library \" + url);};\n",
       "  document.getElementsByTagName(\"head\")[0].appendChild(s);\n",
       "}\n",
       "\n",
       "if(typeof(LDAvis) !== \"undefined\"){\n",
       "   // already loaded: just create the visualization\n",
       "   !function(LDAvis){\n",
       "       new LDAvis(\"#\" + \"ldavis_el601399748011971365738094500\", ldavis_el601399748011971365738094500_data);\n",
       "   }(LDAvis);\n",
       "}else if(typeof define === \"function\" && define.amd){\n",
       "   // require.js is available: use it to load d3/LDAvis\n",
       "   require.config({paths: {d3: \"https://d3js.org/d3.v5\"}});\n",
       "   require([\"d3\"], function(d3){\n",
       "      window.d3 = d3;\n",
       "      LDAvis_load_lib(\"https://cdn.jsdelivr.net/gh/bmabey/pyLDAvis@3.3.1/pyLDAvis/js/ldavis.v3.0.0.js\", function(){\n",
       "        new LDAvis(\"#\" + \"ldavis_el601399748011971365738094500\", ldavis_el601399748011971365738094500_data);\n",
       "      });\n",
       "    });\n",
       "}else{\n",
       "    // require.js not available: dynamically load d3 & LDAvis\n",
       "    LDAvis_load_lib(\"https://d3js.org/d3.v5.js\", function(){\n",
       "         LDAvis_load_lib(\"https://cdn.jsdelivr.net/gh/bmabey/pyLDAvis@3.3.1/pyLDAvis/js/ldavis.v3.0.0.js\", function(){\n",
       "                 new LDAvis(\"#\" + \"ldavis_el601399748011971365738094500\", ldavis_el601399748011971365738094500_data);\n",
       "            })\n",
       "         });\n",
       "}\n",
       "</script>"
      ],
      "text/plain": [
       "<IPython.core.display.HTML object>"
      ]
     },
     "execution_count": 27,
     "metadata": {},
     "output_type": "execute_result"
    }
   ],
   "source": [
    "pyLDAvis.display(vis_LDA1_total)"
   ]
  },
  {
   "cell_type": "code",
   "execution_count": null,
   "metadata": {
    "id": "c5ox-cLlSV2t"
   },
   "outputs": [],
   "source": [
    "temp = [5, 10, 15]\n",
    "for i in temp:\n",
    "    topics_LDA1_total, vis_LDA1_total = LDA1(df, dic_below, i, n_words, passes)\n",
    "    print(pyLDAvis.display(vis_LDA1_total))"
   ]
  },
  {
   "cell_type": "code",
   "execution_count": null,
   "metadata": {
    "colab": {
     "base_uri": "https://localhost:8080/"
    },
    "executionInfo": {
     "elapsed": 91164,
     "status": "ok",
     "timestamp": 1653978524412,
     "user": {
      "displayName": "박재현",
      "userId": "00992234259710462459"
     },
     "user_tz": -540
    },
    "id": "wKCrTthoRscZ",
    "outputId": "1241dd03-3220-431f-8827-a133a5002280"
   },
   "outputs": [
    {
     "name": "stderr",
     "output_type": "stream",
     "text": [
      "/usr/local/lib/python3.7/dist-packages/pyLDAvis/_prepare.py:247: FutureWarning: In a future version of pandas all arguments of DataFrame.drop except for the argument 'labels' will be keyword-only\n",
      "  by='saliency', ascending=False).head(R).drop('saliency', 1)\n"
     ]
    }
   ],
   "source": [
    "df = df_positive\n",
    "dic_below = int(len(df_positive)*0.0001)\n",
    "topics_LDA1_positive, vis_LDA1_positive = LDA1(df, dic_below, n_topics, n_words, passes)"
   ]
  },
  {
   "cell_type": "code",
   "execution_count": null,
   "metadata": {
    "colab": {
     "base_uri": "https://localhost:8080/"
    },
    "executionInfo": {
     "elapsed": 45701,
     "status": "ok",
     "timestamp": 1653978570103,
     "user": {
      "displayName": "박재현",
      "userId": "00992234259710462459"
     },
     "user_tz": -540
    },
    "id": "zYgZRCHQRscZ",
    "outputId": "7fc6ffc0-2fc8-4116-b7bc-4dd3fb4240f6"
   },
   "outputs": [
    {
     "name": "stderr",
     "output_type": "stream",
     "text": [
      "/usr/local/lib/python3.7/dist-packages/pyLDAvis/_prepare.py:247: FutureWarning: In a future version of pandas all arguments of DataFrame.drop except for the argument 'labels' will be keyword-only\n",
      "  by='saliency', ascending=False).head(R).drop('saliency', 1)\n"
     ]
    }
   ],
   "source": [
    "df = df_negative\n",
    "dic_below = int(len(df_negative)*0.0001)\n",
    "topics_LDA1_negative, vis_LDA1_negative = LDA1(df, dic_below, n_topics, n_words, passes)"
   ]
  },
  {
   "cell_type": "markdown",
   "metadata": {
    "id": "yiZDErxBmhC8"
   },
   "source": [
    "### **2) LDA1 gensim many**"
   ]
  },
  {
   "cell_type": "code",
   "execution_count": null,
   "metadata": {
    "collapsed": true,
    "id": "782Hn7yGR3Kf"
   },
   "outputs": [],
   "source": [
    "# n_topics = 8\n",
    "# n_words = 10\n",
    "# passes = 10\n",
    "# n_random = 10"
   ]
  },
  {
   "cell_type": "code",
   "execution_count": null,
   "metadata": {
    "colab": {
     "base_uri": "https://localhost:8080/"
    },
    "collapsed": true,
    "id": "-leaa7HGfIor",
    "outputId": "5c8e7c3f-8be4-49f2-93fb-219082d1dce4"
   },
   "outputs": [
    {
     "name": "stderr",
     "output_type": "stream",
     "text": [
      "/usr/local/lib/python3.7/dist-packages/pyLDAvis/_prepare.py:247: FutureWarning: In a future version of pandas all arguments of DataFrame.drop except for the argument 'labels' will be keyword-only\n",
      "  by='saliency', ascending=False).head(R).drop('saliency', 1)\n",
      "/usr/local/lib/python3.7/dist-packages/pyLDAvis/_prepare.py:247: FutureWarning: In a future version of pandas all arguments of DataFrame.drop except for the argument 'labels' will be keyword-only\n",
      "  by='saliency', ascending=False).head(R).drop('saliency', 1)\n",
      "/usr/local/lib/python3.7/dist-packages/pyLDAvis/_prepare.py:247: FutureWarning: In a future version of pandas all arguments of DataFrame.drop except for the argument 'labels' will be keyword-only\n",
      "  by='saliency', ascending=False).head(R).drop('saliency', 1)\n",
      "/usr/local/lib/python3.7/dist-packages/pyLDAvis/_prepare.py:247: FutureWarning: In a future version of pandas all arguments of DataFrame.drop except for the argument 'labels' will be keyword-only\n",
      "  by='saliency', ascending=False).head(R).drop('saliency', 1)\n",
      "/usr/local/lib/python3.7/dist-packages/pyLDAvis/_prepare.py:247: FutureWarning: In a future version of pandas all arguments of DataFrame.drop except for the argument 'labels' will be keyword-only\n",
      "  by='saliency', ascending=False).head(R).drop('saliency', 1)\n",
      "/usr/local/lib/python3.7/dist-packages/pyLDAvis/_prepare.py:247: FutureWarning: In a future version of pandas all arguments of DataFrame.drop except for the argument 'labels' will be keyword-only\n",
      "  by='saliency', ascending=False).head(R).drop('saliency', 1)\n",
      "/usr/local/lib/python3.7/dist-packages/pyLDAvis/_prepare.py:247: FutureWarning: In a future version of pandas all arguments of DataFrame.drop except for the argument 'labels' will be keyword-only\n",
      "  by='saliency', ascending=False).head(R).drop('saliency', 1)\n",
      "/usr/local/lib/python3.7/dist-packages/pyLDAvis/_prepare.py:247: FutureWarning: In a future version of pandas all arguments of DataFrame.drop except for the argument 'labels' will be keyword-only\n",
      "  by='saliency', ascending=False).head(R).drop('saliency', 1)\n",
      "/usr/local/lib/python3.7/dist-packages/pyLDAvis/_prepare.py:247: FutureWarning: In a future version of pandas all arguments of DataFrame.drop except for the argument 'labels' will be keyword-only\n",
      "  by='saliency', ascending=False).head(R).drop('saliency', 1)\n",
      "/usr/local/lib/python3.7/dist-packages/pyLDAvis/_prepare.py:247: FutureWarning: In a future version of pandas all arguments of DataFrame.drop except for the argument 'labels' will be keyword-only\n",
      "  by='saliency', ascending=False).head(R).drop('saliency', 1)\n"
     ]
    }
   ],
   "source": [
    "# sentiment = 100\n",
    "# dic_below = int(len(df_total)*0.0001)\n",
    "# df = df_total\n",
    "# topics_LDA1_total_many = LDA1_many(sentiment, df, dic_below,\n",
    "#                                      n_topics, n_words, passes, n_random)"
   ]
  },
  {
   "cell_type": "code",
   "execution_count": null,
   "metadata": {
    "colab": {
     "base_uri": "https://localhost:8080/"
    },
    "collapsed": true,
    "id": "jjw-psEZR5RN",
    "outputId": "c0d28ac0-8890-4fa9-f555-5cfa45cb26f3"
   },
   "outputs": [
    {
     "name": "stderr",
     "output_type": "stream",
     "text": [
      "/usr/local/lib/python3.7/dist-packages/pyLDAvis/_prepare.py:247: FutureWarning: In a future version of pandas all arguments of DataFrame.drop except for the argument 'labels' will be keyword-only\n",
      "  by='saliency', ascending=False).head(R).drop('saliency', 1)\n",
      "/usr/local/lib/python3.7/dist-packages/pyLDAvis/_prepare.py:247: FutureWarning: In a future version of pandas all arguments of DataFrame.drop except for the argument 'labels' will be keyword-only\n",
      "  by='saliency', ascending=False).head(R).drop('saliency', 1)\n",
      "/usr/local/lib/python3.7/dist-packages/pyLDAvis/_prepare.py:247: FutureWarning: In a future version of pandas all arguments of DataFrame.drop except for the argument 'labels' will be keyword-only\n",
      "  by='saliency', ascending=False).head(R).drop('saliency', 1)\n",
      "/usr/local/lib/python3.7/dist-packages/pyLDAvis/_prepare.py:247: FutureWarning: In a future version of pandas all arguments of DataFrame.drop except for the argument 'labels' will be keyword-only\n",
      "  by='saliency', ascending=False).head(R).drop('saliency', 1)\n",
      "/usr/local/lib/python3.7/dist-packages/pyLDAvis/_prepare.py:247: FutureWarning: In a future version of pandas all arguments of DataFrame.drop except for the argument 'labels' will be keyword-only\n",
      "  by='saliency', ascending=False).head(R).drop('saliency', 1)\n",
      "/usr/local/lib/python3.7/dist-packages/pyLDAvis/_prepare.py:247: FutureWarning: In a future version of pandas all arguments of DataFrame.drop except for the argument 'labels' will be keyword-only\n",
      "  by='saliency', ascending=False).head(R).drop('saliency', 1)\n",
      "/usr/local/lib/python3.7/dist-packages/pyLDAvis/_prepare.py:247: FutureWarning: In a future version of pandas all arguments of DataFrame.drop except for the argument 'labels' will be keyword-only\n",
      "  by='saliency', ascending=False).head(R).drop('saliency', 1)\n",
      "/usr/local/lib/python3.7/dist-packages/pyLDAvis/_prepare.py:247: FutureWarning: In a future version of pandas all arguments of DataFrame.drop except for the argument 'labels' will be keyword-only\n",
      "  by='saliency', ascending=False).head(R).drop('saliency', 1)\n",
      "/usr/local/lib/python3.7/dist-packages/pyLDAvis/_prepare.py:247: FutureWarning: In a future version of pandas all arguments of DataFrame.drop except for the argument 'labels' will be keyword-only\n",
      "  by='saliency', ascending=False).head(R).drop('saliency', 1)\n",
      "/usr/local/lib/python3.7/dist-packages/pyLDAvis/_prepare.py:247: FutureWarning: In a future version of pandas all arguments of DataFrame.drop except for the argument 'labels' will be keyword-only\n",
      "  by='saliency', ascending=False).head(R).drop('saliency', 1)\n"
     ]
    }
   ],
   "source": [
    "# sentiment = 1\n",
    "# df = df_positive\n",
    "# dic_below = int(len(df_positive)*0.0001)\n",
    "# topics_LDA1_positive_many = LDA1_many(sentiment, df, dic_below,\n",
    "#                                      n_topics, n_words, passes, n_random)  "
   ]
  },
  {
   "cell_type": "code",
   "execution_count": null,
   "metadata": {
    "colab": {
     "base_uri": "https://localhost:8080/"
    },
    "collapsed": true,
    "id": "KoneBzqHR7lQ",
    "outputId": "a17a2b83-84b2-4daf-d86d-028f62055567"
   },
   "outputs": [
    {
     "name": "stderr",
     "output_type": "stream",
     "text": [
      "/usr/local/lib/python3.7/dist-packages/pyLDAvis/_prepare.py:247: FutureWarning: In a future version of pandas all arguments of DataFrame.drop except for the argument 'labels' will be keyword-only\n",
      "  by='saliency', ascending=False).head(R).drop('saliency', 1)\n",
      "/usr/local/lib/python3.7/dist-packages/pyLDAvis/_prepare.py:247: FutureWarning: In a future version of pandas all arguments of DataFrame.drop except for the argument 'labels' will be keyword-only\n",
      "  by='saliency', ascending=False).head(R).drop('saliency', 1)\n",
      "/usr/local/lib/python3.7/dist-packages/pyLDAvis/_prepare.py:247: FutureWarning: In a future version of pandas all arguments of DataFrame.drop except for the argument 'labels' will be keyword-only\n",
      "  by='saliency', ascending=False).head(R).drop('saliency', 1)\n",
      "/usr/local/lib/python3.7/dist-packages/pyLDAvis/_prepare.py:247: FutureWarning: In a future version of pandas all arguments of DataFrame.drop except for the argument 'labels' will be keyword-only\n",
      "  by='saliency', ascending=False).head(R).drop('saliency', 1)\n",
      "/usr/local/lib/python3.7/dist-packages/pyLDAvis/_prepare.py:247: FutureWarning: In a future version of pandas all arguments of DataFrame.drop except for the argument 'labels' will be keyword-only\n",
      "  by='saliency', ascending=False).head(R).drop('saliency', 1)\n",
      "/usr/local/lib/python3.7/dist-packages/pyLDAvis/_prepare.py:247: FutureWarning: In a future version of pandas all arguments of DataFrame.drop except for the argument 'labels' will be keyword-only\n",
      "  by='saliency', ascending=False).head(R).drop('saliency', 1)\n",
      "/usr/local/lib/python3.7/dist-packages/pyLDAvis/_prepare.py:247: FutureWarning: In a future version of pandas all arguments of DataFrame.drop except for the argument 'labels' will be keyword-only\n",
      "  by='saliency', ascending=False).head(R).drop('saliency', 1)\n",
      "/usr/local/lib/python3.7/dist-packages/pyLDAvis/_prepare.py:247: FutureWarning: In a future version of pandas all arguments of DataFrame.drop except for the argument 'labels' will be keyword-only\n",
      "  by='saliency', ascending=False).head(R).drop('saliency', 1)\n",
      "/usr/local/lib/python3.7/dist-packages/pyLDAvis/_prepare.py:247: FutureWarning: In a future version of pandas all arguments of DataFrame.drop except for the argument 'labels' will be keyword-only\n",
      "  by='saliency', ascending=False).head(R).drop('saliency', 1)\n",
      "/usr/local/lib/python3.7/dist-packages/pyLDAvis/_prepare.py:247: FutureWarning: In a future version of pandas all arguments of DataFrame.drop except for the argument 'labels' will be keyword-only\n",
      "  by='saliency', ascending=False).head(R).drop('saliency', 1)\n"
     ]
    }
   ],
   "source": [
    "# sentiment = 0\n",
    "# df = df_negative\n",
    "# dic_below = int(len(df_negative)*0.0001)\n",
    "# topics_LDA1_negative_many = LDA1_many(sentiment, df, dic_below,\n",
    "#                                      n_topics, n_words, passes, n_random)  "
   ]
  },
  {
   "cell_type": "markdown",
   "metadata": {
    "id": "NTfqvkLzRscZ"
   },
   "source": [
    "### **3) LDA2 sklearn**"
   ]
  },
  {
   "cell_type": "code",
   "execution_count": null,
   "metadata": {
    "id": "ZHn9T9uRm6iX"
   },
   "outputs": [],
   "source": [
    "# 단어 수, 토픽 수, 토픽 내 단어 수\n",
    "max_feature = n_topics * 100\n",
    "n_topics = 10\n",
    "n_words = 10"
   ]
  },
  {
   "cell_type": "code",
   "execution_count": null,
   "metadata": {
    "colab": {
     "base_uri": "https://localhost:8080/"
    },
    "executionInfo": {
     "elapsed": 100893,
     "status": "ok",
     "timestamp": 1653978670987,
     "user": {
      "displayName": "박재현",
      "userId": "00992234259710462459"
     },
     "user_tz": -540
    },
    "id": "0X8XBJEpRscZ",
    "outputId": "88ec5fbe-30e9-421d-fc73-9980f1c2455f"
   },
   "outputs": [
    {
     "name": "stderr",
     "output_type": "stream",
     "text": [
      "/usr/local/lib/python3.7/dist-packages/sklearn/utils/deprecation.py:87: FutureWarning: Function get_feature_names is deprecated; get_feature_names is deprecated in 1.0 and will be removed in 1.2. Please use get_feature_names_out instead.\n",
      "  warnings.warn(msg, category=FutureWarning)\n"
     ]
    }
   ],
   "source": [
    "df = df_total\n",
    "topics_LDA2_total = LDA2(df, max_feature, n_topics, n_words)"
   ]
  },
  {
   "cell_type": "code",
   "execution_count": null,
   "metadata": {
    "colab": {
     "base_uri": "https://localhost:8080/"
    },
    "executionInfo": {
     "elapsed": 99471,
     "status": "ok",
     "timestamp": 1653978770456,
     "user": {
      "displayName": "박재현",
      "userId": "00992234259710462459"
     },
     "user_tz": -540
    },
    "id": "5QmN7I77RscZ",
    "outputId": "d2d8add7-3157-4a27-acd8-26ef95e376f2"
   },
   "outputs": [
    {
     "name": "stderr",
     "output_type": "stream",
     "text": [
      "/usr/local/lib/python3.7/dist-packages/sklearn/utils/deprecation.py:87: FutureWarning: Function get_feature_names is deprecated; get_feature_names is deprecated in 1.0 and will be removed in 1.2. Please use get_feature_names_out instead.\n",
      "  warnings.warn(msg, category=FutureWarning)\n"
     ]
    }
   ],
   "source": [
    "df = df_positive\n",
    "topics_LDA2_positive = LDA2(df, max_feature, n_topics, n_words)"
   ]
  },
  {
   "cell_type": "code",
   "execution_count": null,
   "metadata": {
    "colab": {
     "base_uri": "https://localhost:8080/"
    },
    "executionInfo": {
     "elapsed": 50714,
     "status": "ok",
     "timestamp": 1653978821161,
     "user": {
      "displayName": "박재현",
      "userId": "00992234259710462459"
     },
     "user_tz": -540
    },
    "id": "Xn1OSi2aRsca",
    "outputId": "64784f60-fe25-463a-cbff-4fafa586e51f"
   },
   "outputs": [
    {
     "name": "stderr",
     "output_type": "stream",
     "text": [
      "/usr/local/lib/python3.7/dist-packages/sklearn/utils/deprecation.py:87: FutureWarning: Function get_feature_names is deprecated; get_feature_names is deprecated in 1.0 and will be removed in 1.2. Please use get_feature_names_out instead.\n",
      "  warnings.warn(msg, category=FutureWarning)\n"
     ]
    }
   ],
   "source": [
    "df = df_negative\n",
    "topics_LDA2_negative = LDA2(df, max_feature, n_topics, n_words)"
   ]
  },
  {
   "cell_type": "markdown",
   "metadata": {
    "id": "TuoNmu9glusH"
   },
   "source": [
    "### **4) LDA tomotopy many**\n"
   ]
  },
  {
   "cell_type": "code",
   "execution_count": null,
   "metadata": {
    "id": "ocuRAWvznC8M"
   },
   "outputs": [],
   "source": [
    "# 토픽 수, 훈련 횟수, 모델 갯수, 토픽 내 단어 수 \n",
    "n_topics = 10\n",
    "n_trains = 400\n",
    "n_model = 10\n",
    "top_n = 10"
   ]
  },
  {
   "cell_type": "code",
   "execution_count": null,
   "metadata": {
    "id": "XetyaU77lt6U"
   },
   "outputs": [],
   "source": [
    "df = df_total\n",
    "topics_LDA_tp_total_many = LDA_tp(df, n_topics, n_trains, n_model, top_n)"
   ]
  },
  {
   "cell_type": "code",
   "execution_count": null,
   "metadata": {
    "id": "QKovfIiBlt_m"
   },
   "outputs": [],
   "source": [
    "df = df_positive\n",
    "topics_LDA_tp_positive_many = LDA_tp(df, n_topics, n_trains, n_model, top_n)"
   ]
  },
  {
   "cell_type": "code",
   "execution_count": null,
   "metadata": {
    "id": "xpLD7f-SluFQ"
   },
   "outputs": [],
   "source": [
    "df = df_negative\n",
    "topics_LDA_tp_negative_many = LDA_tp(df, n_topics, n_trains, n_model, top_n)"
   ]
  },
  {
   "cell_type": "markdown",
   "metadata": {
    "id": "VEYIgvCiRsca"
   },
   "source": [
    "## **4.3 KeyBERT**"
   ]
  },
  {
   "cell_type": "code",
   "execution_count": null,
   "metadata": {
    "id": "y1WJm2M6Rscb"
   },
   "outputs": [],
   "source": [
    "# 문장과 코사인 유사도 가까운 단어 갯수\n",
    "top_n = 3"
   ]
  },
  {
   "cell_type": "code",
   "execution_count": null,
   "metadata": {
    "colab": {
     "base_uri": "https://localhost:8080/",
     "height": 106,
     "referenced_widgets": [
      "8a4fe63c8bc54618b19595dba9c2a8a3",
      "80620b6343874c789fcf7c294621c9ab",
      "41e869aefd0a4ab8b2ee652a8b61dc84",
      "2fe6ff3f07bc49bd8d51020b920bc41a",
      "4e29ecbc3754468c851363ba551a75e6",
      "5127592bdff1474da9d89e194ce2518d",
      "42b8ef485c3241d484d4648e5bd097db",
      "95e2b291823f4d1b9d9435a4f5e23bb4",
      "fa0cf84a13384b6cadd757249f8e8408",
      "0e60c6f1246d47d699ec6da887430ee3",
      "c917fbf60a63463a99aaa0a5fc9b540a"
     ]
    },
    "executionInfo": {
     "elapsed": 70411,
     "status": "ok",
     "timestamp": 1653986350280,
     "user": {
      "displayName": "박재현",
      "userId": "00992234259710462459"
     },
     "user_tz": -540
    },
    "id": "Pm_WwuB2Rscb",
    "outputId": "97358d4f-1005-44a8-e044-174431f98092"
   },
   "outputs": [
    {
     "name": "stderr",
     "output_type": "stream",
     "text": [
      "/usr/local/lib/python3.7/dist-packages/sklearn/utils/deprecation.py:87: FutureWarning: Function get_feature_names is deprecated; get_feature_names is deprecated in 1.0 and will be removed in 1.2. Please use get_feature_names_out instead.\n",
      "  warnings.warn(msg, category=FutureWarning)\n"
     ]
    },
    {
     "data": {
      "application/vnd.jupyter.widget-view+json": {
       "model_id": "8a4fe63c8bc54618b19595dba9c2a8a3",
       "version_major": 2,
       "version_minor": 0
      },
      "text/plain": [
       "  0%|          | 0/72074 [00:00<?, ?it/s]"
      ]
     },
     "metadata": {},
     "output_type": "display_data"
    }
   ],
   "source": [
    "df = df_total\n",
    "keybert_total = keybert(df, top_n)"
   ]
  },
  {
   "cell_type": "code",
   "execution_count": null,
   "metadata": {
    "colab": {
     "base_uri": "https://localhost:8080/",
     "height": 106,
     "referenced_widgets": [
      "ed8c6cf3cf5941fabca10fb8c6e3c9bf",
      "a9f1e8dde6ed420e814404f32b550d9b",
      "43362f65d7f3409ab7a1b3485bcb0c4f",
      "2b93c96d79c547d0a8655e53ed57fffc",
      "b28493691df240448c40c1b4d77983b1",
      "fbe328e6e7f548858ff6d23968ae89b8",
      "2835f6df2625498694b04aeba1d36fcd",
      "2571c4e85cf24aafab6c479424429f92",
      "c4bfa186b05d4bb88d94ee84b13bdbed",
      "c3a0e34b236b4072affe79f0d2148730",
      "c293aed34c974d8a8d384240cd5a84ad"
     ]
    },
    "executionInfo": {
     "elapsed": 50036,
     "status": "ok",
     "timestamp": 1653986400306,
     "user": {
      "displayName": "박재현",
      "userId": "00992234259710462459"
     },
     "user_tz": -540
    },
    "id": "k9jebMFYRscb",
    "outputId": "14ce7068-af0b-427d-f31d-e3fb652945cc"
   },
   "outputs": [
    {
     "name": "stderr",
     "output_type": "stream",
     "text": [
      "/usr/local/lib/python3.7/dist-packages/sklearn/utils/deprecation.py:87: FutureWarning: Function get_feature_names is deprecated; get_feature_names is deprecated in 1.0 and will be removed in 1.2. Please use get_feature_names_out instead.\n",
      "  warnings.warn(msg, category=FutureWarning)\n"
     ]
    },
    {
     "data": {
      "application/vnd.jupyter.widget-view+json": {
       "model_id": "ed8c6cf3cf5941fabca10fb8c6e3c9bf",
       "version_major": 2,
       "version_minor": 0
      },
      "text/plain": [
       "  0%|          | 0/52256 [00:00<?, ?it/s]"
      ]
     },
     "metadata": {},
     "output_type": "display_data"
    }
   ],
   "source": [
    "df = df_positive\n",
    "keybert_positive = keybert(df, top_n)"
   ]
  },
  {
   "cell_type": "code",
   "execution_count": null,
   "metadata": {
    "colab": {
     "base_uri": "https://localhost:8080/",
     "height": 106,
     "referenced_widgets": [
      "3f7c08c7f45d48e9a5398e2535cfd264",
      "12bdad0d6cf2473ba4623b03ee133874",
      "ec723fae3d874c07ae4be386759fe459",
      "2e87c25a07ba406cb6b6c7dca0397e61",
      "437a8b4746b94977931a0a127a4bbf14",
      "fbaca8a47b234903a0f0a33a544b2082",
      "2c33228ca14746d69303faaf2ff0b06e",
      "5458394854f44c61a067475cdce0b3d1",
      "2f150c3d7b8c48d68439f293c8275c06",
      "fa07917dd64746fbad8d002bba0c4b2c",
      "808552cac8bb455889ce1f12521c6558"
     ]
    },
    "executionInfo": {
     "elapsed": 19595,
     "status": "ok",
     "timestamp": 1653986419891,
     "user": {
      "displayName": "박재현",
      "userId": "00992234259710462459"
     },
     "user_tz": -540
    },
    "id": "GaXERUIMRscb",
    "outputId": "b7477d7e-2b07-4644-f4e0-37b6fcb11e72"
   },
   "outputs": [
    {
     "name": "stderr",
     "output_type": "stream",
     "text": [
      "/usr/local/lib/python3.7/dist-packages/sklearn/utils/deprecation.py:87: FutureWarning: Function get_feature_names is deprecated; get_feature_names is deprecated in 1.0 and will be removed in 1.2. Please use get_feature_names_out instead.\n",
      "  warnings.warn(msg, category=FutureWarning)\n"
     ]
    },
    {
     "data": {
      "application/vnd.jupyter.widget-view+json": {
       "model_id": "3f7c08c7f45d48e9a5398e2535cfd264",
       "version_major": 2,
       "version_minor": 0
      },
      "text/plain": [
       "  0%|          | 0/8699 [00:00<?, ?it/s]"
      ]
     },
     "metadata": {},
     "output_type": "display_data"
    }
   ],
   "source": [
    "df = df_negative\n",
    "keybert_negative = keybert(df, top_n)"
   ]
  },
  {
   "cell_type": "markdown",
   "metadata": {
    "id": "mMb-lqL7Rscb"
   },
   "source": [
    "## **4.4 CTM (Combined Topic Model)**"
   ]
  },
  {
   "cell_type": "code",
   "execution_count": null,
   "metadata": {
    "id": "DGNWrbLiRscc"
   },
   "outputs": [],
   "source": [
    "# 오류 메시지 제거\n",
    "os.environ[\"TOKENIZERS_PARALLELISM\"] = \"false\""
   ]
  },
  {
   "cell_type": "code",
   "execution_count": null,
   "metadata": {
    "id": "NuhMMjufRscc"
   },
   "outputs": [],
   "source": [
    "n_topics = 30\n",
    "max_feature = n_topics * 50\n",
    "num_epochs = 20"
   ]
  },
  {
   "cell_type": "code",
   "execution_count": null,
   "metadata": {
    "colab": {
     "base_uri": "https://localhost:8080/",
     "height": 179,
     "referenced_widgets": [
      "9184db9ed6ec4986a3b60674c9867733",
      "9a321b52b3dd4173ae8d4a1334e8242d",
      "2f96288e41834407aff3e6b355f432b7",
      "f04100112ce843f1a29892ff2709c4b1",
      "ff0cc35fa2904ff6bbb5b3395f0ec27f",
      "9c159388d30e48df8078d8abd86eb84a",
      "12752fd7812f46bfa701bf19339d3a1c",
      "bf7e9263e3444571b209b0b3df327f8d",
      "169cdb504f754158aa002b029999b787",
      "91209228dd544429b1d437ef9cf1d4d3",
      "81289997aad14b46b52d2d9ac0daa461"
     ]
    },
    "executionInfo": {
     "elapsed": 241229,
     "status": "ok",
     "timestamp": 1653986661117,
     "user": {
      "displayName": "박재현",
      "userId": "00992234259710462459"
     },
     "user_tz": -540
    },
    "id": "EFaIcj4cRscc",
    "outputId": "0ff1eeb3-4474-4d13-e864-8d8de291e45a"
   },
   "outputs": [
    {
     "name": "stderr",
     "output_type": "stream",
     "text": [
      "/usr/local/lib/python3.7/dist-packages/sklearn/utils/deprecation.py:87: FutureWarning: Function get_feature_names is deprecated; get_feature_names is deprecated in 1.0 and will be removed in 1.2. Please use get_feature_names_out instead.\n",
      "  warnings.warn(msg, category=FutureWarning)\n"
     ]
    },
    {
     "data": {
      "application/vnd.jupyter.widget-view+json": {
       "model_id": "9184db9ed6ec4986a3b60674c9867733",
       "version_major": 2,
       "version_minor": 0
      },
      "text/plain": [
       "Batches:   0%|          | 0/121 [00:00<?, ?it/s]"
      ]
     },
     "metadata": {},
     "output_type": "display_data"
    },
    {
     "name": "stderr",
     "output_type": "stream",
     "text": [
      "Epoch: [20/20]\t Seen Samples: [480500/480500]\tTrain Loss: 34.20444674838222\tTime: 0:00:07.003962: : 20it [02:27,  7.35s/it]\n",
      "Sampling: [10/10]: : 10it [01:00,  6.05s/it]\n",
      "/usr/local/lib/python3.7/dist-packages/pyLDAvis/_prepare.py:247: FutureWarning: In a future version of pandas all arguments of DataFrame.drop except for the argument 'labels' will be keyword-only\n",
      "  by='saliency', ascending=False).head(R).drop('saliency', 1)\n"
     ]
    }
   ],
   "source": [
    "df = df_total\n",
    "CTM_total, vis_CTM_total = keywordCTM(df, max_feature, n_topics, num_epochs)\n",
    "ctm_pd_total = pyLDAvis.prepare(**vis_CTM_total)"
   ]
  },
  {
   "cell_type": "code",
   "execution_count": null,
   "metadata": {
    "colab": {
     "base_uri": "https://localhost:8080/",
     "height": 179,
     "referenced_widgets": [
      "6294fcc441614d8cbbd037b0c502ada4",
      "0fa1aa8c0e2447eeb7d145485372bab2",
      "06085e5ffba941959eb42ca4a7f13678",
      "1132dfd369b84570ac61450d182f792a",
      "77fca5f1b86b4f50891460ab95bb5cac",
      "34fcc18b7e0944418847b327b4f2a1dd",
      "7e7c9923e2cf4b728252aa61c3efd521",
      "50880997f5eb4e8db52cf525a89dea69",
      "01d7000e1c314b55bfffd8f2ef3fb3b8",
      "472319c767c740b0bf07864aad640b64",
      "271d09b3368a4194910680e1a70de724"
     ]
    },
    "executionInfo": {
     "elapsed": 176036,
     "status": "ok",
     "timestamp": 1653986837144,
     "user": {
      "displayName": "박재현",
      "userId": "00992234259710462459"
     },
     "user_tz": -540
    },
    "id": "fKnApP0LRscc",
    "outputId": "551ca84d-0f2a-484d-dd6c-77274a8a70d8"
   },
   "outputs": [
    {
     "name": "stderr",
     "output_type": "stream",
     "text": [
      "/usr/local/lib/python3.7/dist-packages/sklearn/utils/deprecation.py:87: FutureWarning: Function get_feature_names is deprecated; get_feature_names is deprecated in 1.0 and will be removed in 1.2. Please use get_feature_names_out instead.\n",
      "  warnings.warn(msg, category=FutureWarning)\n"
     ]
    },
    {
     "data": {
      "application/vnd.jupyter.widget-view+json": {
       "model_id": "6294fcc441614d8cbbd037b0c502ada4",
       "version_major": 2,
       "version_minor": 0
      },
      "text/plain": [
       "Batches:   0%|          | 0/88 [00:00<?, ?it/s]"
      ]
     },
     "metadata": {},
     "output_type": "display_data"
    },
    {
     "name": "stderr",
     "output_type": "stream",
     "text": [
      "Epoch: [20/20]\t Seen Samples: [348380/348380]\tTrain Loss: 35.130801018606995\tTime: 0:00:05.123712: : 20it [01:43,  5.18s/it]\n",
      "Sampling: [10/10]: : 10it [00:45,  4.54s/it]\n",
      "/usr/local/lib/python3.7/dist-packages/pyLDAvis/_prepare.py:247: FutureWarning: In a future version of pandas all arguments of DataFrame.drop except for the argument 'labels' will be keyword-only\n",
      "  by='saliency', ascending=False).head(R).drop('saliency', 1)\n"
     ]
    }
   ],
   "source": [
    "df = df_positive\n",
    "CTM_positive, vis_CTM_positive = keywordCTM(df, max_feature, n_topics, num_epochs)\n",
    "ctm_pd_positive = pyLDAvis.prepare(**vis_CTM_positive)"
   ]
  },
  {
   "cell_type": "code",
   "execution_count": null,
   "metadata": {
    "colab": {
     "base_uri": "https://localhost:8080/",
     "height": 179,
     "referenced_widgets": [
      "c1c6303ded154613ac4cd3ea8ec71ebc",
      "69eb67e65fdd423ba84f44997176eff7",
      "c7e29ebd27834bbd9e3e351e6a055d34",
      "477b0231acc24ac78ae032fe458193b8",
      "cb37ce29a2a64e89b93fb8650e2822a4",
      "865c3f412bb04b4db4914913c0011479",
      "dd9935cd73c54b30aa955a1ab6723bf7",
      "c57da341e2ce4bc58d58df6d3bea5a4f",
      "a2034b4a9cad482b8e5e4ae917401b64",
      "b66dbc0fd5c54d7d8f0509f3e0905cfd",
      "b1523aed5a9945a8bc002719cd65d8a1"
     ]
    },
    "executionInfo": {
     "elapsed": 53971,
     "status": "ok",
     "timestamp": 1653986891106,
     "user": {
      "displayName": "박재현",
      "userId": "00992234259710462459"
     },
     "user_tz": -540
    },
    "id": "oN_XaD0URscd",
    "outputId": "4d241307-783e-4701-8340-3269752e24b2"
   },
   "outputs": [
    {
     "name": "stderr",
     "output_type": "stream",
     "text": [
      "/usr/local/lib/python3.7/dist-packages/sklearn/utils/deprecation.py:87: FutureWarning: Function get_feature_names is deprecated; get_feature_names is deprecated in 1.0 and will be removed in 1.2. Please use get_feature_names_out instead.\n",
      "  warnings.warn(msg, category=FutureWarning)\n"
     ]
    },
    {
     "data": {
      "application/vnd.jupyter.widget-view+json": {
       "model_id": "c1c6303ded154613ac4cd3ea8ec71ebc",
       "version_major": 2,
       "version_minor": 0
      },
      "text/plain": [
       "Batches:   0%|          | 0/15 [00:00<?, ?it/s]"
      ]
     },
     "metadata": {},
     "output_type": "display_data"
    },
    {
     "name": "stderr",
     "output_type": "stream",
     "text": [
      "Epoch: [20/20]\t Seen Samples: [58000/58000]\tTrain Loss: 35.74636175747575\tTime: 0:00:01.219323: : 20it [00:24,  1.22s/it]\n",
      "Sampling: [10/10]: : 10it [00:10,  1.08s/it]\n",
      "/usr/local/lib/python3.7/dist-packages/pyLDAvis/_prepare.py:247: FutureWarning: In a future version of pandas all arguments of DataFrame.drop except for the argument 'labels' will be keyword-only\n",
      "  by='saliency', ascending=False).head(R).drop('saliency', 1)\n"
     ]
    }
   ],
   "source": [
    "df = df_negative\n",
    "CTM_negative, vis_CTM_negative = keywordCTM(df, max_feature, n_topics, num_epochs)\n",
    "ctm_pd_negative = pyLDAvis.prepare(**vis_CTM_negative)"
   ]
  },
  {
   "cell_type": "markdown",
   "metadata": {
    "id": "zHAx67jZRscd"
   },
   "source": [
    "---\n",
    "# **5. Data save**\n",
    "---"
   ]
  },
  {
   "cell_type": "code",
   "execution_count": null,
   "metadata": {
    "id": "jJX9u7UUMOOy"
   },
   "outputs": [],
   "source": [
    "file_path = f'/content/drive/MyDrive/final-project/processed_data/result/{genre}/'"
   ]
  },
  {
   "cell_type": "code",
   "execution_count": null,
   "metadata": {
    "id": "mDsoB3_IRscd"
   },
   "outputs": [],
   "source": [
    "# Coherence & Perplexity\n",
    "file_name = f'{genre}_coherence_perplexity.pkl'\n",
    "with open (file_path + file_name, 'wb') as f:\n",
    "    pickle.dump((coherence_total, perplexity_total),f)"
   ]
  },
  {
   "cell_type": "code",
   "execution_count": null,
   "metadata": {
    "id": "R3noBlVMRsce"
   },
   "outputs": [],
   "source": [
    "# LSA\n",
    "file_name = f'{genre}_LSA.pkl'\n",
    "with open (file_path+file_name, 'wb') as f:\n",
    "    pickle.dump((topics_LSA_total, topics_LSA_positive, topics_LSA_negative), f)"
   ]
  },
  {
   "cell_type": "code",
   "execution_count": null,
   "metadata": {
    "id": "sr8xTuEwRscd"
   },
   "outputs": [],
   "source": [
    "# LDA1\n",
    "file_name = f'{genre}_LDA1.pkl'\n",
    "with open (file_path + file_name, 'wb') as f:\n",
    "    pickle.dump((topics_LDA1_total, vis_LDA1_total,\n",
    "                 topics_LDA1_positive, vis_LDA1_positive,\n",
    "                 topics_LDA1_negative, vis_LDA1_negative), f)    "
   ]
  },
  {
   "cell_type": "code",
   "execution_count": null,
   "metadata": {
    "id": "hcMqE_hvRsce"
   },
   "outputs": [],
   "source": [
    "# LDA2\n",
    "file_name = f'{genre}_LDA2.pkl'\n",
    "with open (file_path+file_name, 'wb') as f:\n",
    "    pickle.dump((topics_LDA2_total, topics_LDA2_positive, topics_LDA2_negative), f)"
   ]
  },
  {
   "cell_type": "code",
   "execution_count": null,
   "metadata": {
    "id": "7R3zYyzDZcCx"
   },
   "outputs": [],
   "source": [
    "# LDA_tp\n",
    "file_name = f'{genre}_LDA_tp_many_{n_model}.pkl'\n",
    "with open (file_path + file_name, 'wb') as f:\n",
    "    pickle.dump((topics_LDA_tp_total_many,\n",
    "                 topics_LDA_tp_positive_many,\n",
    "                 topics_LDA_tp_negative_many), f)  \n",
    "    "
   ]
  },
  {
   "cell_type": "code",
   "execution_count": null,
   "metadata": {
    "id": "cgn1oT6FRsce"
   },
   "outputs": [],
   "source": [
    "# keybert\n",
    "file_name = f'{genre}_keybert_{top_n}.pkl'\n",
    "with open (file_path+file_name, 'wb') as f:\n",
    "    pickle.dump((keybert_total, keybert_positive, keybert_negative), f)"
   ]
  },
  {
   "cell_type": "code",
   "execution_count": null,
   "metadata": {
    "id": "SPX1uhNlRsce"
   },
   "outputs": [],
   "source": [
    "# CTM\n",
    "file_name = f'{genre}_CTM.pkl'\n",
    "with open (file_path+file_name, 'wb') as f:\n",
    "    pickle.dump((CTM_total.get_topics(100), ctm_pd_total,\n",
    "                 CTM_positive.get_topics(100), ctm_pd_positive,\n",
    "                 CTM_negative.get_topics(100), ctm_pd_negative), f)"
   ]
  },
  {
   "cell_type": "code",
   "execution_count": null,
   "metadata": {
    "id": "Yn326TtjUUWa"
   },
   "outputs": [],
   "source": []
  }
 ],
 "metadata": {
  "colab": {
   "authorship_tag": "ABX9TyNDDWW2HSb7qAMDGoGDHX17",
   "collapsed_sections": [
    "-LCHAoBGRsca",
    "hf67x-n3qexp",
    "3siSa3kaRscY",
    "yiZDErxBmhC8",
    "NTfqvkLzRscZ",
    "TuoNmu9glusH",
    "mMb-lqL7Rscb"
   ],
   "mount_file_id": "19-YFs74mnISF68bF9KAaBwAswSi_uwR_",
   "name": "Keyword Modeling.ipynb",
   "provenance": []
  },
  "hide_input": false,
  "kernelspec": {
   "display_name": "Python 3 (ipykernel)",
   "language": "python",
   "name": "python3"
  },
  "language_info": {
   "codemirror_mode": {
    "name": "ipython",
    "version": 3
   },
   "file_extension": ".py",
   "mimetype": "text/x-python",
   "name": "python",
   "nbconvert_exporter": "python",
   "pygments_lexer": "ipython3",
   "version": "3.9.12"
  },
  "latex_envs": {
   "LaTeX_envs_menu_present": true,
   "autoclose": false,
   "autocomplete": true,
   "bibliofile": "biblio.bib",
   "cite_by": "apalike",
   "current_citInitial": 1,
   "eqLabelWithNumbers": true,
   "eqNumInitial": 1,
   "hotkeys": {
    "equation": "Ctrl-E",
    "itemize": "Ctrl-I"
   },
   "labels_anchors": false,
   "latex_user_defs": false,
   "report_style_numbering": false,
   "user_envs_cfg": false
  },
  "toc": {
   "base_numbering": 1,
   "nav_menu": {},
   "number_sections": false,
   "sideBar": true,
   "skip_h1_title": false,
   "title_cell": "Table of Contents",
   "title_sidebar": "Contents",
   "toc_cell": false,
   "toc_position": {},
   "toc_section_display": true,
   "toc_window_display": false
  },
  "varInspector": {
   "cols": {
    "lenName": 16,
    "lenType": 16,
    "lenVar": 40
   },
   "kernels_config": {
    "python": {
     "delete_cmd_postfix": "",
     "delete_cmd_prefix": "del ",
     "library": "var_list.py",
     "varRefreshCmd": "print(var_dic_list())"
    },
    "r": {
     "delete_cmd_postfix": ") ",
     "delete_cmd_prefix": "rm(",
     "library": "var_list.r",
     "varRefreshCmd": "cat(var_dic_list()) "
    }
   },
   "types_to_exclude": [
    "module",
    "function",
    "builtin_function_or_method",
    "instance",
    "_Feature"
   ],
   "window_display": false
  },
  "widgets": {
   "application/vnd.jupyter.widget-state+json": {
    "01d7000e1c314b55bfffd8f2ef3fb3b8": {
     "model_module": "@jupyter-widgets/controls",
     "model_module_version": "1.5.0",
     "model_name": "ProgressStyleModel",
     "state": {
      "_model_module": "@jupyter-widgets/controls",
      "_model_module_version": "1.5.0",
      "_model_name": "ProgressStyleModel",
      "_view_count": null,
      "_view_module": "@jupyter-widgets/base",
      "_view_module_version": "1.2.0",
      "_view_name": "StyleView",
      "bar_color": null,
      "description_width": ""
     }
    },
    "06085e5ffba941959eb42ca4a7f13678": {
     "model_module": "@jupyter-widgets/controls",
     "model_module_version": "1.5.0",
     "model_name": "FloatProgressModel",
     "state": {
      "_dom_classes": [],
      "_model_module": "@jupyter-widgets/controls",
      "_model_module_version": "1.5.0",
      "_model_name": "FloatProgressModel",
      "_view_count": null,
      "_view_module": "@jupyter-widgets/controls",
      "_view_module_version": "1.5.0",
      "_view_name": "ProgressView",
      "bar_style": "success",
      "description": "",
      "description_tooltip": null,
      "layout": "IPY_MODEL_50880997f5eb4e8db52cf525a89dea69",
      "max": 88,
      "min": 0,
      "orientation": "horizontal",
      "style": "IPY_MODEL_01d7000e1c314b55bfffd8f2ef3fb3b8",
      "value": 88
     }
    },
    "0e60c6f1246d47d699ec6da887430ee3": {
     "model_module": "@jupyter-widgets/base",
     "model_module_version": "1.2.0",
     "model_name": "LayoutModel",
     "state": {
      "_model_module": "@jupyter-widgets/base",
      "_model_module_version": "1.2.0",
      "_model_name": "LayoutModel",
      "_view_count": null,
      "_view_module": "@jupyter-widgets/base",
      "_view_module_version": "1.2.0",
      "_view_name": "LayoutView",
      "align_content": null,
      "align_items": null,
      "align_self": null,
      "border": null,
      "bottom": null,
      "display": null,
      "flex": null,
      "flex_flow": null,
      "grid_area": null,
      "grid_auto_columns": null,
      "grid_auto_flow": null,
      "grid_auto_rows": null,
      "grid_column": null,
      "grid_gap": null,
      "grid_row": null,
      "grid_template_areas": null,
      "grid_template_columns": null,
      "grid_template_rows": null,
      "height": null,
      "justify_content": null,
      "justify_items": null,
      "left": null,
      "margin": null,
      "max_height": null,
      "max_width": null,
      "min_height": null,
      "min_width": null,
      "object_fit": null,
      "object_position": null,
      "order": null,
      "overflow": null,
      "overflow_x": null,
      "overflow_y": null,
      "padding": null,
      "right": null,
      "top": null,
      "visibility": null,
      "width": null
     }
    },
    "0fa1aa8c0e2447eeb7d145485372bab2": {
     "model_module": "@jupyter-widgets/controls",
     "model_module_version": "1.5.0",
     "model_name": "HTMLModel",
     "state": {
      "_dom_classes": [],
      "_model_module": "@jupyter-widgets/controls",
      "_model_module_version": "1.5.0",
      "_model_name": "HTMLModel",
      "_view_count": null,
      "_view_module": "@jupyter-widgets/controls",
      "_view_module_version": "1.5.0",
      "_view_name": "HTMLView",
      "description": "",
      "description_tooltip": null,
      "layout": "IPY_MODEL_34fcc18b7e0944418847b327b4f2a1dd",
      "placeholder": "​",
      "style": "IPY_MODEL_7e7c9923e2cf4b728252aa61c3efd521",
      "value": "Batches: 100%"
     }
    },
    "1132dfd369b84570ac61450d182f792a": {
     "model_module": "@jupyter-widgets/controls",
     "model_module_version": "1.5.0",
     "model_name": "HTMLModel",
     "state": {
      "_dom_classes": [],
      "_model_module": "@jupyter-widgets/controls",
      "_model_module_version": "1.5.0",
      "_model_name": "HTMLModel",
      "_view_count": null,
      "_view_module": "@jupyter-widgets/controls",
      "_view_module_version": "1.5.0",
      "_view_name": "HTMLView",
      "description": "",
      "description_tooltip": null,
      "layout": "IPY_MODEL_472319c767c740b0bf07864aad640b64",
      "placeholder": "​",
      "style": "IPY_MODEL_271d09b3368a4194910680e1a70de724",
      "value": " 88/88 [00:10&lt;00:00, 14.25it/s]"
     }
    },
    "12752fd7812f46bfa701bf19339d3a1c": {
     "model_module": "@jupyter-widgets/controls",
     "model_module_version": "1.5.0",
     "model_name": "DescriptionStyleModel",
     "state": {
      "_model_module": "@jupyter-widgets/controls",
      "_model_module_version": "1.5.0",
      "_model_name": "DescriptionStyleModel",
      "_view_count": null,
      "_view_module": "@jupyter-widgets/base",
      "_view_module_version": "1.2.0",
      "_view_name": "StyleView",
      "description_width": ""
     }
    },
    "12bdad0d6cf2473ba4623b03ee133874": {
     "model_module": "@jupyter-widgets/controls",
     "model_module_version": "1.5.0",
     "model_name": "HTMLModel",
     "state": {
      "_dom_classes": [],
      "_model_module": "@jupyter-widgets/controls",
      "_model_module_version": "1.5.0",
      "_model_name": "HTMLModel",
      "_view_count": null,
      "_view_module": "@jupyter-widgets/controls",
      "_view_module_version": "1.5.0",
      "_view_name": "HTMLView",
      "description": "",
      "description_tooltip": null,
      "layout": "IPY_MODEL_fbaca8a47b234903a0f0a33a544b2082",
      "placeholder": "​",
      "style": "IPY_MODEL_2c33228ca14746d69303faaf2ff0b06e",
      "value": "100%"
     }
    },
    "169cdb504f754158aa002b029999b787": {
     "model_module": "@jupyter-widgets/controls",
     "model_module_version": "1.5.0",
     "model_name": "ProgressStyleModel",
     "state": {
      "_model_module": "@jupyter-widgets/controls",
      "_model_module_version": "1.5.0",
      "_model_name": "ProgressStyleModel",
      "_view_count": null,
      "_view_module": "@jupyter-widgets/base",
      "_view_module_version": "1.2.0",
      "_view_name": "StyleView",
      "bar_color": null,
      "description_width": ""
     }
    },
    "2571c4e85cf24aafab6c479424429f92": {
     "model_module": "@jupyter-widgets/base",
     "model_module_version": "1.2.0",
     "model_name": "LayoutModel",
     "state": {
      "_model_module": "@jupyter-widgets/base",
      "_model_module_version": "1.2.0",
      "_model_name": "LayoutModel",
      "_view_count": null,
      "_view_module": "@jupyter-widgets/base",
      "_view_module_version": "1.2.0",
      "_view_name": "LayoutView",
      "align_content": null,
      "align_items": null,
      "align_self": null,
      "border": null,
      "bottom": null,
      "display": null,
      "flex": null,
      "flex_flow": null,
      "grid_area": null,
      "grid_auto_columns": null,
      "grid_auto_flow": null,
      "grid_auto_rows": null,
      "grid_column": null,
      "grid_gap": null,
      "grid_row": null,
      "grid_template_areas": null,
      "grid_template_columns": null,
      "grid_template_rows": null,
      "height": null,
      "justify_content": null,
      "justify_items": null,
      "left": null,
      "margin": null,
      "max_height": null,
      "max_width": null,
      "min_height": null,
      "min_width": null,
      "object_fit": null,
      "object_position": null,
      "order": null,
      "overflow": null,
      "overflow_x": null,
      "overflow_y": null,
      "padding": null,
      "right": null,
      "top": null,
      "visibility": null,
      "width": null
     }
    },
    "271d09b3368a4194910680e1a70de724": {
     "model_module": "@jupyter-widgets/controls",
     "model_module_version": "1.5.0",
     "model_name": "DescriptionStyleModel",
     "state": {
      "_model_module": "@jupyter-widgets/controls",
      "_model_module_version": "1.5.0",
      "_model_name": "DescriptionStyleModel",
      "_view_count": null,
      "_view_module": "@jupyter-widgets/base",
      "_view_module_version": "1.2.0",
      "_view_name": "StyleView",
      "description_width": ""
     }
    },
    "2835f6df2625498694b04aeba1d36fcd": {
     "model_module": "@jupyter-widgets/controls",
     "model_module_version": "1.5.0",
     "model_name": "DescriptionStyleModel",
     "state": {
      "_model_module": "@jupyter-widgets/controls",
      "_model_module_version": "1.5.0",
      "_model_name": "DescriptionStyleModel",
      "_view_count": null,
      "_view_module": "@jupyter-widgets/base",
      "_view_module_version": "1.2.0",
      "_view_name": "StyleView",
      "description_width": ""
     }
    },
    "2b93c96d79c547d0a8655e53ed57fffc": {
     "model_module": "@jupyter-widgets/controls",
     "model_module_version": "1.5.0",
     "model_name": "HTMLModel",
     "state": {
      "_dom_classes": [],
      "_model_module": "@jupyter-widgets/controls",
      "_model_module_version": "1.5.0",
      "_model_name": "HTMLModel",
      "_view_count": null,
      "_view_module": "@jupyter-widgets/controls",
      "_view_module_version": "1.5.0",
      "_view_name": "HTMLView",
      "description": "",
      "description_tooltip": null,
      "layout": "IPY_MODEL_c3a0e34b236b4072affe79f0d2148730",
      "placeholder": "​",
      "style": "IPY_MODEL_c293aed34c974d8a8d384240cd5a84ad",
      "value": " 52256/52256 [00:09&lt;00:00, 3644.27it/s]"
     }
    },
    "2c33228ca14746d69303faaf2ff0b06e": {
     "model_module": "@jupyter-widgets/controls",
     "model_module_version": "1.5.0",
     "model_name": "DescriptionStyleModel",
     "state": {
      "_model_module": "@jupyter-widgets/controls",
      "_model_module_version": "1.5.0",
      "_model_name": "DescriptionStyleModel",
      "_view_count": null,
      "_view_module": "@jupyter-widgets/base",
      "_view_module_version": "1.2.0",
      "_view_name": "StyleView",
      "description_width": ""
     }
    },
    "2e87c25a07ba406cb6b6c7dca0397e61": {
     "model_module": "@jupyter-widgets/controls",
     "model_module_version": "1.5.0",
     "model_name": "HTMLModel",
     "state": {
      "_dom_classes": [],
      "_model_module": "@jupyter-widgets/controls",
      "_model_module_version": "1.5.0",
      "_model_name": "HTMLModel",
      "_view_count": null,
      "_view_module": "@jupyter-widgets/controls",
      "_view_module_version": "1.5.0",
      "_view_name": "HTMLView",
      "description": "",
      "description_tooltip": null,
      "layout": "IPY_MODEL_fa07917dd64746fbad8d002bba0c4b2c",
      "placeholder": "​",
      "style": "IPY_MODEL_808552cac8bb455889ce1f12521c6558",
      "value": " 8699/8699 [00:00&lt;00:00, 11556.02it/s]"
     }
    },
    "2f150c3d7b8c48d68439f293c8275c06": {
     "model_module": "@jupyter-widgets/controls",
     "model_module_version": "1.5.0",
     "model_name": "ProgressStyleModel",
     "state": {
      "_model_module": "@jupyter-widgets/controls",
      "_model_module_version": "1.5.0",
      "_model_name": "ProgressStyleModel",
      "_view_count": null,
      "_view_module": "@jupyter-widgets/base",
      "_view_module_version": "1.2.0",
      "_view_name": "StyleView",
      "bar_color": null,
      "description_width": ""
     }
    },
    "2f96288e41834407aff3e6b355f432b7": {
     "model_module": "@jupyter-widgets/controls",
     "model_module_version": "1.5.0",
     "model_name": "FloatProgressModel",
     "state": {
      "_dom_classes": [],
      "_model_module": "@jupyter-widgets/controls",
      "_model_module_version": "1.5.0",
      "_model_name": "FloatProgressModel",
      "_view_count": null,
      "_view_module": "@jupyter-widgets/controls",
      "_view_module_version": "1.5.0",
      "_view_name": "ProgressView",
      "bar_style": "success",
      "description": "",
      "description_tooltip": null,
      "layout": "IPY_MODEL_bf7e9263e3444571b209b0b3df327f8d",
      "max": 121,
      "min": 0,
      "orientation": "horizontal",
      "style": "IPY_MODEL_169cdb504f754158aa002b029999b787",
      "value": 121
     }
    },
    "2fe6ff3f07bc49bd8d51020b920bc41a": {
     "model_module": "@jupyter-widgets/controls",
     "model_module_version": "1.5.0",
     "model_name": "HTMLModel",
     "state": {
      "_dom_classes": [],
      "_model_module": "@jupyter-widgets/controls",
      "_model_module_version": "1.5.0",
      "_model_name": "HTMLModel",
      "_view_count": null,
      "_view_module": "@jupyter-widgets/controls",
      "_view_module_version": "1.5.0",
      "_view_name": "HTMLView",
      "description": "",
      "description_tooltip": null,
      "layout": "IPY_MODEL_0e60c6f1246d47d699ec6da887430ee3",
      "placeholder": "​",
      "style": "IPY_MODEL_c917fbf60a63463a99aaa0a5fc9b540a",
      "value": " 72074/72074 [00:16&lt;00:00, 2785.63it/s]"
     }
    },
    "34fcc18b7e0944418847b327b4f2a1dd": {
     "model_module": "@jupyter-widgets/base",
     "model_module_version": "1.2.0",
     "model_name": "LayoutModel",
     "state": {
      "_model_module": "@jupyter-widgets/base",
      "_model_module_version": "1.2.0",
      "_model_name": "LayoutModel",
      "_view_count": null,
      "_view_module": "@jupyter-widgets/base",
      "_view_module_version": "1.2.0",
      "_view_name": "LayoutView",
      "align_content": null,
      "align_items": null,
      "align_self": null,
      "border": null,
      "bottom": null,
      "display": null,
      "flex": null,
      "flex_flow": null,
      "grid_area": null,
      "grid_auto_columns": null,
      "grid_auto_flow": null,
      "grid_auto_rows": null,
      "grid_column": null,
      "grid_gap": null,
      "grid_row": null,
      "grid_template_areas": null,
      "grid_template_columns": null,
      "grid_template_rows": null,
      "height": null,
      "justify_content": null,
      "justify_items": null,
      "left": null,
      "margin": null,
      "max_height": null,
      "max_width": null,
      "min_height": null,
      "min_width": null,
      "object_fit": null,
      "object_position": null,
      "order": null,
      "overflow": null,
      "overflow_x": null,
      "overflow_y": null,
      "padding": null,
      "right": null,
      "top": null,
      "visibility": null,
      "width": null
     }
    },
    "3f7c08c7f45d48e9a5398e2535cfd264": {
     "model_module": "@jupyter-widgets/controls",
     "model_module_version": "1.5.0",
     "model_name": "HBoxModel",
     "state": {
      "_dom_classes": [],
      "_model_module": "@jupyter-widgets/controls",
      "_model_module_version": "1.5.0",
      "_model_name": "HBoxModel",
      "_view_count": null,
      "_view_module": "@jupyter-widgets/controls",
      "_view_module_version": "1.5.0",
      "_view_name": "HBoxView",
      "box_style": "",
      "children": [
       "IPY_MODEL_12bdad0d6cf2473ba4623b03ee133874",
       "IPY_MODEL_ec723fae3d874c07ae4be386759fe459",
       "IPY_MODEL_2e87c25a07ba406cb6b6c7dca0397e61"
      ],
      "layout": "IPY_MODEL_437a8b4746b94977931a0a127a4bbf14"
     }
    },
    "41e869aefd0a4ab8b2ee652a8b61dc84": {
     "model_module": "@jupyter-widgets/controls",
     "model_module_version": "1.5.0",
     "model_name": "FloatProgressModel",
     "state": {
      "_dom_classes": [],
      "_model_module": "@jupyter-widgets/controls",
      "_model_module_version": "1.5.0",
      "_model_name": "FloatProgressModel",
      "_view_count": null,
      "_view_module": "@jupyter-widgets/controls",
      "_view_module_version": "1.5.0",
      "_view_name": "ProgressView",
      "bar_style": "success",
      "description": "",
      "description_tooltip": null,
      "layout": "IPY_MODEL_95e2b291823f4d1b9d9435a4f5e23bb4",
      "max": 72074,
      "min": 0,
      "orientation": "horizontal",
      "style": "IPY_MODEL_fa0cf84a13384b6cadd757249f8e8408",
      "value": 72074
     }
    },
    "42b8ef485c3241d484d4648e5bd097db": {
     "model_module": "@jupyter-widgets/controls",
     "model_module_version": "1.5.0",
     "model_name": "DescriptionStyleModel",
     "state": {
      "_model_module": "@jupyter-widgets/controls",
      "_model_module_version": "1.5.0",
      "_model_name": "DescriptionStyleModel",
      "_view_count": null,
      "_view_module": "@jupyter-widgets/base",
      "_view_module_version": "1.2.0",
      "_view_name": "StyleView",
      "description_width": ""
     }
    },
    "43362f65d7f3409ab7a1b3485bcb0c4f": {
     "model_module": "@jupyter-widgets/controls",
     "model_module_version": "1.5.0",
     "model_name": "FloatProgressModel",
     "state": {
      "_dom_classes": [],
      "_model_module": "@jupyter-widgets/controls",
      "_model_module_version": "1.5.0",
      "_model_name": "FloatProgressModel",
      "_view_count": null,
      "_view_module": "@jupyter-widgets/controls",
      "_view_module_version": "1.5.0",
      "_view_name": "ProgressView",
      "bar_style": "success",
      "description": "",
      "description_tooltip": null,
      "layout": "IPY_MODEL_2571c4e85cf24aafab6c479424429f92",
      "max": 52256,
      "min": 0,
      "orientation": "horizontal",
      "style": "IPY_MODEL_c4bfa186b05d4bb88d94ee84b13bdbed",
      "value": 52256
     }
    },
    "437a8b4746b94977931a0a127a4bbf14": {
     "model_module": "@jupyter-widgets/base",
     "model_module_version": "1.2.0",
     "model_name": "LayoutModel",
     "state": {
      "_model_module": "@jupyter-widgets/base",
      "_model_module_version": "1.2.0",
      "_model_name": "LayoutModel",
      "_view_count": null,
      "_view_module": "@jupyter-widgets/base",
      "_view_module_version": "1.2.0",
      "_view_name": "LayoutView",
      "align_content": null,
      "align_items": null,
      "align_self": null,
      "border": null,
      "bottom": null,
      "display": null,
      "flex": null,
      "flex_flow": null,
      "grid_area": null,
      "grid_auto_columns": null,
      "grid_auto_flow": null,
      "grid_auto_rows": null,
      "grid_column": null,
      "grid_gap": null,
      "grid_row": null,
      "grid_template_areas": null,
      "grid_template_columns": null,
      "grid_template_rows": null,
      "height": null,
      "justify_content": null,
      "justify_items": null,
      "left": null,
      "margin": null,
      "max_height": null,
      "max_width": null,
      "min_height": null,
      "min_width": null,
      "object_fit": null,
      "object_position": null,
      "order": null,
      "overflow": null,
      "overflow_x": null,
      "overflow_y": null,
      "padding": null,
      "right": null,
      "top": null,
      "visibility": null,
      "width": null
     }
    },
    "472319c767c740b0bf07864aad640b64": {
     "model_module": "@jupyter-widgets/base",
     "model_module_version": "1.2.0",
     "model_name": "LayoutModel",
     "state": {
      "_model_module": "@jupyter-widgets/base",
      "_model_module_version": "1.2.0",
      "_model_name": "LayoutModel",
      "_view_count": null,
      "_view_module": "@jupyter-widgets/base",
      "_view_module_version": "1.2.0",
      "_view_name": "LayoutView",
      "align_content": null,
      "align_items": null,
      "align_self": null,
      "border": null,
      "bottom": null,
      "display": null,
      "flex": null,
      "flex_flow": null,
      "grid_area": null,
      "grid_auto_columns": null,
      "grid_auto_flow": null,
      "grid_auto_rows": null,
      "grid_column": null,
      "grid_gap": null,
      "grid_row": null,
      "grid_template_areas": null,
      "grid_template_columns": null,
      "grid_template_rows": null,
      "height": null,
      "justify_content": null,
      "justify_items": null,
      "left": null,
      "margin": null,
      "max_height": null,
      "max_width": null,
      "min_height": null,
      "min_width": null,
      "object_fit": null,
      "object_position": null,
      "order": null,
      "overflow": null,
      "overflow_x": null,
      "overflow_y": null,
      "padding": null,
      "right": null,
      "top": null,
      "visibility": null,
      "width": null
     }
    },
    "477b0231acc24ac78ae032fe458193b8": {
     "model_module": "@jupyter-widgets/controls",
     "model_module_version": "1.5.0",
     "model_name": "HTMLModel",
     "state": {
      "_dom_classes": [],
      "_model_module": "@jupyter-widgets/controls",
      "_model_module_version": "1.5.0",
      "_model_name": "HTMLModel",
      "_view_count": null,
      "_view_module": "@jupyter-widgets/controls",
      "_view_module_version": "1.5.0",
      "_view_name": "HTMLView",
      "description": "",
      "description_tooltip": null,
      "layout": "IPY_MODEL_b66dbc0fd5c54d7d8f0509f3e0905cfd",
      "placeholder": "​",
      "style": "IPY_MODEL_b1523aed5a9945a8bc002719cd65d8a1",
      "value": " 15/15 [00:02&lt;00:00, 11.12it/s]"
     }
    },
    "4e29ecbc3754468c851363ba551a75e6": {
     "model_module": "@jupyter-widgets/base",
     "model_module_version": "1.2.0",
     "model_name": "LayoutModel",
     "state": {
      "_model_module": "@jupyter-widgets/base",
      "_model_module_version": "1.2.0",
      "_model_name": "LayoutModel",
      "_view_count": null,
      "_view_module": "@jupyter-widgets/base",
      "_view_module_version": "1.2.0",
      "_view_name": "LayoutView",
      "align_content": null,
      "align_items": null,
      "align_self": null,
      "border": null,
      "bottom": null,
      "display": null,
      "flex": null,
      "flex_flow": null,
      "grid_area": null,
      "grid_auto_columns": null,
      "grid_auto_flow": null,
      "grid_auto_rows": null,
      "grid_column": null,
      "grid_gap": null,
      "grid_row": null,
      "grid_template_areas": null,
      "grid_template_columns": null,
      "grid_template_rows": null,
      "height": null,
      "justify_content": null,
      "justify_items": null,
      "left": null,
      "margin": null,
      "max_height": null,
      "max_width": null,
      "min_height": null,
      "min_width": null,
      "object_fit": null,
      "object_position": null,
      "order": null,
      "overflow": null,
      "overflow_x": null,
      "overflow_y": null,
      "padding": null,
      "right": null,
      "top": null,
      "visibility": null,
      "width": null
     }
    },
    "50880997f5eb4e8db52cf525a89dea69": {
     "model_module": "@jupyter-widgets/base",
     "model_module_version": "1.2.0",
     "model_name": "LayoutModel",
     "state": {
      "_model_module": "@jupyter-widgets/base",
      "_model_module_version": "1.2.0",
      "_model_name": "LayoutModel",
      "_view_count": null,
      "_view_module": "@jupyter-widgets/base",
      "_view_module_version": "1.2.0",
      "_view_name": "LayoutView",
      "align_content": null,
      "align_items": null,
      "align_self": null,
      "border": null,
      "bottom": null,
      "display": null,
      "flex": null,
      "flex_flow": null,
      "grid_area": null,
      "grid_auto_columns": null,
      "grid_auto_flow": null,
      "grid_auto_rows": null,
      "grid_column": null,
      "grid_gap": null,
      "grid_row": null,
      "grid_template_areas": null,
      "grid_template_columns": null,
      "grid_template_rows": null,
      "height": null,
      "justify_content": null,
      "justify_items": null,
      "left": null,
      "margin": null,
      "max_height": null,
      "max_width": null,
      "min_height": null,
      "min_width": null,
      "object_fit": null,
      "object_position": null,
      "order": null,
      "overflow": null,
      "overflow_x": null,
      "overflow_y": null,
      "padding": null,
      "right": null,
      "top": null,
      "visibility": null,
      "width": null
     }
    },
    "5127592bdff1474da9d89e194ce2518d": {
     "model_module": "@jupyter-widgets/base",
     "model_module_version": "1.2.0",
     "model_name": "LayoutModel",
     "state": {
      "_model_module": "@jupyter-widgets/base",
      "_model_module_version": "1.2.0",
      "_model_name": "LayoutModel",
      "_view_count": null,
      "_view_module": "@jupyter-widgets/base",
      "_view_module_version": "1.2.0",
      "_view_name": "LayoutView",
      "align_content": null,
      "align_items": null,
      "align_self": null,
      "border": null,
      "bottom": null,
      "display": null,
      "flex": null,
      "flex_flow": null,
      "grid_area": null,
      "grid_auto_columns": null,
      "grid_auto_flow": null,
      "grid_auto_rows": null,
      "grid_column": null,
      "grid_gap": null,
      "grid_row": null,
      "grid_template_areas": null,
      "grid_template_columns": null,
      "grid_template_rows": null,
      "height": null,
      "justify_content": null,
      "justify_items": null,
      "left": null,
      "margin": null,
      "max_height": null,
      "max_width": null,
      "min_height": null,
      "min_width": null,
      "object_fit": null,
      "object_position": null,
      "order": null,
      "overflow": null,
      "overflow_x": null,
      "overflow_y": null,
      "padding": null,
      "right": null,
      "top": null,
      "visibility": null,
      "width": null
     }
    },
    "5458394854f44c61a067475cdce0b3d1": {
     "model_module": "@jupyter-widgets/base",
     "model_module_version": "1.2.0",
     "model_name": "LayoutModel",
     "state": {
      "_model_module": "@jupyter-widgets/base",
      "_model_module_version": "1.2.0",
      "_model_name": "LayoutModel",
      "_view_count": null,
      "_view_module": "@jupyter-widgets/base",
      "_view_module_version": "1.2.0",
      "_view_name": "LayoutView",
      "align_content": null,
      "align_items": null,
      "align_self": null,
      "border": null,
      "bottom": null,
      "display": null,
      "flex": null,
      "flex_flow": null,
      "grid_area": null,
      "grid_auto_columns": null,
      "grid_auto_flow": null,
      "grid_auto_rows": null,
      "grid_column": null,
      "grid_gap": null,
      "grid_row": null,
      "grid_template_areas": null,
      "grid_template_columns": null,
      "grid_template_rows": null,
      "height": null,
      "justify_content": null,
      "justify_items": null,
      "left": null,
      "margin": null,
      "max_height": null,
      "max_width": null,
      "min_height": null,
      "min_width": null,
      "object_fit": null,
      "object_position": null,
      "order": null,
      "overflow": null,
      "overflow_x": null,
      "overflow_y": null,
      "padding": null,
      "right": null,
      "top": null,
      "visibility": null,
      "width": null
     }
    },
    "6294fcc441614d8cbbd037b0c502ada4": {
     "model_module": "@jupyter-widgets/controls",
     "model_module_version": "1.5.0",
     "model_name": "HBoxModel",
     "state": {
      "_dom_classes": [],
      "_model_module": "@jupyter-widgets/controls",
      "_model_module_version": "1.5.0",
      "_model_name": "HBoxModel",
      "_view_count": null,
      "_view_module": "@jupyter-widgets/controls",
      "_view_module_version": "1.5.0",
      "_view_name": "HBoxView",
      "box_style": "",
      "children": [
       "IPY_MODEL_0fa1aa8c0e2447eeb7d145485372bab2",
       "IPY_MODEL_06085e5ffba941959eb42ca4a7f13678",
       "IPY_MODEL_1132dfd369b84570ac61450d182f792a"
      ],
      "layout": "IPY_MODEL_77fca5f1b86b4f50891460ab95bb5cac"
     }
    },
    "69eb67e65fdd423ba84f44997176eff7": {
     "model_module": "@jupyter-widgets/controls",
     "model_module_version": "1.5.0",
     "model_name": "HTMLModel",
     "state": {
      "_dom_classes": [],
      "_model_module": "@jupyter-widgets/controls",
      "_model_module_version": "1.5.0",
      "_model_name": "HTMLModel",
      "_view_count": null,
      "_view_module": "@jupyter-widgets/controls",
      "_view_module_version": "1.5.0",
      "_view_name": "HTMLView",
      "description": "",
      "description_tooltip": null,
      "layout": "IPY_MODEL_865c3f412bb04b4db4914913c0011479",
      "placeholder": "​",
      "style": "IPY_MODEL_dd9935cd73c54b30aa955a1ab6723bf7",
      "value": "Batches: 100%"
     }
    },
    "77fca5f1b86b4f50891460ab95bb5cac": {
     "model_module": "@jupyter-widgets/base",
     "model_module_version": "1.2.0",
     "model_name": "LayoutModel",
     "state": {
      "_model_module": "@jupyter-widgets/base",
      "_model_module_version": "1.2.0",
      "_model_name": "LayoutModel",
      "_view_count": null,
      "_view_module": "@jupyter-widgets/base",
      "_view_module_version": "1.2.0",
      "_view_name": "LayoutView",
      "align_content": null,
      "align_items": null,
      "align_self": null,
      "border": null,
      "bottom": null,
      "display": null,
      "flex": null,
      "flex_flow": null,
      "grid_area": null,
      "grid_auto_columns": null,
      "grid_auto_flow": null,
      "grid_auto_rows": null,
      "grid_column": null,
      "grid_gap": null,
      "grid_row": null,
      "grid_template_areas": null,
      "grid_template_columns": null,
      "grid_template_rows": null,
      "height": null,
      "justify_content": null,
      "justify_items": null,
      "left": null,
      "margin": null,
      "max_height": null,
      "max_width": null,
      "min_height": null,
      "min_width": null,
      "object_fit": null,
      "object_position": null,
      "order": null,
      "overflow": null,
      "overflow_x": null,
      "overflow_y": null,
      "padding": null,
      "right": null,
      "top": null,
      "visibility": null,
      "width": null
     }
    },
    "7e7c9923e2cf4b728252aa61c3efd521": {
     "model_module": "@jupyter-widgets/controls",
     "model_module_version": "1.5.0",
     "model_name": "DescriptionStyleModel",
     "state": {
      "_model_module": "@jupyter-widgets/controls",
      "_model_module_version": "1.5.0",
      "_model_name": "DescriptionStyleModel",
      "_view_count": null,
      "_view_module": "@jupyter-widgets/base",
      "_view_module_version": "1.2.0",
      "_view_name": "StyleView",
      "description_width": ""
     }
    },
    "80620b6343874c789fcf7c294621c9ab": {
     "model_module": "@jupyter-widgets/controls",
     "model_module_version": "1.5.0",
     "model_name": "HTMLModel",
     "state": {
      "_dom_classes": [],
      "_model_module": "@jupyter-widgets/controls",
      "_model_module_version": "1.5.0",
      "_model_name": "HTMLModel",
      "_view_count": null,
      "_view_module": "@jupyter-widgets/controls",
      "_view_module_version": "1.5.0",
      "_view_name": "HTMLView",
      "description": "",
      "description_tooltip": null,
      "layout": "IPY_MODEL_5127592bdff1474da9d89e194ce2518d",
      "placeholder": "​",
      "style": "IPY_MODEL_42b8ef485c3241d484d4648e5bd097db",
      "value": "100%"
     }
    },
    "808552cac8bb455889ce1f12521c6558": {
     "model_module": "@jupyter-widgets/controls",
     "model_module_version": "1.5.0",
     "model_name": "DescriptionStyleModel",
     "state": {
      "_model_module": "@jupyter-widgets/controls",
      "_model_module_version": "1.5.0",
      "_model_name": "DescriptionStyleModel",
      "_view_count": null,
      "_view_module": "@jupyter-widgets/base",
      "_view_module_version": "1.2.0",
      "_view_name": "StyleView",
      "description_width": ""
     }
    },
    "81289997aad14b46b52d2d9ac0daa461": {
     "model_module": "@jupyter-widgets/controls",
     "model_module_version": "1.5.0",
     "model_name": "DescriptionStyleModel",
     "state": {
      "_model_module": "@jupyter-widgets/controls",
      "_model_module_version": "1.5.0",
      "_model_name": "DescriptionStyleModel",
      "_view_count": null,
      "_view_module": "@jupyter-widgets/base",
      "_view_module_version": "1.2.0",
      "_view_name": "StyleView",
      "description_width": ""
     }
    },
    "865c3f412bb04b4db4914913c0011479": {
     "model_module": "@jupyter-widgets/base",
     "model_module_version": "1.2.0",
     "model_name": "LayoutModel",
     "state": {
      "_model_module": "@jupyter-widgets/base",
      "_model_module_version": "1.2.0",
      "_model_name": "LayoutModel",
      "_view_count": null,
      "_view_module": "@jupyter-widgets/base",
      "_view_module_version": "1.2.0",
      "_view_name": "LayoutView",
      "align_content": null,
      "align_items": null,
      "align_self": null,
      "border": null,
      "bottom": null,
      "display": null,
      "flex": null,
      "flex_flow": null,
      "grid_area": null,
      "grid_auto_columns": null,
      "grid_auto_flow": null,
      "grid_auto_rows": null,
      "grid_column": null,
      "grid_gap": null,
      "grid_row": null,
      "grid_template_areas": null,
      "grid_template_columns": null,
      "grid_template_rows": null,
      "height": null,
      "justify_content": null,
      "justify_items": null,
      "left": null,
      "margin": null,
      "max_height": null,
      "max_width": null,
      "min_height": null,
      "min_width": null,
      "object_fit": null,
      "object_position": null,
      "order": null,
      "overflow": null,
      "overflow_x": null,
      "overflow_y": null,
      "padding": null,
      "right": null,
      "top": null,
      "visibility": null,
      "width": null
     }
    },
    "8a4fe63c8bc54618b19595dba9c2a8a3": {
     "model_module": "@jupyter-widgets/controls",
     "model_module_version": "1.5.0",
     "model_name": "HBoxModel",
     "state": {
      "_dom_classes": [],
      "_model_module": "@jupyter-widgets/controls",
      "_model_module_version": "1.5.0",
      "_model_name": "HBoxModel",
      "_view_count": null,
      "_view_module": "@jupyter-widgets/controls",
      "_view_module_version": "1.5.0",
      "_view_name": "HBoxView",
      "box_style": "",
      "children": [
       "IPY_MODEL_80620b6343874c789fcf7c294621c9ab",
       "IPY_MODEL_41e869aefd0a4ab8b2ee652a8b61dc84",
       "IPY_MODEL_2fe6ff3f07bc49bd8d51020b920bc41a"
      ],
      "layout": "IPY_MODEL_4e29ecbc3754468c851363ba551a75e6"
     }
    },
    "91209228dd544429b1d437ef9cf1d4d3": {
     "model_module": "@jupyter-widgets/base",
     "model_module_version": "1.2.0",
     "model_name": "LayoutModel",
     "state": {
      "_model_module": "@jupyter-widgets/base",
      "_model_module_version": "1.2.0",
      "_model_name": "LayoutModel",
      "_view_count": null,
      "_view_module": "@jupyter-widgets/base",
      "_view_module_version": "1.2.0",
      "_view_name": "LayoutView",
      "align_content": null,
      "align_items": null,
      "align_self": null,
      "border": null,
      "bottom": null,
      "display": null,
      "flex": null,
      "flex_flow": null,
      "grid_area": null,
      "grid_auto_columns": null,
      "grid_auto_flow": null,
      "grid_auto_rows": null,
      "grid_column": null,
      "grid_gap": null,
      "grid_row": null,
      "grid_template_areas": null,
      "grid_template_columns": null,
      "grid_template_rows": null,
      "height": null,
      "justify_content": null,
      "justify_items": null,
      "left": null,
      "margin": null,
      "max_height": null,
      "max_width": null,
      "min_height": null,
      "min_width": null,
      "object_fit": null,
      "object_position": null,
      "order": null,
      "overflow": null,
      "overflow_x": null,
      "overflow_y": null,
      "padding": null,
      "right": null,
      "top": null,
      "visibility": null,
      "width": null
     }
    },
    "9184db9ed6ec4986a3b60674c9867733": {
     "model_module": "@jupyter-widgets/controls",
     "model_module_version": "1.5.0",
     "model_name": "HBoxModel",
     "state": {
      "_dom_classes": [],
      "_model_module": "@jupyter-widgets/controls",
      "_model_module_version": "1.5.0",
      "_model_name": "HBoxModel",
      "_view_count": null,
      "_view_module": "@jupyter-widgets/controls",
      "_view_module_version": "1.5.0",
      "_view_name": "HBoxView",
      "box_style": "",
      "children": [
       "IPY_MODEL_9a321b52b3dd4173ae8d4a1334e8242d",
       "IPY_MODEL_2f96288e41834407aff3e6b355f432b7",
       "IPY_MODEL_f04100112ce843f1a29892ff2709c4b1"
      ],
      "layout": "IPY_MODEL_ff0cc35fa2904ff6bbb5b3395f0ec27f"
     }
    },
    "95e2b291823f4d1b9d9435a4f5e23bb4": {
     "model_module": "@jupyter-widgets/base",
     "model_module_version": "1.2.0",
     "model_name": "LayoutModel",
     "state": {
      "_model_module": "@jupyter-widgets/base",
      "_model_module_version": "1.2.0",
      "_model_name": "LayoutModel",
      "_view_count": null,
      "_view_module": "@jupyter-widgets/base",
      "_view_module_version": "1.2.0",
      "_view_name": "LayoutView",
      "align_content": null,
      "align_items": null,
      "align_self": null,
      "border": null,
      "bottom": null,
      "display": null,
      "flex": null,
      "flex_flow": null,
      "grid_area": null,
      "grid_auto_columns": null,
      "grid_auto_flow": null,
      "grid_auto_rows": null,
      "grid_column": null,
      "grid_gap": null,
      "grid_row": null,
      "grid_template_areas": null,
      "grid_template_columns": null,
      "grid_template_rows": null,
      "height": null,
      "justify_content": null,
      "justify_items": null,
      "left": null,
      "margin": null,
      "max_height": null,
      "max_width": null,
      "min_height": null,
      "min_width": null,
      "object_fit": null,
      "object_position": null,
      "order": null,
      "overflow": null,
      "overflow_x": null,
      "overflow_y": null,
      "padding": null,
      "right": null,
      "top": null,
      "visibility": null,
      "width": null
     }
    },
    "9a321b52b3dd4173ae8d4a1334e8242d": {
     "model_module": "@jupyter-widgets/controls",
     "model_module_version": "1.5.0",
     "model_name": "HTMLModel",
     "state": {
      "_dom_classes": [],
      "_model_module": "@jupyter-widgets/controls",
      "_model_module_version": "1.5.0",
      "_model_name": "HTMLModel",
      "_view_count": null,
      "_view_module": "@jupyter-widgets/controls",
      "_view_module_version": "1.5.0",
      "_view_name": "HTMLView",
      "description": "",
      "description_tooltip": null,
      "layout": "IPY_MODEL_9c159388d30e48df8078d8abd86eb84a",
      "placeholder": "​",
      "style": "IPY_MODEL_12752fd7812f46bfa701bf19339d3a1c",
      "value": "Batches: 100%"
     }
    },
    "9c159388d30e48df8078d8abd86eb84a": {
     "model_module": "@jupyter-widgets/base",
     "model_module_version": "1.2.0",
     "model_name": "LayoutModel",
     "state": {
      "_model_module": "@jupyter-widgets/base",
      "_model_module_version": "1.2.0",
      "_model_name": "LayoutModel",
      "_view_count": null,
      "_view_module": "@jupyter-widgets/base",
      "_view_module_version": "1.2.0",
      "_view_name": "LayoutView",
      "align_content": null,
      "align_items": null,
      "align_self": null,
      "border": null,
      "bottom": null,
      "display": null,
      "flex": null,
      "flex_flow": null,
      "grid_area": null,
      "grid_auto_columns": null,
      "grid_auto_flow": null,
      "grid_auto_rows": null,
      "grid_column": null,
      "grid_gap": null,
      "grid_row": null,
      "grid_template_areas": null,
      "grid_template_columns": null,
      "grid_template_rows": null,
      "height": null,
      "justify_content": null,
      "justify_items": null,
      "left": null,
      "margin": null,
      "max_height": null,
      "max_width": null,
      "min_height": null,
      "min_width": null,
      "object_fit": null,
      "object_position": null,
      "order": null,
      "overflow": null,
      "overflow_x": null,
      "overflow_y": null,
      "padding": null,
      "right": null,
      "top": null,
      "visibility": null,
      "width": null
     }
    },
    "a2034b4a9cad482b8e5e4ae917401b64": {
     "model_module": "@jupyter-widgets/controls",
     "model_module_version": "1.5.0",
     "model_name": "ProgressStyleModel",
     "state": {
      "_model_module": "@jupyter-widgets/controls",
      "_model_module_version": "1.5.0",
      "_model_name": "ProgressStyleModel",
      "_view_count": null,
      "_view_module": "@jupyter-widgets/base",
      "_view_module_version": "1.2.0",
      "_view_name": "StyleView",
      "bar_color": null,
      "description_width": ""
     }
    },
    "a9f1e8dde6ed420e814404f32b550d9b": {
     "model_module": "@jupyter-widgets/controls",
     "model_module_version": "1.5.0",
     "model_name": "HTMLModel",
     "state": {
      "_dom_classes": [],
      "_model_module": "@jupyter-widgets/controls",
      "_model_module_version": "1.5.0",
      "_model_name": "HTMLModel",
      "_view_count": null,
      "_view_module": "@jupyter-widgets/controls",
      "_view_module_version": "1.5.0",
      "_view_name": "HTMLView",
      "description": "",
      "description_tooltip": null,
      "layout": "IPY_MODEL_fbe328e6e7f548858ff6d23968ae89b8",
      "placeholder": "​",
      "style": "IPY_MODEL_2835f6df2625498694b04aeba1d36fcd",
      "value": "100%"
     }
    },
    "b1523aed5a9945a8bc002719cd65d8a1": {
     "model_module": "@jupyter-widgets/controls",
     "model_module_version": "1.5.0",
     "model_name": "DescriptionStyleModel",
     "state": {
      "_model_module": "@jupyter-widgets/controls",
      "_model_module_version": "1.5.0",
      "_model_name": "DescriptionStyleModel",
      "_view_count": null,
      "_view_module": "@jupyter-widgets/base",
      "_view_module_version": "1.2.0",
      "_view_name": "StyleView",
      "description_width": ""
     }
    },
    "b28493691df240448c40c1b4d77983b1": {
     "model_module": "@jupyter-widgets/base",
     "model_module_version": "1.2.0",
     "model_name": "LayoutModel",
     "state": {
      "_model_module": "@jupyter-widgets/base",
      "_model_module_version": "1.2.0",
      "_model_name": "LayoutModel",
      "_view_count": null,
      "_view_module": "@jupyter-widgets/base",
      "_view_module_version": "1.2.0",
      "_view_name": "LayoutView",
      "align_content": null,
      "align_items": null,
      "align_self": null,
      "border": null,
      "bottom": null,
      "display": null,
      "flex": null,
      "flex_flow": null,
      "grid_area": null,
      "grid_auto_columns": null,
      "grid_auto_flow": null,
      "grid_auto_rows": null,
      "grid_column": null,
      "grid_gap": null,
      "grid_row": null,
      "grid_template_areas": null,
      "grid_template_columns": null,
      "grid_template_rows": null,
      "height": null,
      "justify_content": null,
      "justify_items": null,
      "left": null,
      "margin": null,
      "max_height": null,
      "max_width": null,
      "min_height": null,
      "min_width": null,
      "object_fit": null,
      "object_position": null,
      "order": null,
      "overflow": null,
      "overflow_x": null,
      "overflow_y": null,
      "padding": null,
      "right": null,
      "top": null,
      "visibility": null,
      "width": null
     }
    },
    "b66dbc0fd5c54d7d8f0509f3e0905cfd": {
     "model_module": "@jupyter-widgets/base",
     "model_module_version": "1.2.0",
     "model_name": "LayoutModel",
     "state": {
      "_model_module": "@jupyter-widgets/base",
      "_model_module_version": "1.2.0",
      "_model_name": "LayoutModel",
      "_view_count": null,
      "_view_module": "@jupyter-widgets/base",
      "_view_module_version": "1.2.0",
      "_view_name": "LayoutView",
      "align_content": null,
      "align_items": null,
      "align_self": null,
      "border": null,
      "bottom": null,
      "display": null,
      "flex": null,
      "flex_flow": null,
      "grid_area": null,
      "grid_auto_columns": null,
      "grid_auto_flow": null,
      "grid_auto_rows": null,
      "grid_column": null,
      "grid_gap": null,
      "grid_row": null,
      "grid_template_areas": null,
      "grid_template_columns": null,
      "grid_template_rows": null,
      "height": null,
      "justify_content": null,
      "justify_items": null,
      "left": null,
      "margin": null,
      "max_height": null,
      "max_width": null,
      "min_height": null,
      "min_width": null,
      "object_fit": null,
      "object_position": null,
      "order": null,
      "overflow": null,
      "overflow_x": null,
      "overflow_y": null,
      "padding": null,
      "right": null,
      "top": null,
      "visibility": null,
      "width": null
     }
    },
    "bf7e9263e3444571b209b0b3df327f8d": {
     "model_module": "@jupyter-widgets/base",
     "model_module_version": "1.2.0",
     "model_name": "LayoutModel",
     "state": {
      "_model_module": "@jupyter-widgets/base",
      "_model_module_version": "1.2.0",
      "_model_name": "LayoutModel",
      "_view_count": null,
      "_view_module": "@jupyter-widgets/base",
      "_view_module_version": "1.2.0",
      "_view_name": "LayoutView",
      "align_content": null,
      "align_items": null,
      "align_self": null,
      "border": null,
      "bottom": null,
      "display": null,
      "flex": null,
      "flex_flow": null,
      "grid_area": null,
      "grid_auto_columns": null,
      "grid_auto_flow": null,
      "grid_auto_rows": null,
      "grid_column": null,
      "grid_gap": null,
      "grid_row": null,
      "grid_template_areas": null,
      "grid_template_columns": null,
      "grid_template_rows": null,
      "height": null,
      "justify_content": null,
      "justify_items": null,
      "left": null,
      "margin": null,
      "max_height": null,
      "max_width": null,
      "min_height": null,
      "min_width": null,
      "object_fit": null,
      "object_position": null,
      "order": null,
      "overflow": null,
      "overflow_x": null,
      "overflow_y": null,
      "padding": null,
      "right": null,
      "top": null,
      "visibility": null,
      "width": null
     }
    },
    "c1c6303ded154613ac4cd3ea8ec71ebc": {
     "model_module": "@jupyter-widgets/controls",
     "model_module_version": "1.5.0",
     "model_name": "HBoxModel",
     "state": {
      "_dom_classes": [],
      "_model_module": "@jupyter-widgets/controls",
      "_model_module_version": "1.5.0",
      "_model_name": "HBoxModel",
      "_view_count": null,
      "_view_module": "@jupyter-widgets/controls",
      "_view_module_version": "1.5.0",
      "_view_name": "HBoxView",
      "box_style": "",
      "children": [
       "IPY_MODEL_69eb67e65fdd423ba84f44997176eff7",
       "IPY_MODEL_c7e29ebd27834bbd9e3e351e6a055d34",
       "IPY_MODEL_477b0231acc24ac78ae032fe458193b8"
      ],
      "layout": "IPY_MODEL_cb37ce29a2a64e89b93fb8650e2822a4"
     }
    },
    "c293aed34c974d8a8d384240cd5a84ad": {
     "model_module": "@jupyter-widgets/controls",
     "model_module_version": "1.5.0",
     "model_name": "DescriptionStyleModel",
     "state": {
      "_model_module": "@jupyter-widgets/controls",
      "_model_module_version": "1.5.0",
      "_model_name": "DescriptionStyleModel",
      "_view_count": null,
      "_view_module": "@jupyter-widgets/base",
      "_view_module_version": "1.2.0",
      "_view_name": "StyleView",
      "description_width": ""
     }
    },
    "c3a0e34b236b4072affe79f0d2148730": {
     "model_module": "@jupyter-widgets/base",
     "model_module_version": "1.2.0",
     "model_name": "LayoutModel",
     "state": {
      "_model_module": "@jupyter-widgets/base",
      "_model_module_version": "1.2.0",
      "_model_name": "LayoutModel",
      "_view_count": null,
      "_view_module": "@jupyter-widgets/base",
      "_view_module_version": "1.2.0",
      "_view_name": "LayoutView",
      "align_content": null,
      "align_items": null,
      "align_self": null,
      "border": null,
      "bottom": null,
      "display": null,
      "flex": null,
      "flex_flow": null,
      "grid_area": null,
      "grid_auto_columns": null,
      "grid_auto_flow": null,
      "grid_auto_rows": null,
      "grid_column": null,
      "grid_gap": null,
      "grid_row": null,
      "grid_template_areas": null,
      "grid_template_columns": null,
      "grid_template_rows": null,
      "height": null,
      "justify_content": null,
      "justify_items": null,
      "left": null,
      "margin": null,
      "max_height": null,
      "max_width": null,
      "min_height": null,
      "min_width": null,
      "object_fit": null,
      "object_position": null,
      "order": null,
      "overflow": null,
      "overflow_x": null,
      "overflow_y": null,
      "padding": null,
      "right": null,
      "top": null,
      "visibility": null,
      "width": null
     }
    },
    "c4bfa186b05d4bb88d94ee84b13bdbed": {
     "model_module": "@jupyter-widgets/controls",
     "model_module_version": "1.5.0",
     "model_name": "ProgressStyleModel",
     "state": {
      "_model_module": "@jupyter-widgets/controls",
      "_model_module_version": "1.5.0",
      "_model_name": "ProgressStyleModel",
      "_view_count": null,
      "_view_module": "@jupyter-widgets/base",
      "_view_module_version": "1.2.0",
      "_view_name": "StyleView",
      "bar_color": null,
      "description_width": ""
     }
    },
    "c57da341e2ce4bc58d58df6d3bea5a4f": {
     "model_module": "@jupyter-widgets/base",
     "model_module_version": "1.2.0",
     "model_name": "LayoutModel",
     "state": {
      "_model_module": "@jupyter-widgets/base",
      "_model_module_version": "1.2.0",
      "_model_name": "LayoutModel",
      "_view_count": null,
      "_view_module": "@jupyter-widgets/base",
      "_view_module_version": "1.2.0",
      "_view_name": "LayoutView",
      "align_content": null,
      "align_items": null,
      "align_self": null,
      "border": null,
      "bottom": null,
      "display": null,
      "flex": null,
      "flex_flow": null,
      "grid_area": null,
      "grid_auto_columns": null,
      "grid_auto_flow": null,
      "grid_auto_rows": null,
      "grid_column": null,
      "grid_gap": null,
      "grid_row": null,
      "grid_template_areas": null,
      "grid_template_columns": null,
      "grid_template_rows": null,
      "height": null,
      "justify_content": null,
      "justify_items": null,
      "left": null,
      "margin": null,
      "max_height": null,
      "max_width": null,
      "min_height": null,
      "min_width": null,
      "object_fit": null,
      "object_position": null,
      "order": null,
      "overflow": null,
      "overflow_x": null,
      "overflow_y": null,
      "padding": null,
      "right": null,
      "top": null,
      "visibility": null,
      "width": null
     }
    },
    "c7e29ebd27834bbd9e3e351e6a055d34": {
     "model_module": "@jupyter-widgets/controls",
     "model_module_version": "1.5.0",
     "model_name": "FloatProgressModel",
     "state": {
      "_dom_classes": [],
      "_model_module": "@jupyter-widgets/controls",
      "_model_module_version": "1.5.0",
      "_model_name": "FloatProgressModel",
      "_view_count": null,
      "_view_module": "@jupyter-widgets/controls",
      "_view_module_version": "1.5.0",
      "_view_name": "ProgressView",
      "bar_style": "success",
      "description": "",
      "description_tooltip": null,
      "layout": "IPY_MODEL_c57da341e2ce4bc58d58df6d3bea5a4f",
      "max": 15,
      "min": 0,
      "orientation": "horizontal",
      "style": "IPY_MODEL_a2034b4a9cad482b8e5e4ae917401b64",
      "value": 15
     }
    },
    "c917fbf60a63463a99aaa0a5fc9b540a": {
     "model_module": "@jupyter-widgets/controls",
     "model_module_version": "1.5.0",
     "model_name": "DescriptionStyleModel",
     "state": {
      "_model_module": "@jupyter-widgets/controls",
      "_model_module_version": "1.5.0",
      "_model_name": "DescriptionStyleModel",
      "_view_count": null,
      "_view_module": "@jupyter-widgets/base",
      "_view_module_version": "1.2.0",
      "_view_name": "StyleView",
      "description_width": ""
     }
    },
    "cb37ce29a2a64e89b93fb8650e2822a4": {
     "model_module": "@jupyter-widgets/base",
     "model_module_version": "1.2.0",
     "model_name": "LayoutModel",
     "state": {
      "_model_module": "@jupyter-widgets/base",
      "_model_module_version": "1.2.0",
      "_model_name": "LayoutModel",
      "_view_count": null,
      "_view_module": "@jupyter-widgets/base",
      "_view_module_version": "1.2.0",
      "_view_name": "LayoutView",
      "align_content": null,
      "align_items": null,
      "align_self": null,
      "border": null,
      "bottom": null,
      "display": null,
      "flex": null,
      "flex_flow": null,
      "grid_area": null,
      "grid_auto_columns": null,
      "grid_auto_flow": null,
      "grid_auto_rows": null,
      "grid_column": null,
      "grid_gap": null,
      "grid_row": null,
      "grid_template_areas": null,
      "grid_template_columns": null,
      "grid_template_rows": null,
      "height": null,
      "justify_content": null,
      "justify_items": null,
      "left": null,
      "margin": null,
      "max_height": null,
      "max_width": null,
      "min_height": null,
      "min_width": null,
      "object_fit": null,
      "object_position": null,
      "order": null,
      "overflow": null,
      "overflow_x": null,
      "overflow_y": null,
      "padding": null,
      "right": null,
      "top": null,
      "visibility": null,
      "width": null
     }
    },
    "dd9935cd73c54b30aa955a1ab6723bf7": {
     "model_module": "@jupyter-widgets/controls",
     "model_module_version": "1.5.0",
     "model_name": "DescriptionStyleModel",
     "state": {
      "_model_module": "@jupyter-widgets/controls",
      "_model_module_version": "1.5.0",
      "_model_name": "DescriptionStyleModel",
      "_view_count": null,
      "_view_module": "@jupyter-widgets/base",
      "_view_module_version": "1.2.0",
      "_view_name": "StyleView",
      "description_width": ""
     }
    },
    "ec723fae3d874c07ae4be386759fe459": {
     "model_module": "@jupyter-widgets/controls",
     "model_module_version": "1.5.0",
     "model_name": "FloatProgressModel",
     "state": {
      "_dom_classes": [],
      "_model_module": "@jupyter-widgets/controls",
      "_model_module_version": "1.5.0",
      "_model_name": "FloatProgressModel",
      "_view_count": null,
      "_view_module": "@jupyter-widgets/controls",
      "_view_module_version": "1.5.0",
      "_view_name": "ProgressView",
      "bar_style": "success",
      "description": "",
      "description_tooltip": null,
      "layout": "IPY_MODEL_5458394854f44c61a067475cdce0b3d1",
      "max": 8699,
      "min": 0,
      "orientation": "horizontal",
      "style": "IPY_MODEL_2f150c3d7b8c48d68439f293c8275c06",
      "value": 8699
     }
    },
    "ed8c6cf3cf5941fabca10fb8c6e3c9bf": {
     "model_module": "@jupyter-widgets/controls",
     "model_module_version": "1.5.0",
     "model_name": "HBoxModel",
     "state": {
      "_dom_classes": [],
      "_model_module": "@jupyter-widgets/controls",
      "_model_module_version": "1.5.0",
      "_model_name": "HBoxModel",
      "_view_count": null,
      "_view_module": "@jupyter-widgets/controls",
      "_view_module_version": "1.5.0",
      "_view_name": "HBoxView",
      "box_style": "",
      "children": [
       "IPY_MODEL_a9f1e8dde6ed420e814404f32b550d9b",
       "IPY_MODEL_43362f65d7f3409ab7a1b3485bcb0c4f",
       "IPY_MODEL_2b93c96d79c547d0a8655e53ed57fffc"
      ],
      "layout": "IPY_MODEL_b28493691df240448c40c1b4d77983b1"
     }
    },
    "f04100112ce843f1a29892ff2709c4b1": {
     "model_module": "@jupyter-widgets/controls",
     "model_module_version": "1.5.0",
     "model_name": "HTMLModel",
     "state": {
      "_dom_classes": [],
      "_model_module": "@jupyter-widgets/controls",
      "_model_module_version": "1.5.0",
      "_model_name": "HTMLModel",
      "_view_count": null,
      "_view_module": "@jupyter-widgets/controls",
      "_view_module_version": "1.5.0",
      "_view_name": "HTMLView",
      "description": "",
      "description_tooltip": null,
      "layout": "IPY_MODEL_91209228dd544429b1d437ef9cf1d4d3",
      "placeholder": "​",
      "style": "IPY_MODEL_81289997aad14b46b52d2d9ac0daa461",
      "value": " 121/121 [00:15&lt;00:00, 13.62it/s]"
     }
    },
    "fa07917dd64746fbad8d002bba0c4b2c": {
     "model_module": "@jupyter-widgets/base",
     "model_module_version": "1.2.0",
     "model_name": "LayoutModel",
     "state": {
      "_model_module": "@jupyter-widgets/base",
      "_model_module_version": "1.2.0",
      "_model_name": "LayoutModel",
      "_view_count": null,
      "_view_module": "@jupyter-widgets/base",
      "_view_module_version": "1.2.0",
      "_view_name": "LayoutView",
      "align_content": null,
      "align_items": null,
      "align_self": null,
      "border": null,
      "bottom": null,
      "display": null,
      "flex": null,
      "flex_flow": null,
      "grid_area": null,
      "grid_auto_columns": null,
      "grid_auto_flow": null,
      "grid_auto_rows": null,
      "grid_column": null,
      "grid_gap": null,
      "grid_row": null,
      "grid_template_areas": null,
      "grid_template_columns": null,
      "grid_template_rows": null,
      "height": null,
      "justify_content": null,
      "justify_items": null,
      "left": null,
      "margin": null,
      "max_height": null,
      "max_width": null,
      "min_height": null,
      "min_width": null,
      "object_fit": null,
      "object_position": null,
      "order": null,
      "overflow": null,
      "overflow_x": null,
      "overflow_y": null,
      "padding": null,
      "right": null,
      "top": null,
      "visibility": null,
      "width": null
     }
    },
    "fa0cf84a13384b6cadd757249f8e8408": {
     "model_module": "@jupyter-widgets/controls",
     "model_module_version": "1.5.0",
     "model_name": "ProgressStyleModel",
     "state": {
      "_model_module": "@jupyter-widgets/controls",
      "_model_module_version": "1.5.0",
      "_model_name": "ProgressStyleModel",
      "_view_count": null,
      "_view_module": "@jupyter-widgets/base",
      "_view_module_version": "1.2.0",
      "_view_name": "StyleView",
      "bar_color": null,
      "description_width": ""
     }
    },
    "fbaca8a47b234903a0f0a33a544b2082": {
     "model_module": "@jupyter-widgets/base",
     "model_module_version": "1.2.0",
     "model_name": "LayoutModel",
     "state": {
      "_model_module": "@jupyter-widgets/base",
      "_model_module_version": "1.2.0",
      "_model_name": "LayoutModel",
      "_view_count": null,
      "_view_module": "@jupyter-widgets/base",
      "_view_module_version": "1.2.0",
      "_view_name": "LayoutView",
      "align_content": null,
      "align_items": null,
      "align_self": null,
      "border": null,
      "bottom": null,
      "display": null,
      "flex": null,
      "flex_flow": null,
      "grid_area": null,
      "grid_auto_columns": null,
      "grid_auto_flow": null,
      "grid_auto_rows": null,
      "grid_column": null,
      "grid_gap": null,
      "grid_row": null,
      "grid_template_areas": null,
      "grid_template_columns": null,
      "grid_template_rows": null,
      "height": null,
      "justify_content": null,
      "justify_items": null,
      "left": null,
      "margin": null,
      "max_height": null,
      "max_width": null,
      "min_height": null,
      "min_width": null,
      "object_fit": null,
      "object_position": null,
      "order": null,
      "overflow": null,
      "overflow_x": null,
      "overflow_y": null,
      "padding": null,
      "right": null,
      "top": null,
      "visibility": null,
      "width": null
     }
    },
    "fbe328e6e7f548858ff6d23968ae89b8": {
     "model_module": "@jupyter-widgets/base",
     "model_module_version": "1.2.0",
     "model_name": "LayoutModel",
     "state": {
      "_model_module": "@jupyter-widgets/base",
      "_model_module_version": "1.2.0",
      "_model_name": "LayoutModel",
      "_view_count": null,
      "_view_module": "@jupyter-widgets/base",
      "_view_module_version": "1.2.0",
      "_view_name": "LayoutView",
      "align_content": null,
      "align_items": null,
      "align_self": null,
      "border": null,
      "bottom": null,
      "display": null,
      "flex": null,
      "flex_flow": null,
      "grid_area": null,
      "grid_auto_columns": null,
      "grid_auto_flow": null,
      "grid_auto_rows": null,
      "grid_column": null,
      "grid_gap": null,
      "grid_row": null,
      "grid_template_areas": null,
      "grid_template_columns": null,
      "grid_template_rows": null,
      "height": null,
      "justify_content": null,
      "justify_items": null,
      "left": null,
      "margin": null,
      "max_height": null,
      "max_width": null,
      "min_height": null,
      "min_width": null,
      "object_fit": null,
      "object_position": null,
      "order": null,
      "overflow": null,
      "overflow_x": null,
      "overflow_y": null,
      "padding": null,
      "right": null,
      "top": null,
      "visibility": null,
      "width": null
     }
    },
    "ff0cc35fa2904ff6bbb5b3395f0ec27f": {
     "model_module": "@jupyter-widgets/base",
     "model_module_version": "1.2.0",
     "model_name": "LayoutModel",
     "state": {
      "_model_module": "@jupyter-widgets/base",
      "_model_module_version": "1.2.0",
      "_model_name": "LayoutModel",
      "_view_count": null,
      "_view_module": "@jupyter-widgets/base",
      "_view_module_version": "1.2.0",
      "_view_name": "LayoutView",
      "align_content": null,
      "align_items": null,
      "align_self": null,
      "border": null,
      "bottom": null,
      "display": null,
      "flex": null,
      "flex_flow": null,
      "grid_area": null,
      "grid_auto_columns": null,
      "grid_auto_flow": null,
      "grid_auto_rows": null,
      "grid_column": null,
      "grid_gap": null,
      "grid_row": null,
      "grid_template_areas": null,
      "grid_template_columns": null,
      "grid_template_rows": null,
      "height": null,
      "justify_content": null,
      "justify_items": null,
      "left": null,
      "margin": null,
      "max_height": null,
      "max_width": null,
      "min_height": null,
      "min_width": null,
      "object_fit": null,
      "object_position": null,
      "order": null,
      "overflow": null,
      "overflow_x": null,
      "overflow_y": null,
      "padding": null,
      "right": null,
      "top": null,
      "visibility": null,
      "width": null
     }
    }
   }
  }
 },
 "nbformat": 4,
 "nbformat_minor": 1
}
