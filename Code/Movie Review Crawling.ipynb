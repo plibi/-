{
 "cells": [
  {
   "cell_type": "code",
   "execution_count": 1,
   "metadata": {},
   "outputs": [],
   "source": [
    "from selenium import webdriver\n",
    "from webdriver_manager.chrome import ChromeDriverManager\n",
    "from selenium.webdriver.common.by import By\n",
    "from selenium.webdriver.support.ui import WebDriverWait\n",
    "from selenium.webdriver.support import expected_conditions as EC\n",
    "import pandas as pd\n",
    "from tqdm.notebook import tqdm\n",
    "import re\n",
    "import time\n",
    "import datetime\n",
    "import requests\n",
    "from bs4 import BeautifulSoup"
   ]
  },
  {
   "cell_type": "code",
   "execution_count": null,
   "metadata": {},
   "outputs": [],
   "source": [
    "chrome_options = webdriver.ChromeOptions()\n",
    "chrome_options.add_argument('--headless')  # 창 뜨지 않게\n",
    "chrome_options.add_argument('--no-sandbox')  # gui x\n",
    "chrome_options.add_argument('--disable-dev-shm-usage')  # /deb/shm 디렉토리를 사용 x 공유메모리 관련\n",
    "driver = webdriver.Chrome(ChromeDriverManager().install(), options = chrome_options)"
   ]
  },
  {
   "cell_type": "code",
   "execution_count": 3,
   "metadata": {},
   "outputs": [],
   "source": [
    "crawling_path = '/content/drive/MyDrive/final-project/data/'"
   ]
  },
  {
   "cell_type": "code",
   "execution_count": 4,
   "metadata": {},
   "outputs": [],
   "source": [
    "def movie_crawling(date, genre, genre_num, page, end_review):\n",
    "    review_list = []\n",
    "    for i in tqdm(range(1, page+1)):\n",
    "        url = f'https://movie.naver.com/movie/sdb/rank/rmovie.naver?sel=pnt&date={date}&tg={genre_num}&page={i}'\n",
    "        response = requests.get(url)\n",
    "        time.sleep(1.5)\n",
    "        html = response.text\n",
    "        soup = BeautifulSoup(html, 'html.parser')\n",
    "        movie_list = []\n",
    "        re_com = re.compile('\\d+')\n",
    "        for a in soup.find_all('div', class_ = 'tit5'):\n",
    "            movie_list.append(re_com.findall(a.find('a')['href'])[0])\n",
    "        for now, movie in enumerate(tqdm(movie_list)):\n",
    "            url_2 = f'https://movie.naver.com/movie/bi/mi/point.naver?code={movie}#tab'\n",
    "            driver.get(url_2)\n",
    "            time.sleep(2)\n",
    "            try:\n",
    "                movie_name = driver.find_element(by='xpath', value='//*[@id=\"content\"]/div[1]/div[2]/div[1]/h3/a').text\n",
    "            except:\n",
    "                continue\n",
    "            for num in range(1, end_review):\n",
    "                review_page = f'https://movie.naver.com/movie/bi/mi/pointWriteFormList.naver?code={movie}&page={num}'   # 사용자 리뷰들만 있는 웹페이지\n",
    "                driver.get(review_page)\n",
    "                time.sleep(1.5)\n",
    "                try:\n",
    "                    for i in range(1, 10):\n",
    "                        score = driver.find_element(by='xpath', value = f'/html/body/div/div/div[5]/ul/li[{i}]/div[1]/em').text\n",
    "                        review = driver.find_element(by='xpath', value =f'/html/body/div/div/div[5]/ul/li[{i}]/div[2]/p/span').text\n",
    "                        review_list.append([genre, movie_name, score, review])\n",
    "                except:\n",
    "                    break\n",
    "            # if now!=0 and now%25==0:\n",
    "            #     print(f'Time:{datetime.datetime.now().strftime(\"%m-%d %H:%M\")}', f'{genre}_{now}_{movie_name} ')\n",
    "    return review_list"
   ]
  },
  {
   "cell_type": "code",
   "execution_count": 5,
   "metadata": {},
   "outputs": [],
   "source": [
    "page_dic = {'드라마':(1,23),\n",
    "            '판타지':(2,3),\n",
    "            '공포':(3,6),\n",
    "            '멜로/애정/로맨스':(5,7),\n",
    "            '모험':(6,3),\n",
    "            '스릴러':(7,4),\n",
    "            '느와르':(8,1),\n",
    "            '다큐멘터리':(10,3),\n",
    "            '코미디':(11,11),\n",
    "            '가족':(12,1),\n",
    "            '미스터리':(13,2),\n",
    "            '전쟁':(14,1),\n",
    "            '애니메이션':(15,9),\n",
    "            '범죄':(16,6),\n",
    "            '뮤지컬':(17,1),\n",
    "            'SF':(18,4),\n",
    "            '액션':(19,16)}"
   ]
  },
  {
   "cell_type": "code",
   "execution_count": 6,
   "metadata": {},
   "outputs": [],
   "source": [
    "# 한번에 모든 장르 크롤링\n",
    "# review_max = 100\n",
    "# date = 20220428\n",
    "# for genre in tqdm(page_dic):\n",
    "#     review = movie_crawling(date, genre, page_dic[genre][0], page_dic[genre][1], review_max)\n",
    "#     review = pd.DataFrame(review, columns = ['genre', 'movie_name', 'score','review'])\n",
    "#     review.to_csv(crawling_path+ fr'\\movie_crawling_{genre}.csv')"
   ]
  },
  {
   "cell_type": "code",
   "execution_count": 7,
   "metadata": {},
   "outputs": [
    {
     "data": {
      "application/vnd.jupyter.widget-view+json": {
       "model_id": "e080da2ba8f24a71b370b30ae5f0c031",
       "version_major": 2,
       "version_minor": 0
      },
      "text/plain": [
       "  0%|          | 0/23 [00:00<?, ?it/s]"
      ]
     },
     "metadata": {},
     "output_type": "display_data"
    },
    {
     "data": {
      "application/vnd.jupyter.widget-view+json": {
       "model_id": "d630efc442244effa6ed83a6017538d5",
       "version_major": 2,
       "version_minor": 0
      },
      "text/plain": [
       "  0%|          | 0/50 [00:00<?, ?it/s]"
      ]
     },
     "metadata": {},
     "output_type": "display_data"
    },
    {
     "data": {
      "application/vnd.jupyter.widget-view+json": {
       "model_id": "598f74865fb446d8b9556b636798b71d",
       "version_major": 2,
       "version_minor": 0
      },
      "text/plain": [
       "  0%|          | 0/50 [00:00<?, ?it/s]"
      ]
     },
     "metadata": {},
     "output_type": "display_data"
    },
    {
     "data": {
      "application/vnd.jupyter.widget-view+json": {
       "model_id": "04e61fdb1c634d37a073547e237db893",
       "version_major": 2,
       "version_minor": 0
      },
      "text/plain": [
       "  0%|          | 0/50 [00:00<?, ?it/s]"
      ]
     },
     "metadata": {},
     "output_type": "display_data"
    },
    {
     "data": {
      "application/vnd.jupyter.widget-view+json": {
       "model_id": "edae850d967f4d19bdc2254eaf08bd86",
       "version_major": 2,
       "version_minor": 0
      },
      "text/plain": [
       "  0%|          | 0/50 [00:00<?, ?it/s]"
      ]
     },
     "metadata": {},
     "output_type": "display_data"
    },
    {
     "data": {
      "application/vnd.jupyter.widget-view+json": {
       "model_id": "c60e9804e628463ba730b797a998af3f",
       "version_major": 2,
       "version_minor": 0
      },
      "text/plain": [
       "  0%|          | 0/50 [00:00<?, ?it/s]"
      ]
     },
     "metadata": {},
     "output_type": "display_data"
    },
    {
     "data": {
      "application/vnd.jupyter.widget-view+json": {
       "model_id": "f7003301196b4a829bc5acbaa4882929",
       "version_major": 2,
       "version_minor": 0
      },
      "text/plain": [
       "  0%|          | 0/50 [00:00<?, ?it/s]"
      ]
     },
     "metadata": {},
     "output_type": "display_data"
    },
    {
     "data": {
      "application/vnd.jupyter.widget-view+json": {
       "model_id": "d9a345c6a4e24cfaba51386af9a3da25",
       "version_major": 2,
       "version_minor": 0
      },
      "text/plain": [
       "  0%|          | 0/50 [00:00<?, ?it/s]"
      ]
     },
     "metadata": {},
     "output_type": "display_data"
    },
    {
     "data": {
      "application/vnd.jupyter.widget-view+json": {
       "model_id": "98b5f7c2fc1b4265887db7b3e5e85969",
       "version_major": 2,
       "version_minor": 0
      },
      "text/plain": [
       "  0%|          | 0/50 [00:00<?, ?it/s]"
      ]
     },
     "metadata": {},
     "output_type": "display_data"
    },
    {
     "data": {
      "application/vnd.jupyter.widget-view+json": {
       "model_id": "b8a1f323831547d69785dd19e3ec3e09",
       "version_major": 2,
       "version_minor": 0
      },
      "text/plain": [
       "  0%|          | 0/50 [00:00<?, ?it/s]"
      ]
     },
     "metadata": {},
     "output_type": "display_data"
    },
    {
     "data": {
      "application/vnd.jupyter.widget-view+json": {
       "model_id": "14999fa03cef43eeb1d13388a1187933",
       "version_major": 2,
       "version_minor": 0
      },
      "text/plain": [
       "  0%|          | 0/50 [00:00<?, ?it/s]"
      ]
     },
     "metadata": {},
     "output_type": "display_data"
    },
    {
     "data": {
      "application/vnd.jupyter.widget-view+json": {
       "model_id": "1669a7038fab44b6bbc445a440d98a6d",
       "version_major": 2,
       "version_minor": 0
      },
      "text/plain": [
       "  0%|          | 0/50 [00:00<?, ?it/s]"
      ]
     },
     "metadata": {},
     "output_type": "display_data"
    },
    {
     "data": {
      "application/vnd.jupyter.widget-view+json": {
       "model_id": "02590f0f619d4333ae65e3b075da4caa",
       "version_major": 2,
       "version_minor": 0
      },
      "text/plain": [
       "  0%|          | 0/50 [00:00<?, ?it/s]"
      ]
     },
     "metadata": {},
     "output_type": "display_data"
    },
    {
     "data": {
      "application/vnd.jupyter.widget-view+json": {
       "model_id": "c91460e65da94c2f97ae0ca3edd29132",
       "version_major": 2,
       "version_minor": 0
      },
      "text/plain": [
       "  0%|          | 0/50 [00:00<?, ?it/s]"
      ]
     },
     "metadata": {},
     "output_type": "display_data"
    },
    {
     "data": {
      "application/vnd.jupyter.widget-view+json": {
       "model_id": "ec5e71cad8fa404fb14d6d57692b12e6",
       "version_major": 2,
       "version_minor": 0
      },
      "text/plain": [
       "  0%|          | 0/50 [00:00<?, ?it/s]"
      ]
     },
     "metadata": {},
     "output_type": "display_data"
    },
    {
     "data": {
      "application/vnd.jupyter.widget-view+json": {
       "model_id": "a76e07970da44c93afede3b9ae70eaf1",
       "version_major": 2,
       "version_minor": 0
      },
      "text/plain": [
       "  0%|          | 0/50 [00:00<?, ?it/s]"
      ]
     },
     "metadata": {},
     "output_type": "display_data"
    },
    {
     "data": {
      "application/vnd.jupyter.widget-view+json": {
       "model_id": "790c52add14540e0b575925f59905f4d",
       "version_major": 2,
       "version_minor": 0
      },
      "text/plain": [
       "  0%|          | 0/50 [00:00<?, ?it/s]"
      ]
     },
     "metadata": {},
     "output_type": "display_data"
    },
    {
     "data": {
      "application/vnd.jupyter.widget-view+json": {
       "model_id": "64b189e65d9146cdb9ebe5bf625430ba",
       "version_major": 2,
       "version_minor": 0
      },
      "text/plain": [
       "  0%|          | 0/50 [00:00<?, ?it/s]"
      ]
     },
     "metadata": {},
     "output_type": "display_data"
    },
    {
     "data": {
      "application/vnd.jupyter.widget-view+json": {
       "model_id": "f6dc7b1532cc4afc8a49c57fc366680d",
       "version_major": 2,
       "version_minor": 0
      },
      "text/plain": [
       "  0%|          | 0/50 [00:00<?, ?it/s]"
      ]
     },
     "metadata": {},
     "output_type": "display_data"
    },
    {
     "data": {
      "application/vnd.jupyter.widget-view+json": {
       "model_id": "3e972bcf2f2f4bcb86e80a8288fe89b0",
       "version_major": 2,
       "version_minor": 0
      },
      "text/plain": [
       "  0%|          | 0/50 [00:00<?, ?it/s]"
      ]
     },
     "metadata": {},
     "output_type": "display_data"
    },
    {
     "data": {
      "application/vnd.jupyter.widget-view+json": {
       "model_id": "ac64b6a7f05c4a18b8e397541d82c7a3",
       "version_major": 2,
       "version_minor": 0
      },
      "text/plain": [
       "  0%|          | 0/50 [00:00<?, ?it/s]"
      ]
     },
     "metadata": {},
     "output_type": "display_data"
    },
    {
     "data": {
      "application/vnd.jupyter.widget-view+json": {
       "model_id": "9c455351cbee4e1a8af508e7d1b46056",
       "version_major": 2,
       "version_minor": 0
      },
      "text/plain": [
       "  0%|          | 0/50 [00:00<?, ?it/s]"
      ]
     },
     "metadata": {},
     "output_type": "display_data"
    },
    {
     "data": {
      "application/vnd.jupyter.widget-view+json": {
       "model_id": "54786d3fbc7243da90f9284296ba3ebc",
       "version_major": 2,
       "version_minor": 0
      },
      "text/plain": [
       "  0%|          | 0/50 [00:00<?, ?it/s]"
      ]
     },
     "metadata": {},
     "output_type": "display_data"
    },
    {
     "data": {
      "application/vnd.jupyter.widget-view+json": {
       "model_id": "1bb1bed002184c3ba941eddc698828a6",
       "version_major": 2,
       "version_minor": 0
      },
      "text/plain": [
       "  0%|          | 0/37 [00:00<?, ?it/s]"
      ]
     },
     "metadata": {},
     "output_type": "display_data"
    }
   ],
   "source": [
    "# genre 에 원하는 장르 하나씩 크롤링\n",
    "genre = '드라마'\n",
    "review_max = 100\n",
    "date = 20220428\n",
    "today = datetime.datetime.now().strftime('%y%m%d')\n",
    "review = movie_crawling(date, genre, page_dic[genre][0], page_dic[genre][1], review_max)\n",
    "review = pd.DataFrame(review, columns = ['genre', 'movie_name', 'score','review'])\n",
    "review.to_csv(crawling_path+ fr'\\movie_crawling_{genre}_{today}.csv')"
   ]
  },
  {
   "cell_type": "code",
   "execution_count": null,
   "metadata": {},
   "outputs": [],
   "source": [
    "# genres = ['드라마'] => 재현\n",
    "# genres = ['멜로/애정/로맨스', '모험', '스릴러', '느와르', '범죄'] => 준호\n",
    "# genres = ['코미디', '가족', '미스터리', '애니메이션'] => 석창\n",
    "# genres = ['뮤지컬', '액션', '다큐멘터리', '전쟁'] => 예슬\n",
    "\n",
    "review_max = 100\n",
    "date = 20220428\n",
    "today = datetime.datetime.now().strftime('%y%m%d')\n",
    "for genre in genres:\n",
    "    review = movie_crawling(date, genre, page_dic[genre][0], page_dic[genre][1], review_max)\n",
    "    review = pd.DataFrame(review, columns = ['genre', 'movie_name', 'score','review'])\n",
    "    review.to_csv(crawling_path+ fr'\\movie_crawling_{genre}_{today}.csv')"
   ]
  }
 ],
 "metadata": {
  "hide_input": false,
  "interpreter": {
   "hash": "ad2bdc8ecc057115af97d19610ffacc2b4e99fae6737bb82f5d7fb13d2f2c186"
  },
  "kernelspec": {
   "display_name": "Python 3 (ipykernel)",
   "language": "python",
   "name": "python3"
  },
  "language_info": {
   "codemirror_mode": {
    "name": "ipython",
    "version": 3
   },
   "file_extension": ".py",
   "mimetype": "text/x-python",
   "name": "python",
   "nbconvert_exporter": "python",
   "pygments_lexer": "ipython3",
   "version": "3.9.12"
  },
  "latex_envs": {
   "LaTeX_envs_menu_present": true,
   "autoclose": false,
   "autocomplete": true,
   "bibliofile": "biblio.bib",
   "cite_by": "apalike",
   "current_citInitial": 1,
   "eqLabelWithNumbers": true,
   "eqNumInitial": 1,
   "hotkeys": {
    "equation": "Ctrl-E",
    "itemize": "Ctrl-I"
   },
   "labels_anchors": false,
   "latex_user_defs": false,
   "report_style_numbering": false,
   "user_envs_cfg": false
  },
  "toc": {
   "base_numbering": 1,
   "nav_menu": {},
   "number_sections": false,
   "sideBar": true,
   "skip_h1_title": false,
   "title_cell": "Table of Contents",
   "title_sidebar": "Contents",
   "toc_cell": false,
   "toc_position": {},
   "toc_section_display": true,
   "toc_window_display": false
  },
  "varInspector": {
   "cols": {
    "lenName": 16,
    "lenType": 16,
    "lenVar": 40
   },
   "kernels_config": {
    "python": {
     "delete_cmd_postfix": "",
     "delete_cmd_prefix": "del ",
     "library": "var_list.py",
     "varRefreshCmd": "print(var_dic_list())"
    },
    "r": {
     "delete_cmd_postfix": ") ",
     "delete_cmd_prefix": "rm(",
     "library": "var_list.r",
     "varRefreshCmd": "cat(var_dic_list()) "
    }
   },
   "types_to_exclude": [
    "module",
    "function",
    "builtin_function_or_method",
    "instance",
    "_Feature"
   ],
   "window_display": false
  }
 },
 "nbformat": 4,
 "nbformat_minor": 2
}
